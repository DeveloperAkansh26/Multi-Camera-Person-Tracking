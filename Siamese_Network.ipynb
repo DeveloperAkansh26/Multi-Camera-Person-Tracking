{
  "cells": [
    {
      "cell_type": "code",
      "execution_count": 1,
      "metadata": {
        "colab": {
          "base_uri": "https://localhost:8080/"
        },
        "id": "ng5kt7rFN2VZ",
        "outputId": "47344365-8c02-47df-cc4e-1e2cebd09532"
      },
      "outputs": [
        {
          "name": "stdout",
          "output_type": "stream",
          "text": [
            "Requirement already satisfied: segmentation-models-pytorch in /home/akansh_26/anaconda3/lib/python3.12/site-packages (0.4.0)\n",
            "Requirement already satisfied: efficientnet-pytorch>=0.6.1 in /home/akansh_26/anaconda3/lib/python3.12/site-packages (from segmentation-models-pytorch) (0.7.1)\n",
            "Requirement already satisfied: huggingface-hub>=0.24 in /home/akansh_26/anaconda3/lib/python3.12/site-packages (from segmentation-models-pytorch) (0.28.1)\n",
            "Requirement already satisfied: numpy>=1.19.3 in /home/akansh_26/anaconda3/lib/python3.12/site-packages (from segmentation-models-pytorch) (1.26.4)\n",
            "Requirement already satisfied: pillow>=8 in /home/akansh_26/anaconda3/lib/python3.12/site-packages (from segmentation-models-pytorch) (10.4.0)\n",
            "Requirement already satisfied: pretrainedmodels>=0.7.1 in /home/akansh_26/anaconda3/lib/python3.12/site-packages (from segmentation-models-pytorch) (0.7.4)\n",
            "Requirement already satisfied: six>=1.5 in /home/akansh_26/anaconda3/lib/python3.12/site-packages (from segmentation-models-pytorch) (1.16.0)\n",
            "Requirement already satisfied: timm>=0.9 in /home/akansh_26/anaconda3/lib/python3.12/site-packages (from segmentation-models-pytorch) (1.0.14)\n",
            "Requirement already satisfied: torch>=1.8 in /home/akansh_26/anaconda3/lib/python3.12/site-packages (from segmentation-models-pytorch) (2.6.0)\n",
            "Requirement already satisfied: torchvision>=0.9 in /home/akansh_26/anaconda3/lib/python3.12/site-packages (from segmentation-models-pytorch) (0.21.0)\n",
            "Requirement already satisfied: tqdm>=4.42.1 in /home/akansh_26/anaconda3/lib/python3.12/site-packages (from segmentation-models-pytorch) (4.66.5)\n",
            "Requirement already satisfied: filelock in /home/akansh_26/anaconda3/lib/python3.12/site-packages (from huggingface-hub>=0.24->segmentation-models-pytorch) (3.13.1)\n",
            "Requirement already satisfied: fsspec>=2023.5.0 in /home/akansh_26/anaconda3/lib/python3.12/site-packages (from huggingface-hub>=0.24->segmentation-models-pytorch) (2024.6.1)\n",
            "Requirement already satisfied: packaging>=20.9 in /home/akansh_26/anaconda3/lib/python3.12/site-packages (from huggingface-hub>=0.24->segmentation-models-pytorch) (24.1)\n",
            "Requirement already satisfied: pyyaml>=5.1 in /home/akansh_26/anaconda3/lib/python3.12/site-packages (from huggingface-hub>=0.24->segmentation-models-pytorch) (6.0.1)\n",
            "Requirement already satisfied: requests in /home/akansh_26/anaconda3/lib/python3.12/site-packages (from huggingface-hub>=0.24->segmentation-models-pytorch) (2.32.3)\n",
            "Requirement already satisfied: typing-extensions>=3.7.4.3 in /home/akansh_26/anaconda3/lib/python3.12/site-packages (from huggingface-hub>=0.24->segmentation-models-pytorch) (4.12.2)\n",
            "Requirement already satisfied: munch in /home/akansh_26/anaconda3/lib/python3.12/site-packages (from pretrainedmodels>=0.7.1->segmentation-models-pytorch) (4.0.0)\n",
            "Requirement already satisfied: safetensors in /home/akansh_26/anaconda3/lib/python3.12/site-packages (from timm>=0.9->segmentation-models-pytorch) (0.5.2)\n",
            "Requirement already satisfied: networkx in /home/akansh_26/anaconda3/lib/python3.12/site-packages (from torch>=1.8->segmentation-models-pytorch) (3.3)\n",
            "Requirement already satisfied: jinja2 in /home/akansh_26/anaconda3/lib/python3.12/site-packages (from torch>=1.8->segmentation-models-pytorch) (3.1.4)\n",
            "Requirement already satisfied: nvidia-cuda-nvrtc-cu12==12.4.127 in /home/akansh_26/anaconda3/lib/python3.12/site-packages (from torch>=1.8->segmentation-models-pytorch) (12.4.127)\n",
            "Requirement already satisfied: nvidia-cuda-runtime-cu12==12.4.127 in /home/akansh_26/anaconda3/lib/python3.12/site-packages (from torch>=1.8->segmentation-models-pytorch) (12.4.127)\n",
            "Requirement already satisfied: nvidia-cuda-cupti-cu12==12.4.127 in /home/akansh_26/anaconda3/lib/python3.12/site-packages (from torch>=1.8->segmentation-models-pytorch) (12.4.127)\n",
            "Requirement already satisfied: nvidia-cudnn-cu12==9.1.0.70 in /home/akansh_26/anaconda3/lib/python3.12/site-packages (from torch>=1.8->segmentation-models-pytorch) (9.1.0.70)\n",
            "Requirement already satisfied: nvidia-cublas-cu12==12.4.5.8 in /home/akansh_26/anaconda3/lib/python3.12/site-packages (from torch>=1.8->segmentation-models-pytorch) (12.4.5.8)\n",
            "Requirement already satisfied: nvidia-cufft-cu12==11.2.1.3 in /home/akansh_26/anaconda3/lib/python3.12/site-packages (from torch>=1.8->segmentation-models-pytorch) (11.2.1.3)\n",
            "Requirement already satisfied: nvidia-curand-cu12==10.3.5.147 in /home/akansh_26/anaconda3/lib/python3.12/site-packages (from torch>=1.8->segmentation-models-pytorch) (10.3.5.147)\n",
            "Requirement already satisfied: nvidia-cusolver-cu12==11.6.1.9 in /home/akansh_26/anaconda3/lib/python3.12/site-packages (from torch>=1.8->segmentation-models-pytorch) (11.6.1.9)\n",
            "Requirement already satisfied: nvidia-cusparse-cu12==12.3.1.170 in /home/akansh_26/anaconda3/lib/python3.12/site-packages (from torch>=1.8->segmentation-models-pytorch) (12.3.1.170)\n",
            "Requirement already satisfied: nvidia-cusparselt-cu12==0.6.2 in /home/akansh_26/anaconda3/lib/python3.12/site-packages (from torch>=1.8->segmentation-models-pytorch) (0.6.2)\n",
            "Requirement already satisfied: nvidia-nccl-cu12==2.21.5 in /home/akansh_26/anaconda3/lib/python3.12/site-packages (from torch>=1.8->segmentation-models-pytorch) (2.21.5)\n",
            "Requirement already satisfied: nvidia-nvtx-cu12==12.4.127 in /home/akansh_26/anaconda3/lib/python3.12/site-packages (from torch>=1.8->segmentation-models-pytorch) (12.4.127)\n",
            "Requirement already satisfied: nvidia-nvjitlink-cu12==12.4.127 in /home/akansh_26/anaconda3/lib/python3.12/site-packages (from torch>=1.8->segmentation-models-pytorch) (12.4.127)\n",
            "Requirement already satisfied: triton==3.2.0 in /home/akansh_26/anaconda3/lib/python3.12/site-packages (from torch>=1.8->segmentation-models-pytorch) (3.2.0)\n",
            "Requirement already satisfied: setuptools in /home/akansh_26/anaconda3/lib/python3.12/site-packages (from torch>=1.8->segmentation-models-pytorch) (75.1.0)\n",
            "Requirement already satisfied: sympy==1.13.1 in /home/akansh_26/anaconda3/lib/python3.12/site-packages (from torch>=1.8->segmentation-models-pytorch) (1.13.1)\n",
            "Requirement already satisfied: mpmath<1.4,>=1.1.0 in /home/akansh_26/anaconda3/lib/python3.12/site-packages (from sympy==1.13.1->torch>=1.8->segmentation-models-pytorch) (1.3.0)\n",
            "Requirement already satisfied: MarkupSafe>=2.0 in /home/akansh_26/anaconda3/lib/python3.12/site-packages (from jinja2->torch>=1.8->segmentation-models-pytorch) (2.1.3)\n",
            "Requirement already satisfied: charset-normalizer<4,>=2 in /home/akansh_26/anaconda3/lib/python3.12/site-packages (from requests->huggingface-hub>=0.24->segmentation-models-pytorch) (3.3.2)\n",
            "Requirement already satisfied: idna<4,>=2.5 in /home/akansh_26/anaconda3/lib/python3.12/site-packages (from requests->huggingface-hub>=0.24->segmentation-models-pytorch) (3.7)\n",
            "Requirement already satisfied: urllib3<3,>=1.21.1 in /home/akansh_26/anaconda3/lib/python3.12/site-packages (from requests->huggingface-hub>=0.24->segmentation-models-pytorch) (2.2.3)\n",
            "Requirement already satisfied: certifi>=2017.4.17 in /home/akansh_26/anaconda3/lib/python3.12/site-packages (from requests->huggingface-hub>=0.24->segmentation-models-pytorch) (2024.12.14)\n",
            "Collecting git+https://github.com/albumentations-team/albumentations\n",
            "  Cloning https://github.com/albumentations-team/albumentations to /tmp/pip-req-build-nmyd4dka\n",
            "  Running command git clone --filter=blob:none --quiet https://github.com/albumentations-team/albumentations /tmp/pip-req-build-nmyd4dka\n",
            "  Resolved https://github.com/albumentations-team/albumentations to commit 7af1951334b856eb2bbb8a5d2094361a790bddad\n",
            "  Installing build dependencies ... \u001b[?25ldone\n",
            "\u001b[?25h  Getting requirements to build wheel ... \u001b[?25ldone\n",
            "\u001b[?25h  Preparing metadata (pyproject.toml) ... \u001b[?25ldone\n",
            "\u001b[?25hRequirement already satisfied: numpy>=1.24.4 in /home/akansh_26/anaconda3/lib/python3.12/site-packages (from albumentations==2.0.4) (1.26.4)\n",
            "Requirement already satisfied: scipy>=1.10.0 in /home/akansh_26/anaconda3/lib/python3.12/site-packages (from albumentations==2.0.4) (1.14.1)\n",
            "Requirement already satisfied: PyYAML in /home/akansh_26/anaconda3/lib/python3.12/site-packages (from albumentations==2.0.4) (6.0.1)\n",
            "Requirement already satisfied: pydantic>=2.9.2 in /home/akansh_26/anaconda3/lib/python3.12/site-packages (from albumentations==2.0.4) (2.10.6)\n",
            "Requirement already satisfied: albucore==0.0.23 in /home/akansh_26/anaconda3/lib/python3.12/site-packages (from albumentations==2.0.4) (0.0.23)\n",
            "Collecting opencv-python-headless>=4.9.0.80 (from albumentations==2.0.4)\n",
            "  Using cached opencv_python_headless-4.11.0.86-cp37-abi3-manylinux_2_17_x86_64.manylinux2014_x86_64.whl.metadata (20 kB)\n",
            "Requirement already satisfied: stringzilla>=3.10.4 in /home/akansh_26/anaconda3/lib/python3.12/site-packages (from albucore==0.0.23->albumentations==2.0.4) (3.11.3)\n",
            "Requirement already satisfied: simsimd>=5.9.2 in /home/akansh_26/anaconda3/lib/python3.12/site-packages (from albucore==0.0.23->albumentations==2.0.4) (6.2.1)\n",
            "Requirement already satisfied: annotated-types>=0.6.0 in /home/akansh_26/anaconda3/lib/python3.12/site-packages (from pydantic>=2.9.2->albumentations==2.0.4) (0.6.0)\n",
            "Requirement already satisfied: pydantic-core==2.27.2 in /home/akansh_26/anaconda3/lib/python3.12/site-packages (from pydantic>=2.9.2->albumentations==2.0.4) (2.27.2)\n",
            "Requirement already satisfied: typing-extensions>=4.12.2 in /home/akansh_26/anaconda3/lib/python3.12/site-packages (from pydantic>=2.9.2->albumentations==2.0.4) (4.12.2)\n",
            "Using cached opencv_python_headless-4.11.0.86-cp37-abi3-manylinux_2_17_x86_64.manylinux2014_x86_64.whl (50.0 MB)\n",
            "Installing collected packages: opencv-python-headless\n",
            "Successfully installed opencv-python-headless-4.11.0.86\n",
            "Requirement already satisfied: opencv-contrib-python in /home/akansh_26/anaconda3/lib/python3.12/site-packages (4.11.0.86)\n",
            "Requirement already satisfied: numpy>=1.21.2 in /home/akansh_26/anaconda3/lib/python3.12/site-packages (from opencv-contrib-python) (1.26.4)\n"
          ]
        }
      ],
      "source": [
        "!pip install segmentation-models-pytorch\n",
        "!pip install -U git+https://github.com/albumentations-team/albumentations\n",
        "!pip install --upgrade opencv-contrib-python"
      ]
    },
    {
      "cell_type": "markdown",
      "metadata": {
        "id": "JEads6Mm4UEV"
      },
      "source": [
        "# Download Full Dataset\n",
        "\n",
        "Market-1501 dataset :\n",
        "https://www.kaggle.com/pengcw1/market-1501"
      ]
    },
    {
      "cell_type": "code",
      "execution_count": 2,
      "metadata": {
        "colab": {
          "base_uri": "https://localhost:8080/"
        },
        "id": "Tnclntis4TRX",
        "outputId": "3468fbb8-6b95-4374-b714-d094979681de"
      },
      "outputs": [
        {
          "name": "stdout",
          "output_type": "stream",
          "text": [
            "Cloning into 'Person-Re-Id-Dataset'...\n",
            "remote: Enumerating objects: 12942, done.\u001b[K\n",
            "remote: Counting objects: 100% (12942/12942), done.\u001b[K\n",
            "remote: Compressing objects: 100% (12942/12942), done.\u001b[K\n",
            "remote: Total 12942 (delta 0), reused 12942 (delta 0), pack-reused 0 (from 0)\u001b[K\n",
            "Receiving objects: 100% (12942/12942), 27.68 MiB | 6.50 MiB/s, done.\n"
          ]
        }
      ],
      "source": [
        "!git clone https://github.com/parth1620/Person-Re-Id-Dataset"
      ]
    },
    {
      "cell_type": "markdown",
      "metadata": {
        "id": "d8e7znELOar-"
      },
      "source": [
        "![siamese-network.png](data:image/png;base64,iVBORw0KGgoAAAANSUhEUgAAA4cAAAHfCAIAAABszTpyAACAAElEQVR42uzdB1gU194G8DPb2KUtvYNgRUFEFLEk9hJLNPYK6o29GzVqYk38YowxGmuixt57SezGriDFCiIgvdeFBbbPfI+MIQQBse+y7+/Jc++Wszuz/zMr756ZOcNjGIYAAAAAAHxUHJQAAAAAAJBKAQAAAACQSgEAAAAAqRQAAAAAAKkUAAAAAJBKAQAAAACQSgEAAAAAqRQAAAAAAKkUAAAAAJBKAQAAAACQSgEAAAAAqRQAAAAAAKkUAAAAAJBKAQAAAACQSgEAAABAy/BQAtAJVyOf/P0kPC47q1ipdLWycrdzGNaytZGBQdk2Zx7el6lU1iYmbeu7v/wOxUrl2UcPKEJ6NWkq4PHeoD0AAAC8PxTDMKgCaLOYzIyhv20IiY8t97i1iekvQ4aPaNWm9BHHr6amSvJ4HG7wou+8XWqVa5+Yk1NrznRCSPiyFY0cHN+gPQAAALw/2IMPWi2zoKDbqhUh8bEigcC/9Sfrho9c8PkXzVzdKIrKkhaM/mPz9ajIci9R05ovt29R05pqLuJ12wMAAABSKeid3XduxmZlCvn8v+d8s2vMhCmdunzfd0DIou+jl6+yNRWrac3Xh/a//KqwhPifz52p/lJetz0AAAAglYJ+uRkdRQhpXbdeyzp1yz5ex8bm+74DCCH3EhPkKlXZp8yNjAghS08ee5qeVp1FvG57AAAAQCoFvSOVywghaRLJy0/18PIe0arN4BYtCxXyso8v7t3P1cparlKN2b61OodNv257AAAAQCoFvdOmbn1CyJO01MGb1sVnZ5V9ytHcfPfYibvGTLAyNin7uLHQYPPIL0vGWZ9uvHLplYt43fYAAACAVAp6Z0KHTnVtbAkhh4KD3L6e2XjhvCl7du4NvJWen1/Fq7p4eI7+pC0hZP6Rg4k5Oa9cyuu2BwAAAKRS0C/2YrNr8xZMaN9JJBAQQh6nJG/4++KIzZscvpri+92iQ8FBdCX73FcNHm4vNpPK5RN2bavOgl63PQAAACCVgn5xMDPfFDA6Y83G09NnfdWte6s69QQ8HsMwIfGxgzetG7xpXYXB1NzIaIP/KELI2UcPdt+++cqlvG57AAAAQCoFfWQiFPZq0nTV4OG3v12cvfa3feMn17a2IYQcCbm7/vKFCl/S16f5QF8/QsiM/XsyCwpeuYjXbQ8AAABIpaAXEnKyZx/cN/vgPoVaVS6hDvVrdX/pD47m5oSQyxHhlb3DuuEBFkbGuUWFU/burM4SX7c9AAAAIJVCzaeh6VXnz6w6fyYsIf7lZ02Ewg7ujQghVcwzamsqXjN0BCHkcHDQ8bCQVy7xddsDAAAAUinUfLWtbSyNjQkhay9VvI8+PCWFEOLrVruKN/Fv/Un3xk0IIbMP7qvOQl+3PQAAACCVQs33v0/bEUIOBN3537bNSbn/ztkkKS6etHvHvcR4Qkg3T6+q3+T3kf8zEQqrf6X7120PAAAAb4+HEoA2W95/8IPExAvhj7bfvL779q0G9vYWRkZKtfpeYoJSrSaETOzQeXjL1lW/ibOF5YqBQybt3lHNhb5uewAAAHh7GCsFrcblcE5Pn/X7yP+5WVmraU14SvKNqKdBsc+UarWXk8vmkV9uGDGSoqgXv7G4z7dnHof78vtMaN+pbX338r/JXrM9AAAAvD8ULvwNOoFmmJS83NiszPT8fBtT01qWVuzMUAAAAIBUCgAAAADwbmAPPgAAAAAglQIAAAAAIJUCAAAAAFIpAAAAAABSKQAAAAAglQIAAAAAIJUCAAAAAFIpAAAAAABSKQAAAAAglQIAAAAAIJUCAAAAAFIpAAAAAABSKQAAAAAglQIAAAAA/BcPJYB3iGEYNU1raJpmGJqhGeb5Iwxh/nlWr4tDUf/cIFQJwqE4HIricji85/9PYfsBAACkUoBXUGk04SnJ4anJsVlZybm5GQX5OYWF+bLiQrm8WKmUqZRKtVqpVtN6HjzfAoeiBDyegMcT8QWGAoGxUCgWGVoaG9uYmjqZW9SxsfFwcPJwdOJzuagVAADUSBSDGAGVyysqOhgceOpe2PWoSIpQjRwc69raOltY2onFFkbGZoaGxgZCQ4FAJBAYlCQqHofL43K4HA6HojgUh6JejAuikmWx48cMQ2iGphlGQ9NqDa2mNUq1WqFWy5TKYqWyUCGXFBfnFhWm5+cn5eY8y8wIT0lhCNO2vnvvpj6DfVuaGxmhkgAAgFQKNV9IfNzaS+cP3Q3ycnYe6OvXpZGnl7MLB/ny46EZ5mFS4qWIx4eCgx4mJQ1u4Te1c7fmrm6oDAAAIJVCzXQ7Jvrrw/vvJyb4t/pkSqcuHo5OqIm2CU9JXn/54u47N5u6uP40aEirOvVQEwAAQCqFmiMlL2/Wwb1/Prg3q1uPr7p1F4sMURNtJikuXn3h7M/n/vrc22fV4OGO5uaoCQAAIJWCzjsWGjx2xx/dPBuvHDQM+UaHJOflzjm0/8LjR1tHj+nr0xwFAQAApFLQVRqanr5v9547tzYFjB7q1woF0UX7Am9P2r3Dv3WbNUP9uRzMQwwAAEiloGtkSuXQ3zc8TU87M3OOm5U1CqK74rKzeqxe2cDOfv/4ySKBAAUBAACkUtClSPrZLz+pac3p6bMsjIxREF2XW1TYa80qPpd77quvEUwBAEC3YE+f/tLQ9NDfN6hpzcXZ8xFJawYLI+NLc+arac3Q3zdoaBoFAQAAvUulSrXm6I1HR288CnyS8F5X905EwtEbj2JSs9Fzb2/G/t1P09NOT59liEG1GsRQIDg9fdbT9LQZ+3ejGgAAoHep9OTt8AHf7Rrw3a4+i3ao1Jr3t7orDl4Z8N2ug1cfoOfe0vGwkN23b52ZOQejpDWPhZHxmZlzdt++dTwsBNUAAAD9SqVbzwSxNzIlhafuRKCsWi4lL2/M9q2bAkbj9Kaays3KelPA6DHbt6bk5aEaAACgL6k0ISPvUlg0IeQTT7fnCfVsEMqq5WYd3NvVszEmgarZhvq16ubZeNbBvSgFAADoSyrdfj6YZhg/d5elI7sSQi6ERCVmSqpoTzPMs9ScXGlxFW2KFapnqTlypbqKNhqaTsyUxKRmV31WR3quNCu/qDofJCU7/70efqAl7jyLPn0/bOWgodj6a7yVg4b9+eDe7ZholAIAALQf7y1fTzPM9vPBhBD/Ls3aN6njaCVOyc7ffj54sX+X0jbh8Rnd5m9xtjY7sXTkuNVHrz+KlRTKCCEetWw3zxzQ2sO1tCXDMCsPXdt1MSQyKUtD0xRFNaltP39ox0HtmpRdqFpDf7/n0roTN9m4aWjAH9PDb8WYnkLBvx8nOSt/5m+nbj6OS8+VEkKcrMXtveqsntjbSmzENrgbmdRv6c6mdR1OLB01b+uZk7fDo1Oy4/d8U8u2hl/W6OtDB2Z/1tPJ3AJbf43naG4+q1uPuYcP3Ji/ENUAAIAankovhkYlZkr4PO6Q9t4cihrawfvnw9e2nbu7cERnDkWxbVQaTUp2fqFM0fnrzY/j000MDazFRln5ReEJGR3n/P5s1zxHK/HzZmpNv6U7/wx88ny1uBw24N5/ljp42Z5MSeGUPm1KF7rqyDVpsYKiKBcbs5TsgmKFau3xmxoNvX5qX7bBtYex/ZbsZIdjbcyMNTSdnJW/53LY3/dj/lz2v6Z1HQkhhXJFSna+rbnx3C1nVh25pif9HRIfdy8x/vT0Wa/1qnxZ8eWI8OC42KiM9FRJXrZUKpXLZSqlUq1Wa2iaoWnMevvucCiKQ3F4XI6AxxPxBSZCoZWJiYOZeX1bO1+32p0aeYhFhtV/t6+6dV91/kxIfFxzVzfUNvBJwpYzQQ+epSWX/IskV6rZTZdDUUIBz1hk4GQlblLHfmwPv5YNa6FcAAA6lkq3nr1LCOnu625p+vwv5YjOPj8fvpaYKbkYGtWteYP/JJsiuYbO2/fNsCHtvZmSHf2fL9ymUKm3nr3LDqxuPx/MRtIlAV3nDGpvaMB/mpQ1dcOJi6FRX/122r9zM7GRkH0rabHiM98GO+YMtjU3ScstmLLuxLGbj7aevbtqwucGfJ5KrRmz6nCutNjZ2mzv/GGfNn7+x/js3ciRPx1IzSkYv+Zo0Lqp1D+JOSw6JSw6pY6D5bwhHTxq2bH5uAZbd+m8f6tPzAyrG2uCYp+tuXjueGiIQq3Ct+XDoBmGZjRqWiNXqQpksoyC/JjMjNJnDXj8vs2az+jymV/tOtV5N7HIMKD1p2svnd81ZoI+V1VSKBu18uDJ2+EVPqthmCK5skiuzMiThkYnbzsX3Ke1x445g82MRdggAQA+3LjM27w4K7/oVMm/8v6dfdhHmtR28KhlW5pWy1k4vPPQDk0piuJQ1Ge+DdjY+iw1h913v2zvZULIqK7NF/t3MTTgE0IaOFtvmNqXz+Oq1JqLoVGl72NjZnxogb+tuQkhxN7CdP7QjoQQhUqdkp1PCNlxISQmNZuiqKOLA9hI+jw3t3Df8fUQQkjw06RyswT41HO8/9vMMd39WjWqxePW5MsK5BUVHbwbNKVTl+o0TpXkDdjwa8tliw8E3UEk1R4KtepA0J2WyxYP2PBrqqRa59dP7tj50N2gvKIifY6kraatryySVujk7fBW09azxxoBAIAOpNLdF0OVao2ZsejzVo1KHxzRuRn7b/rL5xgN6eBd9m6bkiNK8wqLCSFpudKkLAkhZHyvlmXb1HO0SjmwMOXAwt6tPUof7OnX0MTQoPRu8/pOAh635K1kbO4khHRoUse3gXPZt+rRwt3T1Y49orTs44tGdDEWGehDZx8MDvRydvZwdHply/OPH3otmn80NBjfEK11NDTYa9H8848fvrKlh6OTl7PzweBAva3VqJUHI5MyX/dVkUmZo1Ye1KtCnTt3Dt8sANDVVPrHubvsOITbiOUOg79n/1u29xJ7kOiui/+ZwZtDUc7Wle4fZ0dMS06Bsiv3lLXYyMHSlM2drKpPSIpKznr+Pq62Lz/l6fb8zaNSsso+2M6rtp509ql7YYN8/V7ZbH/QnV5rVuUUFuLroeVyCgt7rVm1P+jOK1sO9PU7ff+eflYp8EnCa42SlnXydvj7vl6d9oiJifniiy9iYmLwzQIA3UuldyISIhJeHO6WlltQ+l+RXMk+uPXMf3biczhU6dGcLyuUKdgbBoJXH+pa9X529sSbCpfF43DYU/hLHzESCvTk0DGVRnM9KrJzI8+qm51//DBgy29qWoPvhk5Q05qALb+9csS0SyPPa0+fqDT62K07zr/VBa52XgjVk0ItW7ZMoVAsW7YMXysA+Fje/Gwndrb8+k7WJ5aOKvfUueDIr347HZmUeSs8vk2ZiZ+qUMfBkr0Rm5bj7mxT9qn1J29l5BX29HOv5lmxte0trj+KjUmp4Fr5T0uGUes7WZU+wh7Aqg8epyRRhPJydqmiTaokb/jmjYikOhdMh2/e+PC75Q5mle5D8HJ2oQgVnpLs7aJ3p5bffZr0di9P1IcqxcTE7NmzhxCyZ8+eBQsW1K1bF98sAPjw3nCsVFqsOHTtISFkZNdmDV1syv03toefkVBQ9kqkr+RmZ2HA5708sPEwNm3q+hPL9l7KKSiu5lt513UghFwIjXqa9J899XciEthDTpvUdtDDno5ITfFwdORUPlxNCJm2dxd23OuinMLCaXt3VfU9p6hGDo7hqcl6WBz2JMg3lpyVrw9VWrZsmaZkKF2j0WC4FAB0LJUevHa/UKbgUJR/yblN5RiLDPq28SSEHLr2oKBYXp035PO4U79oQwhZc+zGkesvdkdGp2R/veUvQojYSNjRu7q/3cd097O3MFVr6EHLdrPHmBJC7sWk+K/YTwhxd7YpNye/nniWmVnXxq6KBkGxz3B6k+46GhocFPusigZ1bW1js7L0sDLV/CfoPb1cJ5QOlLL27NmDo0sB4KN4wz347DGjHbzrOlubVdhgRGefPZfDihWq/X/f92voUp33/GZYp+O3Hj9LzRn4/e5atubGQkH4P8etbvlqoKjau9qNhIKN0/oO/WHvw9g0z7Gr6jlacTmciIQMDU2bGBpsmt6vZk//VJnkvFxni6qu57TmIk6/1W1rLp7bP35yZc86W1gm5+bqYVmUKs1HfLlOKB0oZbHDpTt27MB3CgA+sDfJZzGp2UGRiezu+8radPapZ29hSgjZfSm0shTIL3NaPSHE3Fh0b9PML7u3MDE0SMjIYyNpPUerE0tHDWzr9SJEV++tvmjjGbxh+ieebhQhEQkZj+LS+DxOZ59693+b2b7Jf+Ye53G5etLTGfn5tuJK50DIlxUfDw3B90GnHQ8NyZdVeqCLralpRkG+HpblLS88VuOvW1ZuoJSF4VIA+CgoRvv+zWUYJi49VypTOFiKrf+5bP2bUak1TxIzuRyOu4s1l8PR557+dPn349p18G/9SYXPHgsN7r/hV3wfdN3RydP7NfOt8Kldt29uuXZFDy+IT3WZ87b/Il1cWYPrM2rUqJ07d778+MiRIzFcCgAfmDYGNYqiattbNqnt8JaRlB1D9apt7+Fqq+eRlB0NFVd+odG7cbH4MtQAwZX3o5mhYRUjqaCfKhwoZWG4FKCsjL9xkJu+plJ4H6RyuYlQWNmz0RnpKFENEFV5PxobCAvlcpQIyip3RGlZOBkfoFRhXMztUV8UxuF3GlIpvCMypdJQUOmFVat5RXXQclX0o6FAUKxUokRQqoqBUhaGSwFYkauX0UpF5Gr8TnvveCiBvqRSlVLIr3Qeg2ypFCWqAaroR5FAIFMhlcK/hELhpUuXSu926NCBvXHlypWybVAo0HOFcTGJR5//fks8usd95gJjN1xjAqkU3ppSrTbgVdrdUuzbrRGq6EcDHk+pVqNEUMqpxMuPt2/fHsUBKBW5ehlTcqALo9FErl7WfC3OAnyPsAdfj1KpoPJUilG0mqGKfuRzkUrLszAxfPtTKgGgBisdKGUlHt2Do0uRSuEdoBmGx+FWkVlRoprx26PyVMqt8VNvVp+rrfntX6dkHV2SeWRJ/J5vhnfyQU0A4GWlA6UsdrgUZUEqhXegiotaqTU06lMDVNGP+nlJs4oDOo/757IvWzWqxTBMkVxZy9Z8++xBLdydURkAKKvcQCkLw6XvN6i85esLiuVuI5bLlWpDIV+nC1EkUx5YMLx3K48a3NlVTNpKM0ilNUEV/Ygpe0s1r+/k4WpLCOmzaMe1h7HPds2zMTMe1tHnbmQSigMApcoNlLJwdKlWp1KGIbnS4m+HdfKu66DThRj43W5FTb/gNYeiKk8z2LdbM1Ip8wa9r2/Yyw7HpGb/FfSEELLlTNC3wzq1b1IblQGAUhUOlLJwMr72plLWgLZe3nV0O5Xqw0kPHAqjZfoLvV+qjr0lIeTqgxfXwbr64Nm3wzqxDwIAsCocKGVhuPQ9/qlCCfQHBsvQ+0AIsTQ1JIRkSQrZu1mSIkKIschAwOOiOABQ9UApC0eXvieYr1SfcglBMEHvA5Er1ew5T+xdPu/5j3MNTeOcPwBgcYXCTw//e42J6/1eXGOi7bErZdugUEilNcH9Z6kf5YAHCsNl+pxK33XvP4hNbVJbJ4/bySgZJW3oYsPebehiy46Y4uhqAGCJ7J1E9hVcY8K6Na4x8X5hD/5H0Hr6+l0XQ1EH0O3NeNr6fX/f08U1vxwWTQjp6F23nqMVh6LG9vB7/uC9aPQpAMDHhbHSj0CmUI386UDgk4TVE3sb8NEFoJOKFarhy/cFP01aOa6Xbk2GeiE06mlSVgNn67BNMxhCTEQGag298fQd9CkAwMeFsdKPZtPpO5/O3JiYKflgS8QOfHjn1hy70XHOb+m5Uh1aZ4VK3WvBtrDoFCOhwERkkJZbMG71kdvh8ehNAICPCwN1H1Pw0ySfiav3fTO8a7P6qAboqBuP4ppNWnNkUUCrRrV0ZZ1jUrObTVpja25iYSJ6kpiJTgQAQCqtWFJSUkRERFJSklKppGnay8vL29vb2NiYKlHDOiCnoLj7/K1LR3b9dlgnnI0EOio1p6DdrE2/Tuoz8fNWOrTaGXnSjDwpug8AAKm0UgkJCWfPng0JCSkqLNRoNAMGDHBzcxOJRFwut0bmNpphFu44fyciYc/8YebGImyUoItUas2ktceCIhN/m95fKMBOGAAAeG3aeFxpUVFRampqQom4uLjYuLikpKScnBylUlmDe+LM3chmE9fci0nBRgm6a+eFkNbT18dn5KEUAABQE1JpWTRNS/LyoqOjU1JSZDJZze6MuPTc1tPXbz8fjO0SdNe9mJRmE9dcCI1CKQAAoCakUk4JQlE0TWdlZT18+DD22bPCwsIa3x9ypfp/Px8a88th9vIzALooV1rcff7W5fv/ZjAvPQAA6HQq5XK5fD6fz+NxORy1Wp2cnHzzxo379+/n5enLbsE/zt5tMwO7QUGH0Qzzzbaz/ZbuKiiWoxoAAKDDqdSgBJfHY2g6OTk5ODg4PDxckpenP0MvYdEpPhNWn7kbiW0UdNeJW49bTFkbkZCBUgAAgE6mUnNzc3d3d8/GjZ2cnCytrU1NTXl8voamZXK5TCZTq/Vl13ZeoazXgm1Ldl3A5blBdz1NyvKbuu7I9YfauXpbvhqoOPvjVwPaoqcAAD46bZzAxcLCwsPDQ6VSqdVqqVRaUFCgKJm4VFaCw+HwePoy7wzDMEt3Xwx8krh3/jBLU0Nsr6CLCmWKgd/v/npw+x/+153L0Ypfwk7W4lYNaw1o6zWoXRNCiKGBAN0EAPDRaeNYqYmJSa1atTw8PDw9PRs2bGhtbS0QCAoKCqKjo58+fZqbm6tvnXQ+5GmzSWtCopKxvYLu+ung1a5zt2TnF2nDygxs2+TQQn82kgIAAFJppYyMjBwdHRs2bNi0aVNfX18HBwcul5uXlxceHv7gwYOsrCw97KeEjLxPZmzY/FcgNlnQXX/fj/GZuCb4adJHXxNJoUyp1ijVGnQKAABSaVUEAoFYLLa2trYtYWhoSFFUQUFBTExMVFSUHo6VshQq9fg1R0etPChTqLDhgo5KypJ8OnPjH2fvftzV2H4+2KD7PIPu856l5qBTAACQSl9Bo9HIZLL8/HyFQkHTdFFRUUpKSkJCQn5+vj532M4LIa2mrcefUtDp31djfjk8fs1RhQqT8gIAgI6kUqlUmpOTU1xczNB0oVSanZ2dkZGhD3PpV+1BbGrzyb+eDozA5gu6a/NfgW2/2piclY9SAAAAS3tPZpfL5cnJyZGRkTnZ2do5GxTVZc7HWrSkUNZn0Y75Qzp+P7obh6KwHYMubsZ3I5N8Jq4+uMC/g3cddAQAAHC0OZWmpqbGxMTk5uaqVDiSsjyGYX7Yf7nbvC1Z2nFSM8AbyMov6jJ386oj11AKAADQ3rFSPp9vYWFhZ2enUCjy8vL0Z/L813IpLNpn4uojiwL83F10ZZ0NBQKfWm5ezs75xbLHKUkPkhLZx21NxXZiMUPIw38eIYQ4mVtYGhvnFRcl5uQ0sLMX8vmS4uKEnOzSBp6OToSQxynlp82qa2NrZGDwb4gn5FlmRpFC8QE+YC1LKzNDwydpqUpstNWgoenZv/95NzJp2+xBRkLMGwoAgFSqfQwMDGxsbFxdXfPz89PT0pBKK5Ocld925sbVE3tP6t1a+9d2VJu2G/xHGQr+DR9XI5/4b9mUnJc7qWPnRb37EkJGbv1t1+2b7LOLevcd267DgaA7Q3/fcHzqzIb2Dvmy4gbz52QUvDge8eY3i8Qiw89++en84/9cPWj7l+M+qdeg7CMKtfpGVOTiE0dvx0S/18/48+BhA5q3mH/k4I9nTmP7rKZD1x6Ex6cfWzKyvpP1h1wue8bVBzjv6kli5vqTt2zNjWcNaIfwDQBQIY5WrxyHw+VycdzkKynVmsnrjo/4cX+xdk8aNatbj+1fjjMUCLKkBSfvhYbExxFC2rs3/HPGbB6HW9ps5aBhZoaVXshKLDJcNWRYuQfLxtyy1LTmYXLiw+TE3KJCAx6vcyPPPeMmfZgPW3akFqojPCHDd/LaU3fCP+RCPcb8THWZs/LQ1fedfTvN+X3jqduLd16Y9Rt+qwAA6FoqpWm6uLg4Pz9frlAwuBB8Ney9HNZy6rrolGztXD1DgWBxn36EkCxpgffib79Yt7rF94v2B90hhDRxdvGp5Vra0sbU9If+g6p4q+Et23Rwb1SdhW6+eqXJom+aLPrGfuaUAyXLcrOyNhEKy7axMDIuDcFcDsfBzNygkkva2pia8rncCh8XvOZLoEIFxfIvFu9cuOM8XbO+8lmSorTcAvb2vWcpFYfy+Iyp60+sOnINc/sDgN7S3j347EXwc3JyZDKZRqNhGIamaaYEuq0yj+LSmk/6dcfXg/u28dS2devi0ZiNg9P37U6V5LEnbM0/cnCQrx+Xw/F2qVW28fj2nbbfvB4cF1vZu230H9Vk8TfVP3BTqVbfjYsd4tdK83wrIl08PH8cMCQmM8NQIOjp5X3iXuj0fbt/Hebf08tbwONpaPpi+OPJe3bEZmWuGDikcyPPG1FP2zVw93appVSrt16/OnnPjudfHg53bo9eX7Zt72ZlrVSrL0U8/vrwgfB/jnBt28D9wXc/eDm5lH0JvBLDMMv2XgqJSto7f5iFiWHN+FBO1uKuzepfCI0ihIzt4fdygyK5ssPsTeyZi1mSoh/H9MCWAPA2ihRFfstbKNVKAe8dHDCz9J8bnks83v7dlGplf58By/stRzfpUipVKpU5OTmpqalSqVSj0dA0rVapNGo1TdPotioUFMv7Ldn59eD2P/yvO5ejRWPhTUtyZ5pEcvDuv9dNTcjJtpo2gcvhFMhkCz7/gpSck2RlYiIWGW7yH93i+0Uvv09YQrxPLVd3e4fZn/X44c9T7INUJYd5NLCzH9GqDXvW1KSOnQkh5x4/LFTIzQ2NfGq5lg7QZhYUnJk5x9PRSaXR3EuMr21t81ljr/0TJvt9v7i2tQ3bMrtQml0otTI2mdSx8547t+48i9486svRn7QlhDxJS61tbdPDy7tF7ToN5r+YaKltffeXX4Lts5rOBT9tPunXY0tGetdxqBmf6MwPX157GGstNmrsZv/ys4mZktLJNEKikrEBALwlDaN5kvbky0/G+Lg0fft3y+rw4saUd7Fu84/NT81PQR/pWCpVq9X5+fm5ubkymYxhGMIwapVKrdEwSKXV8DA2rVCmFBsJtWeV6ts9/2McnZlebuespLi47N3kvNwVZ//cPPLLZq5uEzt0fvl9tt+8ll0o7erReEGvL/YF3ql6oZ0aeXRq9J+ftifCQsre3Rt4a+reXQY83q1vFsdmZY7fue1SxOMhfq32j5/c2NG5tFlMZkbzpQsLFfJH3//Y0N5hiF/L9HzJqDafEkL+t23z9pvXa1vbRPzfT1bGJu0auFf2EqTS15IpKYxJya4xqZTL4XT0rlvZsw2crVs1qnUnIoGiqJFdm6H3Ad6Jie0mNHXx0ba1Ck0IVWqU6B0dS6Wmpqbe3t75+fmJiYkpKSkFBQVFUik67JU4FLVgeOfFAV207Swx9qx5CyPjco/39vYxEYoeJv87G9SWa1cG+7bs1Mjj//oPvP70abn2DEPG7fjj8bIfjQ2E64YHVL3Qa0+fbLpymRBiIhR+4dO8p5f3llFjwlNe/EhVaTQTdm4vVMgJIZ//umpkm0+/6tZ9o/+o2tY25cZfT94LzZcVl8wYENHQ3sHYQNjExYWiqHxZ8fab1wkhsVmZttMn8bgcSXHxsJatK3wJNs7qq+dodWzJSE9XO/352l5dNfFSWLSztbjCwVQAAKTSj5xKmzVrJhaLg4KCOBxOcnIy5tJ/JQsTwz3zhnZv4a6F6/Y4OZmdXrSxk/Oj5CT2QTNDwyOTp/O53LE7tpZtPHbH1kff/ygWGX7uXcHOl4Sc7HmHD64fMbJXk1fsmglPSSk9YGDX7ZvSjVsFPF53ryaPS1YgMSebjaR1bGzuLvzOyMAgKTfndkx0VEZ6Ty/vsu8jU774XavWvBiqF/IFJYcu/TsBakMHByMDg+tPIyt7CVTT5y0b7Z43VKtG+j8AAY/bo/Jv7qO4tGE/7MvIky4d2W3i562wkQBAzfyJrrVrZmBgYG9v36BBAzc3NycnJzMzMz6Phw6rQrN6TqGbZmhnJCWEHAm5yw6X7hs/2dXKmj0rf8uoMXwul2aYyxH/mQ8oLjvr22OHqni3jVcu3Yh6Wv2lGwoEw/xas2fKqzUvznFW/3M0SH1beyMDg9yiwrrzZg35bf3Zhw9e+YYRqSmEEAcz888aez2PpPYOt75ZfGn2/OautbEpvvm/RxS1dGTXk9+N+mCR1MLE0FpspP2VmbP5r8fx6Vn5RdM2nMiVFmNTAYAaSauv7fQ8ifL5Tk5Ojo6OGenpKUillfuye4sNU/sa8LW3RPmy4sm7dxyYOMXT0Sl2xS+xWZmWxibslEwrzpyOy84q137dpQuDfFu2rluvwndjGGbMji0Pli4X8vlVLHRCh05j23Vgj+pjD2koVioPBQd5OTn/Z2MrmbzJwsj42twFUrm8Y8NGJaOh/CmdulT2zg+TEi9HhHdq5HFi6lfBcc98arlxKOpyRHjJwaPdsUG+AXNj0d75wz7YzypXW/N93wz3a+jCoaiEjLxvt5/bezlMa4tTejgJTWMSEgCouWMT2rtmHI5QKDQtIRaLRSIRF/M+VkQo4G2bPWjrVwO1OZKyjoYGt12+jL06aB0bWzNDQ6lcPuvg3oXHj5Rce+k/R2jQDPPl9i2KkrmfCuSykqnIVaW3CSFR6emLTxytbFns1Xo4FMXnctnQmZyXe/r+vU4rf4hMS1X8d0qpvx7eZ3f0t6xTt4uHZ0h8HHtIaEDrT8utVWnCJoQM/X39qfthAi73k3oNDAWC8JTkGft3v/xByr4EKtOktkPIxukfLJLyedw/l33ZqlEthmGK5MpatubbZw9q4e6stfVZMaZnQxcbM2PR2ilf1JgJswAAysHoo26rbW95ZJF/07qOurLCd55FN144Tywy9HRyypZKYzIzNP/sRv/hz1OlMz2xItNSheNGld5tuuTbcu/209k/fzr7Z4UL6vxzVVPBnbwXSv1vROldDU0P+W39zP17HMzNE3Oys6RSYwNhA3v75NzcjIL8EZs3lbactm/XtH272NtZUmmftb8YGwjr2dplF0qT83LZyXRHbN5U2UugQiM6+WyeOUBkwP9gS2xe38nD1ZYQ0mfRjmsPY5/tmmdjZjyso8/dyCTtLJFXbfuIP+ZgUwGAmo2DEuiunn4NQzZO16FIWipfVnwrOuppeppGm+b5SsuXhMbHZZVM9VCokIfGx5Vebb8KhQr5vcT4pNwcXN/hDfB53F8n9dk9b+iHjKSEkPZN6hBCYlKz/wp6UihTbDkTVPKgrh4T/Cw1Z97WM2uP38SpdaD9ChWFRlMMfzq/Qk2rtXxVaY0mPz8/MzMzKyuroKBAjRnT3z+MlermjwmKWhLQdcHwTpSWTf8EUH12FiaHF/p/4un24Rddx96SEHL1wYuLh1198OzbYZ3YB3WOUq1pN2tTSvbzX1DJ2fk/je2JTQu0WVJuklwln39s/uGQw1sCtno7e2vtquZJJMeOHYuIiOByuR4eHp07d7awsDAyMkInIpVqI+biyjd7IdXlrfbEWYmN9s0f1qVZfXQB6O5m3MbD9fAif3sL04/yqS1NDUuu7VnI3s2SFBFCjEUGAh5X5y5Dn5CRx0ZSQkjgkwRs0qDlkvNeHCcTlhjm90OL2d3mLOq1yIBnoIWrKpPJ7t+/f+PGDZqms7OznZyc3N3dkUrfK+zB1zEt3J3DNs1AJAWdNrl36ys/T/hYkZQQIleq2eMH2Lt8Hoc9vFgX94DXdbBs2bAWe3t4Rx9sXfAyDa3RplT67zV11bT6x7PLm37nfTPmptZWT6lQZGZmPo2MvHXrVlxcHDYnpFJ4YUKvVjdWT3a2NkMpQEeJDPi75g5ZP7VvaSL8KDJKRkkbutiwdxu62LIjprQOHhxMUdTlleOPLg64s3bK+F4tsY3VMHnFeTRT6Y+lkISQ/r/1H7trbEZBRoUNbj275TzXSTzNdO3lXytsICmWdFzV0WiK4cjtIytb0NWnV0bvGL3m0uoq0m31g29SXvlzCp9mPG3/c7up+6dK5dp1BUc+n29ra2tpZUVrNHkSSXJyskQiwTaJVAov/pZvmt5PwMP0WKCr3Owsbv86xb/zx7/O++WwaEJIR++69RytOBQ1toff8wfvRetoYQ0N+P0+aVw6Ygq6gmGYvOK8yp5V0+pe63pZzbR0X9ggISehwgafr+t14t7xbbf+mLRvUoVvMu/o3FRJqkwlm31kdoG84OUGG66uvxZ1Va6S7wnc/dfDCqY0SchJ6LG2x647O2cdnrXu77UVLmXhyYWGk0X1vq37KOVRFfFaUiwpGStNqbAUG69u8Fra+Nzjs9rTQUKhsGHDhu7u7kKhUKNWFxcXK5W4fj1Sqd6r62AVuHaqNvwtB3hj3Zo3CNk43buOgzaszIXQqKdJWSIDftimGZKT33/a2E2toTeevlMjK7/nctj0jSdvh8djI9QqyXnJnks8rGZa9lrXS6muIOtcjLhw9vEZQsizrGfrr6x/uUGhvDBTmsnejs16VuFSDPgvLpPG5/J5nArOJCn7IJdTwahHVMZThfrFpZUfpTx+uUFsduwPZ/5PTatjs2OXnl5a4Wqsv7LObpat7SybrTe2vDxWWioxN7Hnup4B2wJyinK0oY8oijIoQVEUQwhN05hrRd9TKcMwCoVCKpXK5HINTROG0dC0Xs3O0Ke1R8jG6V617bGxgo6iKOrbYZ3O/PCl9kz/rlCpey3YFhadYiQUmIgM0nILxq0+UiNz297LYf4/7l97/GaH2b/FpGZja/xgihRFXx/9etjWYXdiK/61s/Hqxsj0SELI2cdnLkScf7mBmaF56W0LI/OKGpiNazueTZOzu86ucClrBq9p4dqitlXtbSO3GQoq+AJObD+pp1cvCyOL8W0ndPfs8XKDT+p96uHg8Tzg8gwCWgVUEHx5BhyKU3q7wtVYdHKRmlarafXCkwtTyhxXWvFGG7THY3GjQyEHtSIksdcFpCiGYTQaDVLp+6bt5+DTNJ2VlRUdHZ2Rnq5UKDQ0LZPJpFKpsETNnheJy+EsG/3Z3MHtMf0T6C5TQ+GuuUP6tPbQthWLSc1uNmmNrbmJhYnoSWJmTa1/4JNE9oZSrbkfk1rXwQrb5Icx99jcTVc3EkLOPPoraUWyidDkpUwpLr0tFlVwtkCr2q1W9F+x+85uX7cW0zpOr3Apm4Zvmt5puqnQ1MGs4r0Qng6ed+YHVvUNFZqemnyqigYivihwflBg7J16tvWdzSu4/pmjmePaIWt/vvBzLUvXH/r+UOGb2Jra5svyCSE2JjaJuYmvrF6WNGvolqH77u7fMGyDo9lHm5Obz+c7lBDw+ZK8vPv37/v6+mLb1vdUmpOTEx8fn5WdrVAoaI2GTaUURQmFwhrcMTZmxvu/Hd7Ruy62UdBdHrVsjy0ZWd/JWmvXMCNPmpEnrcFdMKSD9+a/ApVqjaOVuGNT/HvyztxPuj9xz4QiZdHyvst7evV6uUF0xovDlKVyaWp+agNhg3INpnWcHpn+NCQ+eIjvkE/rfVrhUmZ3nTO76yumYHO3e+/X6TUUGHZ071RFg4ntJ01sP6mKBnvH7Jt3bB6Xw13y+ZLWP7aq5nJPPzgVmhDy96wr9WzqfZyExOPZ2dnZ2dvz+Py8EsnJyQUFBUKhUCAQ4Fugj6mUIoTL5fL5fC6XS1GUUqXKzs5OSEhwdnY2NTWtqYOIrRrVOrzQ39FKjA0UdNegdk3+mDXQWGSAUnxEbTxcw/+YfS8mtVPTuriA/js0ed+ku/F3CSEB2wMyVmW+fMjm5A6Trj69oqbVn3l2b2Db4OV3EPKF20Zu05Ny+bj4XJhxgRASkRZRnfYcitOuQfuAlv79fPobGxh/rNXmcrnm5uYWFhY87osjbjMzM+/fv1+3bl0HBwd8C/QxlRKK4nA4PB6Py+VyOByVUpmdnZ2YmGhiYuLs7Fwju2RKnza/TPicj3PtQWdxOZwfx/SYPbAdSqEN6jpYYcf968ooyFh+drlcJZ/72Vw3qwouP1asLGZvyFVymqZfPkejd5M+z36IzSjIaOrSFPUslZybVHUDdzt3/5b+w1uOqPBogQ+Mw+GIRCJzc3NrG5uMzMz8vLzU1NQ7d+4YGxsjleppKqUoytTU1M7OLj8/v1AqpRlGrVIplUq1Wl3zOsNIKNjy1YChHfBPGOgwa7HRwQX+HbzroBTaT6FSX38Y62Zvgdhajv82/8tPLhFCbsXcfLSkghPPf+z3o/8f/jKVbEX/FQJexTtzncydnMydUMz/pFJJxac6WRpZDvYd4t/Kv4VrC21bZ7FY7OnhIZFIigoLk5OSrl275u7u7uODK1boZSrlcDiWlpaurq45OTmZmZk1uCfqO1kfWzzSw9UWGyXorhbuzkcXjXSyxsEnOkBD05/M2BASlcyhqBPfjUJByopMe8LeiMqIohm69BzzUt08Pkv7OZ1maD6Xj3JVX1Luf1KpgCfo0bhnQEv/Ho17am0l+Xy+sYmJSCSiKEquUEgkErlcjq58X6lPy9ePoih2/NzYyKj0wI6ap/+njUM2TEckBZ02toff9V8mIZLqirDolJCo5xGBZpht54L16rPfiL7hNt/VcqbFtlt/VNhg0j/n7oxrO/7lSMricriIpK+r9HKjLVxbrB+6PuWn1KMTjvbx/gKVBBYPJfjIHcDlLP8SR+CBbjPg89ZP/WJMdz+UQofUcbA0FhkUyhSEEC83+xP69NlnH57Fzk80bf+04X4jXp5lc173+b2afK5UK31csKP2XaIoan73b/xb+Vd4Bph2EolEjo6OFhYWXC6X1miUSqVKpVKr1exJ2OhTvUulXC6Xx+Px+PyS/+OVnvlUA6pvZ2Fy4NsR7bxqY0ME3eVsbXZ0cYBvA508+3DLVwMDujSb/8eZX45c17eOszAxvPLzhN//DKzraDlrQDu92odfOjJXxZ8STwdPfLvfuc3+m3VunQ0NDV1dXW1tbfkCAU3TcrlcJpMpFAoDAwMeD0N7epZKKYoyNja2K2FjY8Pn8Wxsba2trY2MjHT9F8onnm6HFo6wtzDFVgi6q6N33QMLRliLjXRrtZ2sxa0a1hrQ1mtQuyYl15HX06kHm9d3av7VgJr3uXKKcsbvHh+V8XRS+0kT2k18ucHqwWv+t2N0oaJwRf8VlV2OCIBlYmLSqFGjiIgICwuLgvz83Nzc9PT0zMxMW1tbpFJ9TKXsOfgODg7sFmBnZ2dtbW1sbEx0eeR8Rr9PV47rxeNysAmC7pozqP3yL7tzdXDHxcC2TX6Z8Dl6sKb67vR3x+8dI4RM2T+lc8MudW3KXz7A19W3wjPrAV4mEomcnZ0dHR3FYrG0oKC4qCgzIyM1NdXU1NTQEHMA618qFYvFTk5OSqXS2NiYy+U2bNjwxVipzqbSgwtGsCM0ALrr8EL/AW29dHTlJYUypVpTcgowJgauWFh0yjfbzgp43JXjejVwttatlS+QF7A3GIZhL3QJ8MbYSdMFJbhcrkajyczKio+Pd3FxsbS0RH30K5VyOByxWCwSiaysrDw8PNgd+oaGhnw+X3dTKSIp1AC6G0kJIdvPB28/H0wIidk5r44D/q5UoP/SnfEZeYSQtNyC4A3TtW315Cr5vaR79W3rWxpV0H1zus25Evl3Ul7S6Db/w+lK+ik6M/rdRhEWRVEMw8jl8sLCwho5bzpS6auxP1CMjY2tra3RYQAA7xvDMJmSQvZ2Rl6htq2eVC5t9WPLJ2lPxCLx1dnXvJzK/0BqZN8odnlcoaLQVIgD9/XRhivrZx6aiTroIhzXCAAA/0FR1JKArlwOh8flLAnoqm2rd+nJxScls9zny/J33N5R8d82ioNIqreRdNqBaRpaQwgpUhS9q7cVCoVmZmYGQiHDMMXFxfn5+SqVCtV+53D6GAAAlDdnUPtR3Xy5HMrCROvO56hrU4/dkVpy2fQG6CwoF0kJIRZGFrlFuUYG72x6EJFIZG1tnRAfzzBMUVGRRCJRKpUo+DuHsVJgxxUwFTD6EeA/rMVGHzGSSuXS9IL0Cp9q7Nj40LhD/X0GrOi/YsynY9FTUC6SWhpZnph88t2+uampaa1atUzFuHbd+4WxUmDTDIdmNKhDDehHFAE+gIJiuVpDv7/MeurByWFbhslUsq+7zV3eb/nLDfr59O/n0x8dARVG0gszL9a2fseXpzE0NLSzszM2MmIYRq1WK5VKmqZR9nf/VwwlAPbCpygC+lEPKVTq0v+Fatp7Ocy6/xKbAUtXHrr6nhbx3envZCoZIWTlhZ8wtRO8biT1dvZ+f8uiaVoqlWZnZysUClT+3f8VQwmgZNZGnhwHbteIfkQRXovHmJ9RhNe1aOcFdrbXRTvPfzWg7fu4jIKDueO9pHuEELFIbCjAROWgLZGUTaUFBQUZGRkymQzFRyqF90LEFxTgC1Yj+hFFgPfNWmwUm5bzPASYGr2nK3utH7pewBXkFuUu/nxx6TXrAT56JGVTaW5OTnpaGlIpUim8LyZCYUYBdpPVhH5EEeB92/n1kJmbTsmUquVfdn/jN8mUZq77e52hQDSlw1QToUm5Z10sXI5MOIJSg7ZFUnY2X4VCoVAqNRqcjKGtqXTLmSDvOg46XYis/CJ93g6sTExiMjPwfagB/YgiwPvWwNn6zA9fvuWb9FzbIywxjBByP+nBwXEHUVXQiUgK2p5KORRVz9Hqz8CIi6FROl0IFxszE5H+7v10MDPHlwH9CPBhqDSq+0n32duBsXdQEND+SGpqaurm5ibGzFBankpNDA2idsxFHXVdPVs7FKEGqI9+hI/tdni8XKXu0KQOVfnsuXwuv3+zAYdDDhFChvuNQNFAyyPp87RjYuLm5mZmZob6a3UqhZqhhVttFKEG8EU/wke1dPfFJbsuEEJGdPLZPW9oFS33frk3oKW/iC/q4N4RdQMtj6Sl85UaGRmhC94rzG4Iz3Vq5GHAw4muus2Ax+/UyAN1gI9o69kg9sa+v+9lS3M3Xt2w/+4+9ork5XA53B6NeyKSgk5EUkKIQCAQi8VmZmbmFhYioZCm6eKi5zCXPlIpvHtikWHfZs1RB53Wt1lzsQgzO770b9zbXYUVF3F9Lb71ndkbnm62vdZ3n7p/6og/Rsw7Ng+VAZ2OpKVs7exq165tKharVKrklOdUmOobqRTehxldPkMR0IM1j4DP/Ygv1zfbZg9aNKLL7IHt9n7bLzg+mH3w3OOzqAxUX6GiUDsjKSHE1dW1ha+vhaWlWq3OznoOqRSpFN4Lv9p1+jfzRR10VP9mvn6166AOLzM1FH7El+sbM2PR0pFdV47r5eni1sK1Bftg98Y9UBmovmkHpm2+/rsWRlJCSP369Tt36WJna6vRaPIkkry8PMxa+m7hbCf419rhAVefPskpLEQpdIulsfHa4QGoQ4WcrMWZksK3eTlq+GbOzTi//+4+c0PzQc0HoxpQTUq18uT9E7vu7CSEjGs7XtvmJbWysvL09Bw4aFBKcnITb283NzcDAwP0GlIpvBcOZuZ7x03qtWaVmsaPP935DnO4e8dNwkyllWnRwCUsOuVtXo4avhmxSDyh3cTSuyq15siNh1wOp28bTz4Px0VAxS49uSgplhBCJu2bxE5tq1VT5YtL1KtXDz31nmAPPvxHN0+vnWPG8zj4m6EzkXTX2AndPL1QisqM7NrsI768ZgtPDW//czvf/2t+MeLCKxuPWnlw2A/7Bi/b8+WqwygdVOZw6IsrzTIMM2nfJFy9CakU9N2wlq3/nDHL0tgYpdBylsbGf86YNdSvFUpRhZYNa/Vp/YYTZvVp7dGyYS3UsDIT90y4EX0jLDFs2NZhalpddePjtx6XuwFQjlKtPPXgZOldhmEoijI2MEYkRSoFvdbN0+vhd8tx8pM269/M9+F3yzFKWh075gx2d7Z53Ve5O9vsmIMDIqtSIC9gbxQpijSvOuync9MXOz07etdF6aBClyMvsbvvywbTImXR3bggFEdP4LhSqJiDmfmRydODYp+tuXjueGiIQo3JL7SCAY/ft1nzGV0+wxn31WdmLLqzdsqolQdP3g6v5kv6tPbYMWewmbEI1avCsi+WBWwLkKlkP/T9wYD3inM+9n0zbNu5YIYwY3u0ROmgQodCKji6g92VX3ryEyCVgv7yq11n//jJ+bLiyxHhwXGxURnpqZK8bKlUKpfLVEqlWq3W0DRD0wyDWr0rHIriUBwelyPg8UR8gYlQaGVi4mBmXt/WztetdqdGHpgq/82C6YmlowKfJGw5E/TgWVpydn6hTCFXqtlNl0NRQgHPWGTgZCVuUsd+bA8/7Livjl5en6f/nKFhNCL+q+O7schgWt9PUDSoTLnd9wimSKUAFROLDPs18+2HHfqg41o2rIW4+W4JeAIUAd6Jl3ffl/mtzvmk7icaWkMzNId6jSMPO/3Sqa6N1p0vH5oQMqLlCPQ4UikAALyeP25u3R24u4Wb3/998X98Lv99LKKgWH7o2gNrsXHvVo0oXOJVX728+54NowObD+zn09/O1O613k3IE/40YKV2ftLBvoMb2TdCjyOVAgDAa7gbf3fc7nGEkBvRNxzE9jM6z3zni2AYpvPXm4OfJhFCFo3osnRkV5RdD5Xdff82YbSUgCeY1WUWCotUCgAANUSaJLX0dmp+2ntZRK6UjaSEkFN3wpFK9dPlyEsFsoK29dq+ZRgFpFIAAKiZunp0a1m7ZWBsoL3YfuynY9/HIuwtTBq72T+Kex55O/vgkjl6ytHMKemnZIRRQCoFAICKifiim1/fis6MrmVZ65VzP70ZiqL+Xjl+58UQS1OjgC64kpae8nLC1MuAVAoAAK9KjfVt67/XRViJjWYNaIdSAwCu7QQAoO9kKhmxxB8EAEAqBQCAjyc5L9l9YQNOf4ozkCJC7Vq3rPyiPZfDHsamoZsA9AH24AMA6LW9QXuS85Kf3xITyk2LViy/SO49/pfUnAIORZ1dPqZrs/roLICaDWOlAAB6zdXS9d87Ui1aseuPYlNzCgghNMMcvvYQPQWAVAoAADXZoOaDV/RfwSQT5ibDJGvRivnUdTQWvTjxv42nK3oKoMbDHnwAAL1GUdTsrnPmdPta21bM0Up8Y/Wk/VfuNavnNKhdE/QUAFIpAADAx+Fdx8G7jgPqAKAnsAcfAEAvMAwTlRElU8lQCgBAKgUAgI9DqVZ2Xt254SJ313m1Hqc+rgGf6MzdyC1ngiSFCNkASKUAAKA7rkdfu/r0CiEkuzB7w5UNuv5xVh251vPbP8atPvLJjA0amkb/AiCVAgCAbnAwc6Qoir3tbO6k6x/n5O1w9kZ4Qsaz1Bz0L0DNgLOdAABqvkb2jbaP2r791vYmzt6zus7W9Y/T2afejUdxhJDa9paudhbo34/lWdazG9HXb0TflMgkRyccRUEAqRQAAF7Nv2WAf8uAmvFZFgzvXMfeMiW7wL+Lj4DHRed+MDRDP0p5dDP6xo2Ymzejb6Tlv7gY7Gb/zSgOIJUCAIDe4VDU8E4+qMOHoVQrQxJC2DHRO7G3JcWScg0sjSyH+Q1HoQCpFAAAAN6jkdtHHgo5WEWDsW3HifgiFArewQ9OlAAAoMYoUhTNPjy794be5x6f1c8K0AxzOzz+SWImNoZ3ZUvAliZOlV5bi8fhTWw3EVUCpFIAAPiP7//6fvWlX/56+Ge/Tf1Kj/nTK8OX72szY4PHmJ83nrqN7eGdMDYwPjH5pK2pbYXP9vPp76T7szoAUikAALxjMZkx7A2FWpEiSdG3j58rLT5w5T57Iavf/gzE9vCuuFi4HJlwlMep4Ki/aZ2moT6AVAoAAOVN7TjVyMCIENLVo5uPi96dD2RmLHKxMWNve7raYXt4V3KKchac+FZNq8s97uvq26p2K9QH3pXXONspRZISFFvBT08rE+v6tvXtTN/991+pVv758DSPy+vl9TmH4rxxGwAAPdGufru45fHJeclejl6l0+brDw5FXfhx3Koj18yMRQuGd8L28E5Epkf2Xv/5s6xnJZdgcE7KSyp9alpHDJTCR0qllyIu/m/n/yr/p7D9hmEbGto3fIcrJ1VIB/4+8HkgXpnKpl52wl5HM8cujbpW1gYAQJ9ZGllaGlnq7cdv4Gy9eeYAbAbvyqUnFwf9Pihflk8IGdpi2NaAraN2jDoccogQYi+2H9h8EEoEHyeVlurg3pEiL36CS4rzYrNjJcWSa1FXO//SKeK7J2KR+P2t7qkHJ2cfnt2lUdfSVAoAAADvw6arG6cfnK6hNRRFLfl8yYKeCwkh20dtj8+OC44PntBuAp/LR5XgI6fSs9POlt0QFWrFinM/Lj29NL0gfdWFVd/1+e5drZyFocX5GecZhrEwtHibNgAAAISQgmK5qaEQdXglDa2ZcXDGxqsbCCEivmjH6B0Dmg1knxLxRccnnWi3su24tuNRKHi33sGBmAY8g0W9Fvu5+RFCQhNDX26QXpCeJc2q4h2ypFnRmdEvXy6CoqjODbt0adRVwBNU9trqtKlCkaIoMTcR2wEA6Ja0/LS+G/s2W+bD7kuFVypWqNrP2iTus9Bv6lpJoayyZrFpOahVviy/57qebCR1MHO4OudaaSRl2Yvtg765a2Nig1qB1qVSloeDJyEkMSeh9JHkvORBvw9ynOPgOMfBbrZtrXkuAdsCsguzy/4UW/bX905fO9rNtnVf2MBypoXbfNefzq9gGIZtkFec5zLX2WWuc15x3oHg/S5znb85/g0h5O/Iyy5znV3n1VKoFWXbPE59zN4Ojg8ut3odfm7vMtd53d9rSx/Zfmtbk6Ve5jPM3Oa7usx19t/mH5cdhw0CAHTC3KNzTz04eT/pfsD2gKp/9gPr4NX71x7GEkLuRiZtPx9cYZuo5KwWU9ZGJet1PZ9lPWv9Y6uLERcIIT4uPoHzg5rXav5yM3NDc2xUoL2plD07z8HMkb17Lepa0++9j4YdSS9ItzGxsTSyTM5L3hu0p+n33veS7rFtJu6duPjU4rT8NGsT68aOjY0NjBNzE+cfm7/o1CK2Ac3QKZKUFEmKQq3ILsxOkaQo1Uo2zqZIUpLyktQaddk2jewbcShOiiTlYPB/ro32NOPp9ejrKZKUrh7d2EdGbh85ZteYx6mPTYQmzubOKZKUfUF7O67qgGAKADqh9Be+Uq0sVBSiIK9kIjIovS02quDymLnS4l4LtuUUFK8/eUtvq3Qt6lqr5S0j0yMJIX2b9rs257rjP3/WAT6Ad3Md/O23tl2LukoI8XLyIoSoNKpxu8fmFuU6mzvv/nLPp/U+JYSce3x21I5RqZLUiXsm3JkXKFPJdgfuIoR83+f7+d2/oSiqWFk8/cD0bbf++O3apqW9l5ab5mncp+MDWo3ccGX9ghMLOrh3PDbxGCHEyMBIrpb/G7EpzvCWI348u/xI6OGVA1aWzopyNPQIIaSFa4sGtg2e/2IOPrAncLeIL/rd//fhfiMIIY9THw/fMuxx6uMRfwy/NReXAwEAbbeg54KQ+OCcopxpnaa7WbmhIK/U/9PGswa0O3UnvLNPPf/O5WdyVao1/ZbsjE55nvV3XAj5v9HdTQwN3mxBp26H/33/mfZuOSM6WZkaVfanfOLeiSqNihAyr/v8ZX2W6eHkYqB7qXT0jtGlF3gokBdEpj15mvH0+a9PkXhW11mEkJ23d8RkxlAUdXjCEV9XX7blZ57dt4/a3mtdr+D44NMPT3k5NWEHPuvZ1GO3e0OB4Y/9f4zLiWMYJlWSWu4KZgKeQMATCPlC9qq7pkLTCtctoFXAj2eXJ+UlBcYFlk7teyzseYT1b+XP3p1/fD4hZEnvJWwkJYR4OngemXi0yVKvwNjARymPGjs2xpYBANqsdZ3WKStTixRFZoZmqEZ1UBT18/heP4/vVeGz41cfYffvE0KkxYodF0KmftHmzRZ043Hcr8dvfNHGU9sqkJZTEBSZOPWLNi+nUpqh5x2bt+rCz+y5Ipv9N49o6Y9tBnQjle6/u+/lBxvYNvjdfzM7Y2hwQgghpH2DDqWRlNXds4eng+fj1Md344J7N+nTyL5RRFqE/zb/y5F/9/Hu3ap2a0sjy0szL73N52lg26Bl7ZaBsYGHQw6zqfRZ1rN7Sff4XP5g3yGEkExpZkLJwa+eDp73k+6Xfa2LhUt0ZvTJ+yeQSsvJlxVfjggPjouNykhPleRlS6VSuVymUirVarWGphma/udQYHh7HIriUBwelyPg8UR8gYlQaGVi4mBmXt/WztetdqdGHmKRIar0ZgJjA7fe3Pow+UFyXnKholCuktMMze5mEfKFxgbGTuZOXk5NxnwypmXtltr/cfhcPiLpO7F8/987LoSUfWT9yVtT+rR+45HCnn4Njy8ZqW0fMylL4jLs/15+vFBROHzr8D8fniaEWJtYH5t4vHWd1tgqQGdS6aqBq7gcbuldSyPLerb1mzg1KT0LPjojihDiYe/x8ms9HJ+n0qiSBhuHbwrY5p+Ym7jlxuYtNzZTFNXUuWk/n36T2k9+m0lPA1oFBMYGHg07smrgKoqijoUdZQMxO610RGr4i3811vWs+Ndkfjo2i1JBsc/WXDx3PDREoVahGh8GzTA0o1HTGrlKVSCTZRTkx2RmlD5rwOP3bdZ8RpfP/GrXQa2qT1IsGb1j9KkHJyt8VsNoihRFRYqijIKM0ITQ7be29W7SZ/uo7ch8+uDI9Yffbj9X7sGo5KwLoVHdmjeo8R8/MTexz4beD5MfsoM1J6eccrV0xVYBupRKJ3eYUvXEuexJ9BX+ymR3/bPX0v203qcPFz/669GfZx6dvR51LSkvKSwxLCwx7I+bf9z4+qa92P7NPtKg5oNnHpyZnJd8O/Z2mzptjpak0oB/dt+zQyPs0kuvBVCWrSmmunguVZI3be+uo6HBKIVWUahVB4LuHAi607+Z79rhAQ5mOA22WpG0zYrW7Akc1XTqwck2K1rfmnsbwbRmC36aFPDTAaaivT3rTtyq8ak0MDaw36a+GQXPf/f2aNxz35h9JkITbBWgY6n0ldysa1+Pvh6TGfPyU1ElR6DWt63P3jURmgzxHTrEd2jJU1Fr/1676erGuOy43679trT30jdburmh+edNeh8JPXw45LCzuXNwfLC5oXnPxi+OJXK3e3FN1IPjDtma2mILqND5xw+Hb96YU4gTe7XX0dDgq0+f7B03qZunF6pRtdE7Rr9WJGVFpkeO3jH6+KTjH339r0ZdPf3gdLv6bXs36YPefIeSsiS9F22XKSreEXTmbmRManZdB6ua+vH33903ZtcYuUpOCJnReebKASvLnWQM8OG9l03Q26kJIeRixAX2LKhSd2LvsDOJNnHyOhC83/orq1bL/z14q75t/fVD17dwbUEIiUiLeJsVGNkq4Pmf7bAjR0IPs6OnpUcXOJg5sBP/ljs6tkhR5L6wgXia6YHg/Xq+TewPutNrzSpEUu2XU1jYa82q/UF3UIoqBMYGVrbj/pVOPTgZGBv4cdf/XtK9Lr90XnNpdd+NfS+En0eHviuFMkWvBdvSc6WVNWAYZsPJmjklC8Mwi08tHvHHCLlKzufyfx/x+6qBqxBJocam0i8/GWMvtlf/P3v3Hd9U9fcB/Nx7s3fadKebbgp00YIsZYigCAqIoIgCgqDy4PgpiIgDFcUtDhBQUEAEGSLIlFmgg0LpgG66V9LsnXufFwnU2hZkthnf9x8akpvk9HtO00/uOIe0TFr5mP0UUvtn61Nrptr2VkZPSJ6YFJws18ozKjJW/P1169GTGkVNnbIOIZQQ2KfTV7afAFCnqLVfv38tI+Lu9xH41Cpq39r5FkLoibQn2j762sjXEEJL/liyLed3+z06k27htoXFjcUGs2Fo9DB3HhB783KnrvrOQlrhd8MpWEjr1FXf7c3LhVJcy08nf7qdp687ua57259ZntF63tHJ7o7ILsNKkpOW/pJbVnf9zdbuzdTojS72sxsshkmrJr3357sIIQ+ux1/z/poxcCYMCeAg7soRfC6Tu2Lyisk/TM6tzu31dnyEdwSBEwV1BVbSymfxV0z5hobTIrwjxiU8si3n9xc3vbh83/JovxidUZt1KctgNnhwPSYkT+z0le1nYefV5vFf4HEYnLrl9dcKr5P7TvnswKc6k66Hd492lxM+N2TOr5m/ZlRkjP9uvFQslfAkhXWFRsvlj553x77rxfdy29FQq2iZsvIbiKROF0ynrPwm950P4BzTa6W623p6RUb3tv/+uJEijkihU7Dp7LEJY6FD74iXvvvjz9OF/7mZUmtYf+DMcw/168q2tbS0HD58uLi4WK/T9YyPHzlyJJvNxvE7tAuJ0Exe+1Be7Vn7lDU7nt8Z4R0B4wE4jru1x/7hPmNPL8wY0GMAhmEFdQXna87TCfrQmGFn3swZEjnEvs3P039+afjLIo6oUl65L3/v8ZLjZqt5eOyIgy8dsv+eEBjR7mUfiB81JfUJHpNnIS0qg8pKWjtuYzfVdhAfITQldUq7h5g05tH/HXtlxKsSnqS6pfps1VmjxSgVS7974rv/3f+aO4+GF39ZBwfunZFMo3nxl3VQh07VKGpu5+nVLdXd2/5gz+Dzb+X9PP3n3CXne9tOjgK36Zud6V9uO36DG3+1/XhX/zrLZL/99tvnn3++7MMPN2/erFKpLBbLHXlliqJwv232SDo0Zlj66ychkgJHg1F3eaZJs9VcWFdI4ES0b3Tb+aRamSymqpYqmVbGprMDxYFdfMVrjaKmUl4pFUulIqlrL2KBPfOEYsXK60x1ebqsNO29t+BXwnmdWvT2daaLUuh04uefpdb87G5l4T7PsV/PcWtYdJb2a51b/DG4+gFIufr0w6cvVB7KKTmSW5ZeUKHW/fcB+v3Lnh2WeBPp7dWVuworG3e998ytNa+kpGTx4sWHDx9WyOUDBg58cd68nj17hoTcgdmaqpoUQc/MYQb+/sw9z3z5+Jetq+EA4Dju+qCkE3T7MqTXwqAxwr3Cw726Z/LFAFEALPJr9/n+v6AIzt6DG2fNhTp0/N7bjU8HDig1Oig1OmjB4/dZSfJMcc2R3LIjuaXH8yoUGn2n23+1/cRNpdLbh+M4jmEIw5qam0+cOMHj8e5IKr3MEPDH7MPDe6XBMABumkqBU1Dqdduys6AOTm1bdpZSr4OVn9ppvVSoW54OHBmB4ylRgSlRga9MGExSVG5Z3dHLCbXs2PmyJqW2dbNdpwrK6+Whvh5dFkmZTCadwcBxvLqqavv27b4+PkOGDLlTrx8mgaP2AFIpcGwHC/Jh9SZnZ7SYDxbkP5KUAqUA4KazIIb1CffvE+7/4rgBFEUVVjba96EezS2vk6tW7Ei/1gL6dxyDwQiwMRqNKpWquKiotrbWaDTSaDSCIKCnAKRS4PoyysugCC4gs7wMUqnzqlHUTPx+wvma83OGzP3wkQ+hIN0Fw7DYYJ/YYB/71ffFNc3ny+u67N15PF5ycrJOpzOZTNXV1Raz2WQyqVQqPp8PqRRAKgVuobgBVv93BUXQj87swz0f2ift/3jvR+OTxicHJ0NNHEFEgCQioOtWeGKxWDExMUaj0WAw4DiuUqlqamtPnTrVq1ev4OBg6A4AqRS4vlpFCxQB+hF0Lwr9c/F7pzOWAHfAZDLDwsLYbDaTydRoNBcuXCgvLz9w4ICHhwekUuDyYIUxcFmzWg1FgH4E3WvhAwv7hfUTsoWvjXw9ITABCuKeMAwjCIKiKL1ebzQarVZrfX39uXPnmpqaoDjA5d3uvlILaWlUNbpGLcQcMZvBds9xoDYY4JcB+hF0L3+R//HXTkAdAELIaDQ2NTWpVCqrxdLc3IxhWEsLHAkBkEr/S0VzRdSbka5Ri3XPrO+4EJSb0JthUkboR7fjwfUgcKJJDbuggMNpaWnJzc2tqqy0Wq04XOQEIJXelAMvHZSKpU5diLi3Yt15HJju0Ip2APrRKYR4hvw845fU0FQcwy/JLi3asWjD6V+gLMBxmM1mlUql1+tdfqktAO58Ko3wjnD2VOon9HPncWCxwlTh0I/ugk7Qdz7/R5x/nJW0ak3aYM/gNU+tKWkozqjIgOIAByEQCCIiIqqrq6urqqAawH3A1U4AwQI20I9uJTk4Oc4/DiE09pux/q/6Naob6QT98b6Pd8O3CBL2bYNr/G3GcQaDQaPREIZBNQCkUuBuaQYOEkE/3hwraXXSKg2OGoIQKmks2X3+T41R88OxVa13dpkWXcu9y4cwn2OM+2ac0WKEoQvaMZlMcrlcq9XCEXwAqRQAAP7DiM9HOOl1QuFeYQihI0WH7f88XHTEdmd4V7ZhzfHVR4uPIoR2ntuxPWcbDCfQjlarra6ulsvlJElaLZeRJBwJAZBKAQCgM4cv/p2yNDmzItPpWu7J9UQItUbqZtsNHpPHoDG6rA10gt56m0VnwXACHVNpTU2NoqWFsqdSs5m0WqEsAFIpAAB0rqqlavDHg9acWO1czTaYDW1zof2GlbRarF13lufMQc9OSnncT+g3997nH+z1EIwl0E5QUNDYsWOH3HtveESEh0QCBQFuAlYc7Qbv7npn0eg3MTiHHTg/o8U4c93MU2Wnv3r8KyaN6RRtblA1IIRi/GLs/4y23WjSNHXltWJsOvuXGTAXFbgmf3//UaNGcTgcg8FgNpvVKhXUBLgD2FfaDZb8seTBrx9s0cFCHcBFrD7+w+CPB1W1OMcUNgcvHEII3Rt9X4R3BI7hMwbMQAgdKjwI/QgcB5vNlkqlYWFh4eHhQqEQCgIglYK76K+8PcnvJZ2pPAOlAK4hsyIzZWny37bA5+D2F+y72HCRTWdnLcqWf94yMGKghbR8e+Rb6ETgOOh0ukgkktiwWHDmMYBU2t3kcvn58+ePHj167NixEydOFBcXq1Qqk8nkMtchVsgqBn40YO2JNTAKgWtoUjfd/8X9n+7/xMHbabQYx3z90JnKM1wGl8/i1ynrZq2flV6aDj0IAADdy3HPK62qqjp48OCFCxfskwmnpKT069fPy8uLw+HguIvs4jWYDTPWzThRmv7141/DdbjABVhJ66tbXj1dnrH6qdU8Js9h21nSWJKyNNlH4OPB9SisK4SOAwAASKXXI5fLCwoKMjMzL7eSRmMwGAEBAQRB0Gg0Op3uSn2w9sSas5U5v83eEioJhREJXMCW7N8KavO3Pvd7pE+kI7ezQdVgv/LpbjtbdfZ/W/+HIeyj8R/1lvaGEQIAAJ1y9J2OVqtVrVY3NjaWlZXl5uZWVFRoNBrX64acqpyUpcl78nbDiASuoaCuIPX9vjvP7YBSIISm/DD5YOGBA4X7J696HKoBAADOl0oxG5IkdVptY0NDZWVlQUHBpUuXdDqdS/ZEi67loa8fWvLHEljKHLgGlUH1yLePvLnjTRjSjepG+41mTTMMDAAAcL5UKhAIQkJCQkNDBQIBoiirxWI0Gl3paqeOKIp6d9c7o74cJdPKYGgC1xjS7+9eOvqr0XKt3J3r8PaYt+kEnU7Q33n4HRgVAADglKk0LCysR48eQqGQQshitRoMBpPJZHX1Vdf2F+xLfi/JGRdyBKBT+/L3pixNzqnKcdsKzBkyt255ff3yhlmDZsN4ADfOYDC0tLQYDQZk+yNoNpspioKyAEil3YAgCBaLxWazCRrNvtOFtHGHXqmUVw7+eNDKo9/DAAWuoUJWMXDZgPWn1rltBcQcsYgjgpEAbkpDQ8PZs2ebmpooitJqtSqVymw2Q1kApFLQ1YwW43O/PDdt7TS9WQ/VAC5Ab9ZPWzvthY0vmK3wZxWAG3JlX6nRSJKkXCarra01Go1QFgCptBvQaDQOh8Plcuk0GkVRBoNBLpcrlUqTyeQ+3bP+1Lp7Puxf2lQKIxW4hm8Or7jvk3trFbUO0p6VT67UrzDMH/YSdA1wQARBMBgMnCBIkqyrry8rK9NqtVAWAKm0G7DZbC8vLx8fHw6HQ5GkoqWltKSksrLS3X4nz1WfS1ma/Me5nTBYgWtIL01PWZp8rPhYN7ZBKpaOT5qwaeam6QNmMGgMDoMD/QIckEgkCgkJEQgECCGzyWQwGNzkNDYAqdThsFgsiUTi4+PD5nBIipLL5ZWVlXW1tfbdpS5/zVNbSr1y3LfjFm1fZCWtMGSBC6hX1Q/7dOjXf3/VXQ0YnzTh12d/nZA8EfoCODKJRBIXF+fp6QmlAG7Ccdd2YjAYAoFAJBIxGYzWO7VabWVlZUVFhZeXl1gsdp9+oijqgz3vny4/vWHGBi++FwxccKcQs7rnq6mFtMzbNO90ecb3T3zf9bsqFTqFyWK6/DlDY8AYAI4MwzAoAnAfjruvlE6nC4XCy6mUyfwnlep01dXVly5dUiqVbthbhy4cTF6adKrsFAxc4Bo2nP7lnmX9y5rLuvh9f0xfy57LYs9lwUnbwKG/NNrOK2UwGDQ6ncFg0Ol0CKkAUmm3fUHEMIzNZvv6+oaFh3t5edHpdJVSeeHChby8vOZmN10ipbqlesjywd8cXgFjF7iG3OrcvktTYLldADqyryYTHBwcEBAQGBTk6+vLYrGgLMCF0Ry8fUwm0z8gICIioqKiQqvVKlWq4uJiPp8fExPT/d9iu+nQp9lqfmHjC+mlJ1c+uRKu0gAuoEXXMubrMYsfXLxo9JuwKwiAtqk0LCwsMTGRy+XGxcX5+vq2PXgIAKTSLk9+BMHhcIRCIYvJxHHcbDar1WqlUmmwrXXhzjZmbDhfnfvb7C2RPpEwjoGzIylyyR9LMi9lrX9mvZAthIIAgBASi8X2A4YajcbT01MgELS90AIA1wOz6DuxvNq81Pf7bsv5HUoBXMOfubv6vp+SV5sHpQCg9arfoKCg2NhYHx8fNpuNEwSUBbgwR99XiuM4g8Fgs9k0+1neFGVfetT2fwquT1QZVOO/G//KiFffH/c+gTvHpxWHwUgMDu0VGKjU6fNqqs5VVdrv9xEIfYVCCqHcq/fY5pX08OTxWnTaSpksytePRacrdLpLsn/OKu4ZIL0c0Guq271LD28fbptDXRRCpY0N2i5ZFiXYUyLicArrak0WC3zE3KySxpL+H/Zb9eSqx1ImQTUAAABSqQOh0+lisdjPz+9SRQVOECRFWSwWs43FYiFwHIMvjggt3/dxZkXGxpmbfAQ+Dt7UafcMWvHkNE6bg1CHLxQ+uerb6hb5nPuGLR4zDiH01A/frUs/bn908ZhxMwffu+n0yce/X7Hthfkxfv5KvS5qwasNqiuTMBxfuFjI5oz89KO9eblt32jt9GcHRES1vcdosRwruvDW9q3pJcV3tzsemzw+ue+CLb9+uPsPGJy3QGvUTv5hckZF5rJHl9Hwu/sZZbQYW/8LAACge+GOn0o9PDwCAgL4AgGB41TbVGo2W2GVi6uOFB1JXpp0ovSEIzfy5ftHrZ3+LIfBaFKrduRkZ1WUI4SGRMfs+r9XaG129H48cbKIc82ruIRszieTJre7k3ONc60spDW3ujK3ulKu1TBptGGxPX9+dk7X/LBcuCjh9nx+4LMP93xwt98lfklPYha+fN/HUHAAAIBU+h8YDIavr290dHRAQIBAKKTRaEajUaFQyGQymVyu0+nsx/EBQqhWUTv0k/u+PPiFYzaPw2C89fAjCKEmtarPW2+M/eqzvu8u3nj6JEKod2BQYnBI65beAsH7j15v0Z0paffcGx17I2+68vDfvRcv7L14od/85zfZ3itU4sX/99QqHlxeawgmcNxfJGbSOt8/5y0Q0DvbN+8tEDBu8ing+jAMWzjqjYWj3oBSAACA+3CGmaH8/blcrlQqFYlEer1er9OplEq5XC6TyQiC4PP5MJVMK7PVPH/z/JNlp1ZNXcVj8hyqbcPj4u1xcN6G9bWKFvuCVQu2/DoxJZXA8T5BwW03njVk6NrjRzPLrzm5+jdPTuv91sIbP3HTZLFklJdNSu1nJUmKQsPjen44flJJYwOHwRjdq8/2nOx5G9Z/MfnJ0b36MGg0K0nuz8+b+/OPZU2NyyZMGhbb81jRxcFR0X2Cgk0Wyw9HD8/9+cfLvzw48dqoB6cPGhIq8TJZLAcK8v7326b8q2e4DoqKPvfO+72kQW2fAm6EkC386emfHuo9BkoBAABuxdH3leI4zmQyeTwel8tlMpk0giBJ0mg0ymWy2tpatVoN+0o72pz1a9oHqTKtzKFalWDLnXUKxa8Z/6xNdUnWLHlxtuTF2WuPH7HfU9rYoNTrcAz79smn8c6+b5y5VIEQivbzf2XkqNY7r/XNJMrX74l+9zzR757XRz00f8RIhNBfebkao0HM4SYGh0xMSX2wdwKGYY0q1e75r45LTMYwLKeyQmM0jIzvtXH2XIRQmJd3YnDIvOH3Sz08mjVqBo02575h/cIjEEIrp01/75EJoRKvwrpaCqFRvfocfu0ND+6VLwODIqP9ReJ2TwH/Kc4/7vTCDIikAADghhx9XymGYQRB0GmX0el0nCDss5bKW1pqamokEglJkgQcIf03Np396ohXPbmeDtWqSF8/hFBxYz357y8SCp2u7T+rW+TL9uxa+dT0pJDQ5+4d1vF11h4/0qxRj4iLX/Tg2A2nTl7/TYfGxg2NjWt7z/YzWW3/+cupEy/8so5Jo51Y+FZZU+Osn9YcKMiblNpv46y58QGBrZuVNDYkv/2mxmg4/+6HMX7+k1LT6pWKafcMRAg9s2bl2uNHw7y8C5Z+JOHxB0dFX+spJ0uLYXBe34TkiaunruYyuVAK4NT+PF34xpo9jtaqqiYFdA2AVHoHgilOXIHjOELISpJ6vV6lUhkMBthX2k6YJOy32Vv6BPZxtIbZr5pv3ZXYakyfRD6LnVv9z2xQq478/VhK2tDYuKWPTjh68WK77SkKPfvj6rz3PuQxWV9NmXr9Nz1ysfDbvw8ihPgs1tjE5NG9+qyaNiO/psb+qNlqnf3TWo3RgBB66ItPnrpn4Ev3P/DNk9PCvLzb7X/dkZOt1OtsMwYUxPj585is3kFBGIYp9bq1x48ihMqaGn3mzaERuEKnm5zWv9OnwOC8DgInPhj3wcsjXoFSAGcXKfUalhiRVVTtaA0jKWpEUiSHSYc+ApBKQVcY3evBdU+vE3FEDti2vOpq+/Si8dLA89VV9jtFHM6WufPoBDHzxx/abjzzxx/Ov/uhkM15qE9Cx5e6JGt+/bdfv37iqQd7J1z/TfNralpPGFiXflz9zQ8MGu2BXr3zbA2olDXbI2m4t3fGm+9wmcwquSy9pLiooX50r3/Fer3JZL9hsV6Z9oFFZ9jmMPpnRqEYf38uk3n04oVrPQVcizffe+Ozm4ZEDoFSABcwc1TqzFGpUAcAboHTrO1kP5SPY5h9Ln2SJK1WKwkzQ7V2JIa/8/A7O+bscMxIihDakpVh3126YdbcEImX/ar8VdNm0G3T0B4syG+7cXlz0xu/b77Oq33z94FjRRdv/N05DMbk1P72K+UtVuuVvHh1/ET6+HGZTLlW0+P1lyd99/We3HP/+YIFtTUIIX+ReGR8r8uR1M//xMK3DryyIDkkDEbjTekb0jfzjazuiqQrn1ypX2GYP+wl6AgAAOh2NGeJpGw2WyAQsDkcXKm0kqROp7Ovhg9H8BFCEp5kw4wNQ2OGOXIjlXrd3PU/bnru+Z4B0rJln5Y1NXry+PYpmZbt/qO8uand9l8d2DcxJa1/j84vEqIoasaPq869/QGLfr2jUbPvHTpz8L32KZ/s107pTKbNmad7SQPbbmafvMmDyzvy2iK1wXBfTKxtbyj9+aHDr/XKuVWVBwvyh8bGbX/hpczy0sTgUBzDDhbk204efQDG5A2aMXDmV5O+YtC6emlvqViaFtZvfOKjE5In2r60cKAvAAAAUumNYrPZQqGQw+EQBEFarXq93p5KoQtTQ1N/nbU5UBzo+E3dmp056IP3Vk6bHucfEO7tgxBSGwxLdmz9Yv9e2/o65rYbkxQ1fe2qs2+/z6TRVAb95Q3MZtsiq3r7BkX19W9t37psQufrUhrNFtsuZMy+bDRJUdUt8pxLl97/c8eFutoo26VXrf7MPftrxqnH+qalhfdACJ0uK4328xOyOVP7DyxqqOs0YSOEHv/+6x+envlQ7wT7IlL5NdX/t3F9xx+k7VMckPX7WzzgQMy6rSMtTBrz68lfP3PP9G75qccnTfhkwifw6QEAAA4Fu819jSWNJVFvRl76sFIqlt69VprN5oMHDx4+fDg7Ozs/P99qtUZGRvbu3XvYsGEPjBzJZN2B60iCXw96f9wHU1KndNlf5Tti1qDZnz/2+Y3sasKeeUKxYqWQzbnWo13ZbCGb01MqbVarSxobHGeBLj+hyF8srpQ1N6nVPCYrys+vWi5vXdr0WnhMVoSPb7NGXd0id4Q999Sanzu9X6HTiZ9/9lqPdnEqDfII+m32luTg5C4oSKftnNb/6W+nfIsQsv/uLN6xeOnu9+54cHeyPwZXL++DA1AAgO7iNEfw+Xy+n5+fWCSi02jWq+cFujMOg/PdE99NSX3CGRuv1OtOFBc5WqvqlIo65ZWZUzRGQ7ZtQdT/pDEaciorYEDeuPuih26cuVHCk3RjG35MX/tj+lqEUNF7xeFe4dApAAAAqfQmMBgMDofDYDJxHKdsE+lrtVqTydSNX+q769AnQijCO+K32VviA+JhBAPn8sqIV98f9z6BwxzDAAAAnDaV/isOWq06rbalpcU918F/uM/YtdPWCtlCGL7AifCYvLXT1j6S+CiUAgAAgEulUo1WK5fLtVqtW6VSAifeffjd10a+DgMXOJcon6itz/0e4xcDpQAAAOBSqdRoNKrV6qamJrdaB9+b771x5sYhUffCqAXOZWzCuLXT1gpYAigFAAAAF0ylRqORRqNp1Go3mUi/f3j/Tc/+GiAKgCELnIh9cYfXRy5ou3wrAAAA4Dqp1N08f+8LyycspxOweDFwJp5cz19m/DI8doRDf8W1GFv/CwAAAFIpuCYuk7vqyVWPpUyCUgDnkhiU+NvsLSGeIQ7ezvglPaGzAAAAUulNwDCMw+F4enry+XyC5i5JOsonastzW2P9YmGYAucytd9T3075lkVnQSkAAAC4YCoVCAQBAQEeYjGd7hYHsh9NHL/6qdV8Fh/GKHAiDBrj0wmfPjdkDpQCAACAy6ZSHo/n7e0tFApprr6vlIbTPnjkg5eGvwyjEzgXf5H/5lm/9QvrB6UAAADgsqkUIcRms3Ec5/H5NMKVV4XxFfhufHbToIhBMDSBcxkUMWjTs7/6CHygFAAAAFw5lWIYxrLh8XhMJpPJYFisVkRRVpI0m81WqxXHcReYemZgxMCNMzf5Cf1gXALn8uLQeR+P/5iGw9WTAAAAXD2VtuLz+X5+fvX19Sq1mqQolUpVVVVlsVhEIhGDwXDqnvi/YfOXPboM/q4D58JhcFZNXTUp5XEoBQAAALdLpf4BAbV1dWaLxWgwqFSq6upqJpPJ5XKdN5XyWfwfpv4wPmkCDEfgXMK9wrc+93t8QDyUAgAAwO3Dnau5EokkNjY2MjJSKBRSFKXX62UymVqttlgsTtoBsX6xpxachkgKnM6o+NEZCzOdPZKufHKlfoVh/rCXoEMBAKDbOdm+Ui8vr/j4eLVaXVZaWl9XZ9Dr5XK5Vqu1Wq3OWP2JyY+tmrqKx+TBQAROZ+fcnc57MrdULE0L6zc+8dEJyRPt5yFAhwIAAKTSm8Pn84OCglQqVX1dHY/Hi42N9fX15fP5TjddFJ2gf/ToRy8OnQdDEDgpp76+cHzShE8mfAKdCAAAkEpvHYvF8vT0jI+PFwmFMpnMy9vbPokpi+VMq8j4i/w3PfvrPeH3wPgDoFsodAqTxWSf9h+qAQAAkEpvBcOGz+cHBwc7b9Gz3siGaR0B6EY/pq/9MX0tQqjoveJwr3AoCAAAOAIcStD1IJICAAAAAEAqBQAAAAAAkEoBAAAAAACAVAoAAAAAACCVAkcdB848yw+AfgQAAACpFLhMmoGRAP3ojowWY+t/AQAAdC8alABcHgcEbiGtUAcX6Ecowk2JX9ITigAAAC6VSp9YPcVP6OfUhahuqXbnccCg0QxmM/w+uEA/QhEAAAC4aSoVsoWzB892gULMHjw7wifCbccBm85Q6fXw++AC/QhFAAAA4Kap1IvvtWLyN1BHZ8dnsRpUSqiDC/QjFAEAAICTgrPQwGUSPh+KAP0IAAAAQCoF3cxfJIYiQD8CAAAAkEpBN4vw8YUiuIBI6EcAAACQSoFT6xsaBkVwASnQjwAAACCVAqc2NDaOSaNDHZwak0YfGhsHdQAAAACpFDgxIZszLikZ6uDUxiUlC9kcqEP7z7jbW+8KlssCAABIpaCr/d/wkVAE6EHXw6AxuvHpAAAAIJWCm5YaFv5oUgrUwUk9mpSSGhYOdehIwBJ049MBAABAKgW34sspUz15PKiD0/Hk8b6cMhXq0CmpWNqNTwcAAACpFNwKf5H4l2fn0HACSuFEaDjxy7NzYKbSa0kJ6duNTwcAAACpFNyi+3v2+mnGLAimThRJ182cfX/PXlCKa5nab2o3Ph0AAACkUnDrJqf13/V/L8OhfMfnyePt+r+XH0/tB6W4jrSwtDG9H761547p/XBaWBrUEAAAIJWCbnN/z16573wAFz85skeTUnLf+QD2kt6ItdPWRvtG3+yzon2j105bC9UDAABIpaCb+YvEW+bOO7Xo7Ump/WCCfcfBpNEnpfY7tejtLXPnwbmkN0jEEZ14Lf2m9piO6f3widfSRRwRVA8AALoMDUoAriM1LHzjrLlKve5gQX5meVlRQ32toqVZrVYbDHqzyWSxWKwkSZEkRUGt7tg3RQzDMZxG4AwajU1n8FksCZ/vLxJH+vimhIYNjY2DqfJvLZhum7PtVNmpH47/kFt9rrqlWmPUGMwGkiLtU+Wz6CwekycVS3tJe88YMAMO3AMAAKRS4IiEbM4jSSmPwAF94OTSwtIgbgIAgMOCI/gAAAAAAABSKQAAAAAAAJBKAQAAAAAApFIAAAAAAAAglQIAAAAAAEilAAAAAAAAQCoFAAAAAACQSgEAAAAAAIBUCgAAAAAAIJUCAAAAAAAAqRQAAAAAADgSWAcfAAAAALei/tCehoN7HLZ5kc+/xvYLgG6CVAoAAAAAFyc/c7pk9VcBox9xtIaZ1arGoweCH38GUimkUgAAAAC4Ba/+Q9JWb3W4VKpS7IwUQ+84HTivFAAAAAAAQCoFAAAAAAAAUikAAAAAAIBUCgAAAAAAAKRSAAAAAADgGOAafAAAAADcdUaj0WAwqNVqlUqlVCotZjNJUZ1uyWAwmEwmh8Ph8XhisZjD4WAYBgWEVAoAAAAAcLtIkpTL5VVVVXl5eefPn8/Ly1OpVBazudONxWKxl7d3SEhIVFRU//79Q0NDaTQaBFNIpQAAAAAAt8VkMmk0moyMjKzMzItFRaWlpZcuXVKr1WaTCSGEYZh95yidwUAUZbFa2fX1/OrqysrKiooKpVLZu3fv0NBQDw8PHo8H2RRSKQAAAADALdLpdPX19Xv27Nm3b59ardbrdEajkSRJ+6M4jrPZbK7tYD1FURqNxmQyKRSK5ubm0pKS0pKSwsLC0aNH9+zZk8vlQiqFVAoAAAAAcItIkrRYLFqtVq1WazUag8HQbgMMw3Acp9FoFEURBIFhGEmSRoPBjOMq9WVGo9FqtUIlIZUCAAAAANwWyqbj/TiGEQRB0Gh0Op3BYFAURafTrTY0Ov1KqLVaLRYLpFJIpf+ir6uWZ59GCEn6D2Z6SDpu0JKbraus4IVFCGN7OciPp8g7q60oFUTF8iNioLMBAACArkeSpNnGYrG0Hri385BIfLy9+6amxsXFSSQSgiCMRqNSqZTL5RcuXCgvL7ff4B86hBDy9/dns9k0GuxQg1SKUP3BPWdeeRYhFPDgo2k/bOm4QdmaFRWb1kofmpC6anO3/DA1u7aaNSq/YaOZEm/7PRUbVpeu+Tps6qyEj76DzgYAAAC6HoZhNBqNz+cLBAIaQZhtl97T6XQmixUUGBgdE/Pwww/369dPKBQyGAyEUEtLS1NTU3p6+smTJ9PT02Vy+ZnsbJFIFBcX5+/v7+npCSWFVPqv8Ffz5+8Box9xtB8m6/+etmjUQ3alt6ZSAAAAAHQvPp8fGBh47733MhiMwsJCuVyOEAoKCorv2TM6JiYqKkoqlV4OrFd3gvJ4PBqNNnjwYH9/fzqdfiY7u7qm5tTJkwwGY8SIEYMGDYKSQir9l7ML5noNuJchFDv4j9dj5jy/EQ9xAgKhpwEAAIBuwWAwRCJRUlISj8eTSqXNzc0IobCwsMTExJCQEH9//3bb023s+1bVarXVam2WyRoaGo4fP+7r6xsRESESCtkcDhQWUinCaDSCyTI01p9/6+Wkz9fc4LMsOq2pRcYJCLreNlqNWaVk+wVcZxuKJI2N9RadliH2YIj/ex8+L7QHL7THLVdHV1PJ9JAQbBj6AAAAwK3DcTw4ONjb2zspKclisSCEWCwWl8tlMpnXeZZAIBg0aBCGYbW1tcXFxUVFRTk5OeHh4fHx8VJIpS45Tm72CSwv356LPkQIVWxa23hk/39uX7Fxzf4h8TsjhHuSgncnSDPnPqGtLG8XNAuWLzk4LGFnpGh3gnRPUvDFLz8o++m73QnS8+/8r3UzVVHB6VmTtgez/uwTsLd/5B8xkr33RFX+tt7+6P7BPXcnSC0aNULoxJRRuxOkF79ehhDK/3DR7gRp/rI3EULZ//fM7gTp6VmT2rWwbu/O3QnSvf0iyKuLTBjqa0/NmPBHtOeepOCdkaLDYwaUrl0BYwUAAAC4NRiGsdlsDw8PqVQaYuPr68vn8+0nkl4LnU739PQMCgoKCwvj8/katbqioiI3N1cmk0FJIZVeET5tjmfqgMs575VnLTrtdbbMfGFq9vzpqgt5NB6f7R+or6up3PrL0XFDWoOp1Wg49cwjhcvfVuSdxWl0tp9UV1OZ9/7CC58v1dfVmJUt9s20FaVHxw2p3vEraTbTBUJBZCxGEJrSoswXn7InY6O8WV9XY9/YrFTo62pM8ubLt1XKy7dlTQghj+R++rqa2t2/mxTyto2s2rZRX1cj7pOC2yahkJ85vf++3jW7tphVCm5QKEbQZBknzi543h5tAQAAANB1MQXHBQJBSEiIh1hsMpnq6+ry8vLsZ6YCSKVXvvIkffoDwWTpqiry3194ra2qtm+q/G09wWKnfL1+zMWWUWcqhx8+L4juqaupzHhusn2b8nXf1/61A8Px3u9+PqZENSqnauSpEn5EjL6uuu1LlfzwpVHWxAvtMezg2YcuyIcfzX8g6xI3JBxRVN3B3QihBzLLxxQraVweQmjg5v1jipVxr7/Xrj3SMRMJFps0m2t3b2u902o01B34EyEUNOFJhBBlsWTPn26SN3sPHj7qbM3IjLKHS1Rxr72LELrw2XsNf++FEQMAAAB0JR6PFxYW5uXlhWEYSVEkSXY69Slw11SKED88KubVJQih0jVfy7JOdrpN3nuvI4Ri//d20Pgn7PcIonv2W/M7zmDKs08pC89TVmvx958hhMKenttj5jz7rkpuSHj/dTsx/F8Nk2WmYzjeY9Z8YVxv+0NsvwCfIfcjhHTVlxBCBItN5wuQbSEygsOl8wU4o/2pKnSB0P+BsQih6p3/TFzVeHifRaNmefv6DB6BEKrc+rPqYj7Lxy/thy0sb1/7ebTR8xeFTHr6cob+eSWMGAAAAKArcTicoKAgD09PWG7U5d36VLSRs1+u3rlZkXsme/70YQdz2qVAY3OjPS8Konsq8s7+a3hJgzRlxbV7ttM4XPs2oU/M/Ne3otAekrRBTemHW++5b29m622KJHWV5U2njtbs2nKzbQ6e+FTVto2Nxw8Z5c32hQCqbS8SOO5xjCBsh+8zEELi3snaS2Vtn2hfF6Bu3x8USbZLzAAAAAAAoDtTKUajJX+25uD9yeriwsJP3213xFx1Md9+48TkUZ0+3dBQp6uquBJDwyLaPcoL7dE2lSKElAW5FRtWyzJOqIoKrAb9rbXZe9Awlq+/ob62dve20CdmkmZT3d6dtsP3U9s2u27fH3X7/uj4dNJsNsmbYTJUAAAAoMuYzWalUqnX6xEcuIdUeh3CuN5Rz7924fOlRSs+kj40oe1D1NUlxSRpAxHqZJc7y8un9Zp39O/1xxBCV3Ln1X31Jau+OPfm/9mP1HskpvLCIwURMS3nz7Reg3+jSZoggh59omjFR9U7N4c+MbPx6AGzSimMiRf17HOl2dTllrD9A7lBoZ2+gtVogEEDAAAAdBm1Wl1cXNzQ0EBCKoVUen0xL71Z8+fv6uLC7PnT+VGxrfcLrq47n7bqN6aXT6fP1VaU2m+oigvFvZLaPnTloL9t/JmVity3XkIIhUye3uf9rwgW275NwfIlt9Dg4MeeKlrxUdOJv42ypppdW1uvc2pttuz0cb/hoxOWfQuDAwAAgAtoPWnNSel0upqampaWFoqi+Hy+n58fl8uFbnVJt3uKJM5gJn22GsPxltzsqq2/tN7P8vW3H+mu/H1D2+0tOu3e/pE7wvlV2zZypMEMkdi2Wv2/ZuNvPnW09QQAhFBLbrZ9z2vPhe+3RlL7JVC30GBBZKy4dzJltVbv+LV2z3YMx4MemdL6qKhnAkKo9q8dVr2u7bNK167YEc7fPyQeRgwAALgnhUKxbt06vV7vdC3PnDMlY84UTXmJk1beYDA0Njaq1WqKory9vOLi4sRiMQxISKWd80zuFz79hbZH7e2iXngdIVTw8Vs1f/5uv8eq1+UtXaApK7YaDd6DhmE0WuTc/yGEyn76tnT1V1ajgSLJ5lPHTk0f3/Z1aJwrX4nkZ07bb5AmY977C+0zlbaNj7htCV3dv2fp7yj4sacQQufffc2kkHsNHMry9W/7EMvHz9BQd3rWJNPV2VJVF/LyP3jDotV4D7gPRgwAALhbGP3pp58efPBBHx+fL7/8ks1mO92PYDUaq37fsG9gTM7/ZrfO7e0UKIqyWq0Gg0GpVCKKknh5hYaFxcbGQiqFVHo9cQuWdjwRM/zpOR4JfS0a9anpj+5OCDw4LGFnlEfp6q8ub//6e0xPL4RQjxkvStIGIYo6+8aLOyNEO3sIjowdZFLIPRL62i6ooiOEhD372M8BODlt7OEH+x8eM2BXvO/FLz+wz9zUeOxg+tQx9nfkBIYghDLmTNkeyi1c/va1Whs47nGczrDH2eCr1znZEWxO73c/x+n0un1/7O7lv39I/J6U0P1D4s0qJScwJHreQhgxAADgbmF02rRpf/75p8lkmjBhgjP+LJTFbJ+Qu2zd93vTeuS+/YrRttCMU6RSk8mk1WpVKhWG497e3j169IiLixOJRDBEIZVeE43DTfxkVfuXZjAH7zweOedVhodEX1etyDtLmoxsP2nix99HPf9aawoctOVg9PxFguieiCKtJqNHQt++3/zikdL/8svaZsUnmKz+63YKY+IpkpRlnZRlnMAwLPaVJcOP5NH4AspiURaet79a/KJl/PAojCCsep1Fp7FPFNCxtQyxp+/w0fbX9x81rt2j0jETh+xKF/dOJq0W1YU8XVUFwjDpmImDth661gmyAAAAXDiMtj7qpKn0n2uLbdfsFn/7yV99wwqXv21fpttxm02SarU6Jyfn9OnTZWVlSqWSTqczbQjbZI7A9WBds0CCvq5GV1PJ8Zey/aToGrPgkiYjRVEEk4UQOjJuSPPJIwkffhM27bnWDXTVl/R1NZyAQLZ/4JXfLoNeU17CDQ5rPcp/J38fTEbVxQKMIC6/vi0fO3dPP/OEYsVKIZtzC89V6nUHC/Izy8uKGuprFS3NarXaYNCbTSaLxWIlSYqE6yLv5DdFDMMxnEbgDBqNTWfwWSwJn+8vEkf6+KaEhg2Njbu1TlTodOLnn6XW/OzOtW05m1m+fqUi76y+rtqiUdvPGrr824HjBJNF4/HZflJRzz6hTz4r7pPidn8Mrn4yu+2qOWfPnl20aNH+/fvbxtC2EhMTs7OznfFHOzgsod3E4Vf20XhIol94PeyZufa/vLegYPmS5vQjg37/+24022Kx1NbW7tixY9++fadOnuRyuVHR0VOnTp0yZcp/PtesUuyMFA89kNM6xw5wCrSueRu2XwDbL6Dj/UfHD5WdPhbzypLoeQtb5+GXZ59qPnnEPvNU24050mCONLjtPQSLLYy5W1cg4QymKD7BzcfH6bLSz/f/tS07y2gxw29LF+0eoCiSslpIq8FsVun1DSplSWND66NMGn1cUvL8ESP7hoZDrW6cWa3Knj/9WktvUFarRae16LSGxvqWc1nlv/wQ8OD4pM9W0/kCKJ37iIuLo9Pp14qkCKGJEyc666eKufMPcJO8OfftV4pXfhbz0uKQx5/p9OhiN7JarXK5/MSJEzk5OVqtNiQkpH///iEhITBWXXm/TPe+vfc995Jmc+HyJQXLlyjzzynzz5WuXXHssRH2Ge89bcfxQbeoVbRM+ObLtPfe2nT6JERSx2G0mDedPpn67lsTvvmyVtECBbnBSHr4wf43tRpcza4thx+6x6xWQfXcB51O37x589ixY6+1wZ09fE+ajE3HD7XOkNiRpqw4Y86UzOefbLfWYCtdVcXhB/vvivMuWvHRNcKo6dSMCTvC+bqayuu0RF9Xc+bVWfsGxlT9voHqMH34HURRlMViUavV9fX1RUVFNTU1JpPJarV23D1v37KkpOT06dMXL15UKhQisbhHjx5paWlSqRTGKqTSuyVy7qsBox+xBdO3Dwztc2Bon7MLnrdo1B6JqYkffw/d01325Z/vtXjBlqwMKIXD2pKV0Wvxgn3556EU/yl7/vS2k83dINWFvOz506F6bhhMH3744Y4PJSYmhoWF3cQX+z3bM1+YWr5+Zef5zGI5Mnbw0fFD994TVbtne6fbnJo5oer3DZVbfs6Y/XinG+R/tFiWddIoazr/7mudJtfKrb/U7Npi0Wpu5PxRTXlJxpwpB4f26XRpwzuVSg0GQ11d3dmzZ/fs2ZOdlaXRaEwmE0mS7YKp/SKnQ4cObd26taGhgS8QxMXF9U1NTUpK8vX1hYHqwrp5dz3OYKat3irPPlW7Z7uu+hJFUbywCGFsr4DRj8Jy891l4+mTU1d9ZyGtUAoHJ9NoRn+2fN3M2Y+n9oNqXEvL2cyb2kvaVs2uLS1nM93wHFPQUdvD91a97vy7rynyckKfmBk88alOR93Jp8ddzoW/racLRdIx7Q/9KwrO2ec6pKzWik1r/R/oZAdt627Ua80zSlks/9y2dvKJjV3jKo7rUBaez1/2JttPemdPYDMajVqt9uLFi8XFxaUlJZVVVfV1dRKJ5Oy5cxKJRCwW8/l8b2/viIgIkUiEYVhNTU1RUVFWZmZRUZHBYPD380tKSoqPjxeJRDQHO80AuFQqtfNISvNISoPOcAT78s9DJHUiFtI6ddV3njzeiDhY4qFzFZt+vM2nQyp1H2azefz48Yd27XyGj8Qs5m8txsqrwa/t4fuiFR+XrvnavpiLuE+KIDK23eu03TevLMjtmEq5QaE0Ht++C/NaV0dEznm14OO3Lt94/n+dbhD76tuqi/naitKIOa/wwiI6bhD4yOT6A7vr//6LMptvZLlsz5T+0fMW+g4bfccLq9Pp6uvr9+7de+jQodLSUrlMRpIkbuPv7x8glXp7e8fHxwuFQoFAQD8Mn9YAADJdSURBVBBESUnJvn37zp8/X1dby2azJV5e/fr1i4mJgUvvIZUCN1KraJn8/QqIpE4XTCd/vyL3nQ/8RTCtdCdarq6+0S1PBw6Islgajx7A2WyvfoPbRdKJEyfu3LnzFRFKYyKEjL392E9V6akOh+/1DbVXX4syNNR1TKW+Q0ex/aT6umq6QBj4yOSObWCIPAb+dqB83fe8sIiI2S912s6YlxcHPToFYRg3uPMzB3hhEcMOnbvOT4rTGamrNiOE/oiRXD+V+gwZETVvYbuC3Kmgr9frs7Kyjh8/np6eXllZSZFkgFQaGBio1Wjq6uowHG9paZHLZE1NTXqdLkAqZbFYOTk5WVlZDY2NHC43NDS0T58+wcHBQqEQRi+kUuBG5m1YL9NooA5OR6bRzNuw/rc5L0IpOtLVVXfj04EDynz+yartmxBC0fMWxi1Y2jaSbt++HSEUzucgkw4hxDHpJzw4evOuP9tdfd9j+gu1e7Ybmxu9Bw716j+k41swJd7Dj+a35GQI43rbl4zpyCOhr329mOvghtyZqTbIa1yxiuG4/6hxUS8uEPdKukvVNpvNGo3m3Llze/bsqamp0el0Pj4+0dHR/fv3b2hoyMnJMZlMRqOxsaGhWSaTy+UCgYDD4VRVVVVUVJAk6eHhERcXl5KSIpVKeTwejF5IpcBdnC4rhcubnNeWrIzTZaWpYTBdVHsWlbIbnw66XsOhv4pXfsb2k/Za8gld2H4FINJsskdShFDllp/tqbRtJE1NTR30zOOFb81HFBX82LSfl680TZzY7up7QXTPB7IqjM2N7SYrbIvOF3gPGuYgNaE6zAyF0WhBj0yJevF1fo/ou/rWVqvVaDQ2NDRUVVbS6fTwsLAHRo3q27dvYGCgwWAYMmSIxWLRarWFhYUFBQUF+flNTU0EQeh1OrPZTKfReDxecnJyWloaRFJIpcC9fL7/LyiCs/fgxllzoQ4dU0g3Ph10MZNCfvLpcfaj1RiOd7LoIJ0h6pWoyD2DEBInpHSMpPv27RMIBMEjHjSrVaKefRCGbd26Fe9w9S3BYl8nkjrcb0GbfaUEix3y+DORc1/tmvaTJGk2m9VqdXNTk7evr0AojI6OTkxMlEgkDAYDwzCDwSCXyzkcjkKhOHPmTH1d3ZXcjBBFoxEEweVy2Wy21Wq1WCxwqROkUuAWlHrdtuwsqINT25adpdTrbm3lJxd2m/Mv3tXpG8EtKFi+pHz9SmFMfMo3vzA9JO1TqVzWegKlvq6m01e4Z/2u0jVf40xWxKz5nUbSdofOceefEMZ+tT6NLwifNidi1nymxLsbkjFF6XW6hoaG8+fPe3l5JSQkiMViGo2mUqlqampKSkqqqqpMRuM/bUbIapvc9OTJk2w2Oykpyc/PTyAQ3MLEAgBSKXAyBwvyYap8Z2e0mA8W5D+SBBeMA5fVkptduPxthJChoe7iVx/2emt5uw14YRGBYydVbd9EsDkRz73c6YuwfPw6PXDfGkldDGk2Mz29esycF/7M83RBV18whOM4g8EQiUS+fn5G227RzIwMnU5XXl4uEAhoNFpzc3NtbW1eXt6lS5dIipIGBkoDAiiEjAZDXX29Xqc7d+6c/YtB7969Y2NjIZVCKgWuL7O8DIrgGv0IqRQ4teLvP6vc+rNHQmrvdz9rXYb6n4DVZjlQ8hpLg/b9bmPcgqUMsef1E5ibRNLLuZBGeyCrguimoyg0Go3NZgcEBPTo0aOsrKyxvj4rK6uwsPDAgQMMBgPHcd1VVquVxWL17Nlz4sSJFEXV19fv2LHjbE7OxQsXtFothmEsFis6OhqHucwhlQKXV9RQD0WAfgSgezWfPp771ksIIUXuGW5wWOScV9pt4JmUFvbUc+U/rxTGxEfNffVar3OtqZTcMJIi22T6RPed2INhGI7jdDr9cgbFMLPFYlarSZLEbHfazys1GAx6vZ7AcZaNp6cnSZIGg4HBYFhJ0qzTGfR6nU5nMpk6rk0KIJUCFwQrqkM/AtAFtJXldfv+8Ejo2+nKKWaFvPW2qUXWacZJWPZNwrJvbqcN7hVJHQNBEHQbJpNpsVgwDKNsWg/HY7Zj/TQbgiAwDCNsGAyGyWikKMp+tZPFYiEIAnaXQioFrr6LQq2GIkA/AnBX6etqDg5PNCsVGI7fs2GPz5AR7Tbwufd+rwH3NR0/xA0OC3tq9t1oA0TSLkan03k8XlpamkgkKi0tLSwoOHXqVENjo16n09syqcUWN+l0ekBAwOgHHxwwYEBsbCxCKCgoSK1WCwSCM9nZKpUqJyeHwWCwWKzevXtHRkZCYSGVAlemNhigCNCPANzdb02nj5mVCvvMBvUH/uyYSnEGc9CWg4aGOqbEG7sLa0tCJO16BEGw2ey4uLioqKj6+vrc3FyzxZKfn28wGMirE1zgGMZkseLi4h599NGEhAQmk4lhmNVqpSiKz+ebjMbS0lKKohQKxaVLl4KDg6GqkEqvyarXyTLTXaMWgpieLC9fN92HAZMyQj8CcNsubf6pfP1KYWzvXkuWdzyX0TOlP43Dtei09iUur/UiLB+/u9E2iKTdCMMwGo0mkUgSExPFYnFLS4vVYvnnJFHbo2KxODIykmE72dR+8X5wcDCPx4uIiFAqlRiGiUQiHx8fb29vqCek0mv/FayvPTZxuG1qYrpTF4I0m/t+tzFw7CT3HAcm22x2APoRgFumupifNe9pRFGyzHSml3fsK0vabcAJCLpvb2btXzs8Evp6DbivK9sGkbTbUymGYRwbf3//G3yKyCY8HJasg1R6k0blVLH9pE5diD97+bnzOLBYYapw6Ee3k/jJquCJU/OWLij+7lOoxu0zNjeiq3u/jI2dTwfBj4iJiojp4oZBJAXAWcCFbADZVt2ANAP96C7YflLpQxNSV/4aOmUGTmcQsBrWDavZtfXA0D7HHhuhq6ro+KgkbZD34OEIIaaXT/j0FxykzRBJAXAicLUTsKcZmAQO+tFdSMdM6PU27By9+XinUmY8N5m0nbucu+TltNVb222AEcTAX/fpaiqZEm+CyYJICgCAVAoAANdNKkqFPVrhdAZU4ya+8xgN5NV1iU22S+k7xQkIcpSOhkgKAKRSAABwZBWb1lZsWosQGnmqhBsCF1L8g4+jhzno3OL5UXNeZfm2vySF6eUT/eKCi18vowvFsa+85ejfPSCSdpWm9MP5Hy5ywC+fyD47P4BUCgAAwOnME6I+DFSy8nPZqWP37cvquEHcgqVRLy4gmCyMRoNIChBCvOBw74FD5Wcybv+lGo/ut9/wHjT8DrSMIr0HDaNz+dBHkErBf7Aa9ASLDXUAMIyBQwm9+gdBWZiLKAphnexoonF5Dv5TQCTtSkETngya8OQdeamtvlfG28DN+6Cwbguuwe8Ghx+6R3upDOoAnHsYjxmgq74EdXAulNXa+fryNgf0V24ET3q600jq+Mxm82OPPQaRFAAn1W37Skkbq20B3FbUf11BjGEYjuPEVXQbHHeybK04n3Po/uSUr9f7DhsNQxA4KUXumYPDk1K/22ifDAg4Pm1F6dEJw3RVFX4jHur343aswyfnRg3KNqITx45JUgc4byTdtm0bRFIAIJXeHJ1Op9FoZDJZvU1dXV1jY+PllEqS6NrZlMli8Xg8gUDgYRNsw2azcRzHnOqbvUnRcuLJh2LmL4p5ZQmGwx5r4JRMLbLjj4+MW7A06vnXnHTXmlspXvWFfZ7Run1/NB0/5D1oWMdtiswIIikAwB1TqUwmKykpKbS5cOFCRUWFxWKxWq3XSaUcDkfs4eHt7S2VSoODgy0Wi5eXF4PBsK9m5mS1p6jCT9+VZZ/q++0GpocExiJwRhRJ5i1dIM/JSPnyJxrPyS4ssJqMtgmPjG7SWUyxZ+tthtjDlX40iKQAQCq9FSRJmmzy8vJycnLKysqqq6vramsbGhrUavXlVHr1OP6VA/QMhv0wvdV2sN9qtWo0GoqidDpdY2OjRqNpbGwMCQkJDAyUSCRcLpfFYjlXBzQe2X9wWGLa6i0eCX1hOAInVbt726GLBf1+3Mbv8sUkb8f+QXGu9iXBapVlneRIgzqdNDTiuZe1VRWK82dCJk8XxSdCJAUAQCol9Xq9Wq3Ozc3du3dvVVWVRq3W6/VGo9FkNFI29i0JgmCyWEwmk8fl8vh8g8Fg0OstVqvZbG5paZHL5ZWXLjU1NpaWlvbq1atv375RUVEYhjldKkUI6WurjowZ2Hvpl2FTZ8GIBE5KXXrx0Mi+yV/8GPDgo1CN7oqkR8cPbT55BKfT01Zv9RvxUPuPey4v+Yu1LvZTQyQFwJV09RmNFEVZLBaTydTS0mI/l1Qmk8nlcq1WS5Jk26udMAzDMYxGozGYTDabzWKx6AwGjuMURZlMJo1a3dzU1NjUVF1dXV9fr1QqDQaDxWJx0m4gzaac/83OfGGq1aCHQQmclEWrOTVjfN57r1NWK1Sj66ku5DWfPGL7PDGXrfveHX5kiKQAQCoFd0vlb+v/HpWmKS+BUgDndfHrZccn3W+UN0Mpuhg7ILD11F5BVBxEUgAApNL/RlEUeVXbQ/ataDQam83m8fkisdjb29vHx8fXxs/Pz9fX19vbW+LpKRKJBEIhQRBms1mr1SoUCqVSaTQa2+1wdTrKgtxD9yfX/rUDhiZwXo3HDh4antRyLgtKcceRZpO+rqbThxgijwEb/wp6dErMK2/FvroEIikAwOl0wzX4JEm2TlBqz6btNuDyLvP394+JiYmMjBQKhSKRyGw2m0ymK/NJNTdXVlZW19SoVSqlQlFeXs5msxFCLBbL29ubIAgazYnXrDKrlCefHhf1wutxr72LEQSMUeCMdDWVhx8akLDsm5DHn4Fq3MFvrcceG2FsavB/YGy/Nb93nI3LM6W/Z0p/l68DRFIAIJXeGfYdpfbJ86029lNIWzewX7Hk6ekZFRU1fPjwQYMGCWzs22g0GrlcXllZmZ2dffbs2by8vNra2uqqKpIkaTRaUFBQTEwMk8kkCAJz6tkTKerilx/Iz5xO/W4jU+INwxQ4I9JkzJ4/vSUno/fSL3E6wzEbyRB5YARhlDU5RUmLv/vE2NSAEKrds12WddIdAihEUgAgld5FBEHweDyEUGxsbH19fUVFhUwm02q1CCEcxz09PDw9Pf0DAgIDA3v06BEVFcXn85lMZmvEpNPpfD7f39/fYrGIRCI2m00QhEat1qjVxUVFpzw9MQyLiIiIjIx06t2ldk3HDx0cnpi66jfP5H4wUoGTKlv3vSLvbNrqLWw/qUM1jBMY0vfbDR6JqRiO66ov5X/wRuXWXxy8mCxvvyvf3nHcPb+vQiQFAFLpnYTjOJfLZbPZ8fHxFEUVFhYWFRU1NTZebgqdHhMT07Nnz/Dw8NDQUIlEwuFwWCxW272eDAaDRqNxOByJRBIVFUWj0axWa2FBQXl5uVanozMYFouFIIjw8HAXSKUIIX1dzdFxg3u9/Wn4M8/DYAVOSn7m9MHhSakrf/XqP8RBmoTT6ff8vEsQFUdZrRadliMNTvp8raasWJ6T4ciVjJq30ChrUl3MD5v2HC+0B0RSiKQAQCq9LRiG2Zew9/X1tVqtPB7P29tbJpPZL3IKDw+PiIiwX9XE5XKv83Qmk8nhcKKiogwGA0mSKpVKoVA0NTUVFhb6+/tHRERIJBKBQECn0529h0iz+ezCF2SZ6YmfrKJxuDBkgTMyNjcemzg8ftGyiNkvOUJ7xL2T7Veppz/1cPPJIyNPlzIl3oGPTO72VKq9VHbhi/dxBjPmpTdZ3r7tHqXzBUmfrXbPIQSRFABIpXeRh4cHi8Xy8fGJjY012lb8w3Gcz+cLBAI2m81kMv/zFQiCCA4O5vP5FotFJpMVFxdrtdry8vLi4uLCwsIePXowbOtCuUY/VW3bqCzI7bfmd154JIxa4IwoiyV3ycvynIykz1Z3+/criW2vraa8pP7Anwih8p9XRf/fG46wKzd96hjVxfzLbSsrGrh5PwwbiKQAQCrtChwbieTW13/HMMzT09PDw6OqqiooKKi5ubm6ulqlUlVVVRUVFXG5XF9fXz6f7zJdpbqYf/D+5OTP18LaOcB5Ve/4VXUhr9/abbywiG5sBi8kHCHUlH7Y/s+m9MPR//cG13ZndwZ3q1VTVnTl972oAEYLRFIA3I1zz6KP2fB4PB8fH09PTzqdbjaZmpubS0pK6uvr7btgXYlFoz41Y/z5d16lnHYVKwBUF/MPjUyp2/dHN7aBIfZECJmuXnpvvwafxuV171wBGEGEPfWc/XaPGS/CUIFICgCkUidLpTiO21Opl5cXk8EwGo1KhaKqqqqpqclkMrlknxV9s/zohGH2CWIAcMqooVKmP/VwwUeLqQ7TFXcNq9Fw+QOEduUMH9x2g7JaKWs3f9/r/d4XQ/efGX40P+r512CcQCQFwN24woXqPB7Pz8/P18eHZZtLv8ts9e22KVGbTx45MCwhdeVmSeoAGMTAKYcxRRV++q48J7PvdxsYQnEXv7n9S50gMsb+T77thlHW1AUpuWTVF0XffsINDuu7Yj3bP7DjBqL4BBiWEEkBcE+usA4+l8v19/f39fPjdG0q7V6Ghrqjj95bsvJzGMTAeTX8/dehEcnK/HNd/L6Nxw4ihLwG3McLi8BwPHTKzNY77ypdVcW5xfP1tVXNJ4/kf7gIBgBEUgBAW66wrxTHcRqNRiMIDMfdqvMoi+Xc4vmyrJNJn62mcXnO0mwOg5EYHNorMFCp0+fVVJ2rqrTf7yMQ+gqFFEK5V+9BCEnFHp48XotOWymTRfn6seh0hU53SdbcukHPAClCKK+mut279PD24baZyYFCqLSxQdslpxoHe0pEHE5hXa0JTv+9AdpLZX+P7pe4fGXQ+Ce6Lg0f3qcuvcgPjxq6/wyiKBqPT1ksZT9+c7ff12oyIoqy3yZd9BQjiKQAALdOpW6ueudmZeH5fmu28iNiHL+10+4ZtOLJaRzGP9eUHL5Q+OSqb6tb5HPuG7Z4zDiE0FM/fLcu/bj90cVjxs0cfO+m0ycf/37Fthfmx/j5K/W6qAWvNqiU9g2OL1wsZHNGfvrR3rzctm+0dvqzAyKi2t5jtPw/e3cC3lSV/4//bklu1jZN0zUt3SndaGlLCygjsqo4bgiIIPxdEAcUUcdRYeSvXzfcHbcRlEURQUGdGXVUwEFFtrJZaClQaGnTJU2zNWn23PweEqhlSUWUtknerwcf29x7k/Rzb5J3zr3nHPePR2oWf75hW+3RS/o3vjhl2qSSoY+uX/fcV//B8XlBWc1uq5g3Q79vV8H//xLVK6O5cU7HtukTy95ZF5lfRJCkXdNS9exCXcW2S/240vSBA+995MjbL4oHpA168HHsekRSAOguFBoXHQ6H0Wg0dXS4wrXtwXz00HcThqr//XE/f54Pjr96xR2zRXy+1tzxr317dtfXEQRxRfagL+5/iKHortVemDwtUiQKdCcRQtFLU6eddWP3mNudm/NUqhsq1Q36TouAYcbk5K2e/Zfe+WPFFzDmLnR37L3Xf7hplF3T0jsPZ6mr3Tyu+IuC+G8vz/lycEL92hW987h5C5+94YR9/E+Hg+JrJCIpACCV/sZPF4ulubm5paXFarWG7Y50d1p2zp7y8+ML+u2gUSI+f/F1NxIEoTV3FC5eeP3rrwz9v8c/2rmdIIjBSclDBqR0rRkjkz1z0+Qe7urW8hGjsnMu5EGXbvnf4McfG/z4Y/EL5q31PVZqtFLKst3XiRJLukIwTVEJkXJBgOlqY2QyHk2f93b+b9wEzku366fN44p1u37qve+0Wo356KFe/jNJHBKIpABwPqFwBr+zs1Oj0bS1tdntdpIkGYZhWZbP53efQD9M1C591bC/onzZJ2xsfH97bmNz8/1xcP6aD5qNBl8nbO+j69dNLi2jKaoweUD3le++YvSKrT9U1B0PdG9vzZg1ePFjF37hptPt3lV3fGrZMA/Heb3E2Ny85yZNrW3TiPj8awoKP9+3Z/6aD16bNuOagkI+w3g4bmPVwbmrVx7Xti25eeqYnLwfjxz+08DswuQBTrf73R+2zF298uSLh6L/dvXEO0ZekRqtdLrdm6oPPvzJ2qrTV7iOHJj985PPFKiSu28Cv8rfja/giZfTb5+HaiCSAkBYCaEz+CaT0+lkGCYiMjI1NTU2NlYQlqdQdbt+2jSmSLv9+/72xIp8ubPFaFy3a0fXjSd07dH3zYm+b86Kraee8LE2jclmpUjy7Rn/H3W+7xV7T9QTBJEdn/DQhKu7bgz0DWRgXPz0YSOmDxvxyNXXLhg3gSCIrw9WWhx2uUg8ZEDK5NKyiYOLSJJs6+j4asFfbxhSQpLkvoZ6i8M+Ib/gozlzCYJIU8YMGZAyf+x4VVRUu8XMZ5i/XDlmWHomQRBLZ93x1I03p0YrD7U0ewni6oLCLX9bGHW629nIrOyESPlZm8CF4Fyu/Y/dW3HvbR67DdVAJIVQZWtRa7dt6frXdXv3G20tahQqrIRCW6ndbjcajR0dHU6Xi6IouVyenp4etqnUf1Jy15xbxm454J/App/IiosnCOJoWyt3ug+yn/HM6y7UBv2S/36xdOYdxSmp94wac+79rNj6fbvFPC43f9HE69fs2N7zg47OyR2dk9v9ls/37u7+64c7frr3w/cFDPPTY4uPa9vuXrV8U/XBqWXDPrp7bn7iL2NJ1rZpSp74u8VhP/B/zw2KT5haVt5qMs4acTlBELcvX7pi6w9pypjqp5+Plkj/NDA70Cbbjx3FO86Fa/jkA2lGdvb8x1AKRFIISR67/cebx3g9nrNu/+HGUaeaG2h63NYaFAqpNHjaVDjO6/U6HA6r1ep2uViW5fF4iYmJYZ5Ko4aUlb+3vl9FUoIg/L3mo84ZwerPhUOkrLBS/ctoUMu+/9+U0vLROblP33TzD4cPn7W+10vMXvnewaeekwjY12+9recH/f7wobf/t5kgCCnLXj+k5JqCwmWz7qxqajr1cejxzFm1wuKb5ufa116aOeLyB8Zf9daMWWnKmLPaX/+1b4/JZvWNGFA9KD5BImAHJyeTJGmyWVds/YEgiOPattj5f2Foymi1Tisfft5N8HZz4UiGKXj8hYzZ96MUiKQQqiSpGck3TT/x8apAKyTfNF2SmoFChRUq2FOp2+32p1KX2y0UCqOjo1UqVWZmZmxsLJ/PD8M9mjbznj/96wdhvKq/PbGDarV/eNF81S9tkJEi0fq581fPvqcsLb37ynetfLfT4YgQiq4tPM88Nyd07Y98so4giImDiyKEoh4etKqpad2uHet27Xj3hy03vvGq/zrUqwoG+5c26Nr9kTQ9JmbX3598+KqJeYmqvSfqvz5zkCmCIGynh3dwe07N/cP6JkzvPgDqoISEwuQBXVcdnLsJXCA2Jm7k+u8QSRFJIeRlL1gUqPMfSdPZCzDTBFJpkPB6vR6PR6/XHz9+vKGhQaPRWMxmgiBEIpFMJouMjBSJRHSYdXSlhaLSN1cXLXmL4vXHOL5+9y5/c+mau+emRCv9vfKXzbqTR9Oc17u5uqr7ynXt2oWf9jTQ1Vv/2/TjkcMX/ugiPn9a2XB/T3n36RNG7tPTS2bFxosFAn2nJeORB6f+843/Vv76VEPVzU0EQSREyifkF5yMpPEJPz22eNNDj5akpOFt5fdQlA4f/e2e6PLLUQpEUgh5/ubS8y5CQ2l4YoI0kvpTaUtLy+HDh2tqapqamowmU2RkJM+Hz+czDBNWffAlaZnDln8qy87rt8/QZLPO/WDl2nvm5SWqji95+bi2TSGR+odkWvLVf+ratWet//qmbyeXlg/PyAx0DNy5ctnPTzzL9jjo+pxRo+/60yj/kE/+Vkyr0/lxxc4C1Rnzj/sHb4oSS77/2yKz3X7loBxfayhv3uixge65srFhc3XV6Jzcz+99oKLu2JABqRRJbq6u8l08ehXeWS5O2sx7Bj/1Wu8MpO835KVlAybfdvDpR4/+82XUH5EUel/2gkUNG1afdXUpGkrDVrC2lXIc53K51Gr1vn37jhw5omtvdzqdAj4/KipKKpXyeDxfCAmXVJpw9Q1XfrO7P0dSvw17KkY++5R/dtD0mNhIkchstz+47sO/f7beN/eS64xd7PXesWKZw3fOvcPXF9vhcnX9TBDEkdbWxZ9vCPRYDtfJDSmS5NG0P3SqDfr/7N83+oVnalqaHWcOKfVl5X7/yADl6Rljc/N219f5Lwm9bfjlZz2rroRNEMQt77zx7/17+TR9WeZAEZ9f1aS+/6MPzv1Dum8CgdCssOQfq3wt/b0RSYXxKtW1N5ctXZd6650Uj0/3eB0IIJLCJWxSOV9zKRpKwxbpPbND9G9lqav9Zljm1fsae/NCRv/lpJ2dnR9++OFnn31WX1+v1+nEYnFhUVFZWdnw4cMvv/zy33pR6ZcF8QVPvpJ0/dTfkLHi+j71kjSd++jTA+f97dfXvH268c2lga7CJG+f3ptPO0IoylOp2s3m2jaNh+svl13GR0QmyOUNunat2SwRsAPj49V6fdfUpgHfUgVsZmxcu8WsNuh/56vpD+Fdvvq8txutVvm82ecu7Q+HsSgpZdjyTyPziy7Jd6Hz/YGZdy8oeOKXxtGqJX+veeWpQPdwU6s3LD4MTn+Nv6SHMSIpnDdIfHtZdldzqb/rPVJpeOrjM/jebjiOo2maoqgehp/sSqUOh8NsNtfX1VVVVbVrtRRFKZXK5OTk/Pz8uLg4/52EPIEytuydtcrhVwTdMzfZrD8dPdLfnlWLydhiMp56l3TY9/gmRP3191OHfV9DPd5KLlrsqPFD317Dj4zqzQd1mYycy0kQRP+8CDtUIZLC+b/bn9kZHw2lSKV9lkftdrvFYuno6NDr9WazOSEhITExkWVZyof0OXcro9FY6VNTU+NyOiPl8ii5fGB29qBBgzIyMhQKRTikUkXp8PJln7BxCTiIIViR5MB7H8l95Cmy11+w9WtX+Ce+n7CjVpySjl2BSAp9q+vqUlxRilTaZ6mU4zir1dre3t7U1FRfX6/RaAoLCyMiIiiK4vF450bSrg1NJtPevXu//fbbhhMnHA5HtFI5ICUlNzc3JycnIyODYZjeSaUXfV7v958zzbjzvvzFL/ZmpxAIVX11GDNSWenr7ydMuA67AJEUoKu5FA2lSKW9yt9Lyel0Nvs0+bS2tLRptR0mU2tr6+GaGrlcLpXJxGIxy7JSqTTex9902tHRodFoDh48WFNTU19fbzabSZKUR0ZmZmQMGjQoLi6OZUN8rHJGLCl++V3VdVNw7ELwkmXlDFvxmSQ9C6VAJAXwy16wqPHztWgoRSrt7VRqs9nMZvOBAwcqKiqO1daq1Wq9Xu90Ot1u96GaGqFQKJfLo6Ojo6KiIiIi4uLihg4dqlQqeb52QYPBUF1dvWfPntraWq1WSxAEzTBRCoX/9L1CoQjtvSXNyC5fvkGWlYMDF4KX6tqbi19dzpwzyxcgkkI4k6RmDF/5ORpKkUp7L49yHNfZ2dnos2/fvr1796obG/UGg9PhYFmWLxBYzGadTmfQ6/U6nUQqFYlE0dHRDE2LRCKBQEDT9LFjx/bs2XPgwIGWlhaL2Rwpl0ul0sTExNTUVJVKJZVKQ3hXJU6cVPLqckYixVELQYqk6byFz2b95a8oBSIpwLlir5yAIiCV9hKPx2O329vb2ysrKysqKmpqaurq6qxWK03T0UqlKjExNi6uuamppbWVIAgvQZjNZr1O19ra6nA4WjUalmUFAkFzc3NNTU1jY6PRaKQZRqFQpKWmZmVlxcfHR0REhOoUoyTD5C9akjnnARyvELwECmXZO2uVl12JUoRPJJ06dSoiKQD0x1TqH87JYDAcPnx4x44dWq1Wp9MJ+PwohUKlUuXl5WVkZBw6dEgoEtlsNo/H02mxWMxmo8nkdrtbW1sFAgHLsgaDobm52aDXc14vwzBKpTIvPz87OzsuLk4sFofkHmJj48veWYcJGCGoyQtLhy3fIExI6m9PzON0nHx3cjiwjy5FJP30008RSQGgn6ZSt9tttVp17e2tLS0cx0kkkuSkpMKiopycHJVKFRsbm5iYWFBQ4HQ6PR6PwWBQNzY2Nze3abUajYaiKIam7Q6HzWr1cJy/n35CQkJxcXF2dnaovt9Fl48sW7qOjYnDkQrBK2XaHUXPvUnxBf3wuW0cmYsdhEgKAGGaSm02m06vb25ujlIo5L5BRq+55pry8nL/CXquG41Gc+jQocqff968eXN1VZXb5SJI0j/aPklRNE0zDJOQkFBWVpaUlBSSA5Rmznkgf9ESkmFwmEKQoviCwmdeT51+F0qBSAoA0I9SaRcvx3k8HpfLZbVaDQaD2ic2NlYgEPiHGrXb7TabraOjQ6fTadvbrVar2+12n56L7ORHndd78i48ntbW1r1795rNZqVSKZPJeD6hsFck0pJXlydOnIQDFIKXMCGp/L31UUVDUQpEUgCAfppKT715OZ1Wq1Wr1R47dkyhUNA0LZfL/XON2u12o9Go0Wiampqam5stnZ1nzcvs9Xo9vnFPm5qadu7cabVac3NzaZqWiMUhkEplWTnlKz6Vpg/E0QnBSzliVNnSdQKFEqVAJAUA6HeplPKddhcIBFKZTKlUuj0et8ul1WqrqqpcLldra+uJEycYhqFpusNk0hsMjY2NR48caWhosHZ2ikQiqVQaKZczNO12u+0OR0dHh9lsbtNo9u/f73a7SZLkOE6lUglFoqDeH0nXTx3y8ruMSIxDE4JX5j0P5i9aQtI0SoFICgDQT1Mpj8cTi8WxsbGqpCRde7vBYNDpdE6Ho0mtrvz55yjf/PUURdlsts7Ozo6ODqPRaLFYOI4TCoWZWVnFQ4aIxOLOzs6WlpYDBw6YTKZ2nc5ms7ndbv9DCIXC2NjYIN0TFI+Xv/jFjDvvu3QP4fXigIdL/IYilhS/ulx17c0oBSIpygIA/TeVkiTJMAzLspGRkUql0mq16vV6g++fRqPxj5nvn/ve5XI5HA6Xy2W32zmPRyaTicRilUpVUloql8sNBsORI0fUarXX6zUajQadTsCyUVFRcXFxmZmZQbobhPGJZUs/VpQOxxEJwUuSnjVsxWeYewyRFJEUAPp7KoVAlCNGlb2zVhAdg1JA8EqYcF3J6+/zpEEWR/iRUSRNO3Ra7EFEUgDoc709oBJJkv4LTP38ne79i7w+/h9Orexb3z8OlP/kvr8xlTo9MtTJbUmS8Hq7DynlDaoT1VlzH7784429E0m9OIUfxi7d3icpKveRp4at+Cy4IqkoKeWKL7ZNrNZOrGq7and98k234iBBJAWAvtV7baX+rk4KhaKwsJBl2cbGRrVafaK+/sSJEyaTyeMbYJ/05VbO43F7PJzHwzCMSCTKzc0tLCrKz8/PyMgQiURKpVIkElmtVh6P13DihFqt7jCbj9XW+u/f6/Um+tD9vqcFI5WV/mNVwlXX914uIZBKwziVXpq9z4+MGvr2mthR44Ps6ziPN2L1F7KBuV6Px23tFKkGFL+6wnL8qH7fLhwqiKQAEPqplKIogUAQHR1dXFw8aNCg1tZWjUazdevWjRs3Wjo7XU6nw2IhSbKr0ZRhGAHLSmWy4pKS2267TaFQyGQyhmE4jlMqlXw+X6FQbN68uU2rNRmNDrvd7nDweDyapjmOi4+P7+epNGJQfvl7GyRpvXohLJpKwzqVXoK9H5lXWL78U3FyatBVQz64RDYwlyCIbTOva9/+/YSdxwTRMUk3TkMqRSQFgLBIpV0n32UymVQqZVlWLpf7ezUlJye7XC63y3VGiqVpPo+niI4uLS1NSUlhWZZhGH9sJQgiLS2Nx+M5nU6xWGy1WkmSjIqKysrKio+Pl8lkXav1T8mTpg954R1a2NuDWHFeDkd82PrD9/6AybcVPf9PmhUGYzWih19BEISlrrZ105cEQdStXpZ9/0Kl70ZAJAWA0E+lZ8VTiUTC5/OLi4uTkpLMZjPn8XDcGZ+apO9CUpZlExISWJalabora/L5/Li4OKlUGhMTM2zYMP/IUCzLRvjIZLJ+3lBa+sYHfZRL0FgavjzcH7z3S/6xKnirIUlJJwhCu22L/1ftti3Z9y8U+24ERFIACK9U6k+WfD5fIpEkJSX95ifNMFKfuLg47MLfkkvQVhq+0FLeHV+uIAjCebrrvb8PPiOWUDw+53KiPoG43W5EUgC4dCiUIIw+UTzIJdj74PuG5rCf/IbMnJqgmPL94PV4vB43itNDJJ0yZQoiKQAglcLv3tMk6eY8qEPYcnk8VP++3ro3ObQagiBkWYP8v0p9Pzh0Wi/OJyCSAgBSKVxqfIZxutEOFM6p1M1nMGvGKW0/biYIQnnZlZK0TJKiUm+9q+tGQCQFgL6CT6kwSqWOwKmUIkn0hQqFb5mBW0MdbqTSX2i2fGs+dliaPnD0xr2E18tIpF63+/jKt1AZRFIA6MtPMZQgTAh5fPuZY2+dmWZwJIRGKg24H21Op5DHR4n8OKdj2/SJxsq9jEjMSKR2Tcveh2brKrahMoikANCH0HYSLkR8vtXpCHgc0BSuOg2F1zMdMJVanU4RH6n0F5a62s3jigXKWH5klPnoIRQEkRQAQiSV7rpnGhubENSFsLe1hvaelrCs2W4PtJTPMD20pEKw6OEcvcVhl7AsSnQWh1bj7/kEiKQA8Pup1Wq73Z6RkdE3qZQni0ibeU8I1DFt5j2S1IwQPlAihCKj1RpoqZDH77DZ8HIKdj2cozdarRG9Pp0YIJICQFipra0dM2bM9OnTFy1adBHZ9PemUoFCWbQEXQSCQJRYrO+0BFoqZVlNhwlVCnbSwK2h+k6LQiJBiQCRFAAuKY/Hs2rVqtWrV19ENkUfl3ARGxHRagqYO6OlUpQoBPSwH1tNphhkC7gAiKQA8Edl0+zs7FmzZtXW1iKVwhlU8qhGvS7Q0oRIOUoUAnrYj416nUoehRLBr0IkBYC+yqbogx8u0mNivvx5f6ClWbFxKFEI6GE/1mo0VxcMRongAu3cuTMiIgJ1AIA/KpteyDl9tJWGi9wEVXVzU6Ch8ktT01CiEBBoP3Jeb3VzU26CCiUCAIA+zKZ5eXlff/01UmnYp9JElZfwVjY2nHfp6JxcAcNDlYKagOGNzsk976LKxgYv4c1NRCqFgLw+qAMAXCI0Tc+cOfPgwYMTJkwItA7O4IcLHk2PzMreWH2wMHnAuUsjhKIbikvW7tyOQgWvG4tLAo39tLH64MisbB5Nh2FZSIryctzv2TzcsileSgBw0bZs2TJq1Khz8+gF9sdHW2kY+XPRkE8qdgZaumDcBJQoqN0feA9+UrHzz0VDwrMs1O+bZ5XCNK0AABfL3z5aU1OzcuXKCxkiCqk0jEwpLa9sbKxqUp936dDU9EklQ1GlIDWpZOjQ1PTzLqpqUlc2Nk4pLQ/PyjCyiD7cHAAAefTChyxFKg0jcrF48tCyN7/bFGiF16bNwEDrwUghkbw2bUagpW9s3jhlaJlcLA7P4ojiVX24OQAA8uiFQyoNL/eNGf/+th9NtvNPPZoQKV9z91yGolGoIMJQ9Jq75wYaqdRotX6wfeu9Y8aH75exIWV9uDkAQFjJyMi4uDyKVBqOSlJSC5MHvPJtwEEZxuXmv3/XHATTIIqk7981Z1xufqAVXv7mq6LklJKU1LAtUcrUWX24OQBAWFGpVBeXR5FKw9TzN9/y4tdfNhkMgVa4pWzYlwsewqn8/k8hkXy54KFbyoYFWkFt0L/0zVfPT54azlWSF5YmTpx0cdsmTpwkLyzFkQYA0DtIjAMShqb+8w2KJNfcPbeHdZqNhvlrPli/exfK1T9NKhn62rQZPU8Ve8s7b3q93rVz5oV5rVzmji0Th3ccrvpNW8my8674z088KabcBABAKoVLpslgKHj80Temz+yhmc1v5/Fjr278+rM9ux1uF+rWHwgY3g3FJfePnVCWlt7zmh/t3D5v9arKJ59NlMtRN5e5Y8+CO5q+WH+B6ydOnFT8ynuIpAAASKVwyX26p+L25cv2PfF0arTyV1c22aybq6sq6o4f0bQ2Gw3tZrPZbre5nE632+3hOC/H4Sj641AkSZEUQ1N8hhHy+FKWjZZKEyLlWbFxpalpo3NyAw2V311du7Zo8cIVd8y+YUgJStrFsL+i7oOlxoP7bS1qt8Xscdj9A+yTFEULWEYiFcarIvMKU2fMxol7AACkUug981av+u5Q1dbHHo8S4xLSkKLvtIx45skxObmv3zoT1QAAAKRS6O88HHfTm69pzR0bH3pUxMcENiHC6nSOeeHZGJlsw9z5NIXujAAAEDTwoRW+aIr6yDc66dgXn9V3WlCQEKDvtIx98VkeTX9091xEUgAAQCqFoCHk879+4GGlVDbimSfr2rUoSFCra9eOeOZJpVT29QMPC9H4DQAASKUQdMF0w9z5Y3JyixYv/GjndhQkSH20c3vR4oWjB+VumDsfkRQAAIIRriuFUz7bu/vOFe+Oy8t/YfItKnkUChIsmgyGv3685puDB5bNuuPGYvQcBwAApFIIiXzz4LoPv/h534Pjr14w7qpIkQg16c9MNuvL3/z3pW++mji46KUpt2JcUgAAQCqFkLL92NGHP167r6F+xrDL5o0em5uoQk36m6om9ZvfbXp/24+FyQOev/mW4RmZqAkAACCVQmjaXV/3+qZv1u3aWZCUNLm0bExOXkFSMkWSqExf4bzeysaGjdUHP6nYWdnYOHlo2X1jxpekpKIyAACAVAqhz9DZua5ix7/37f3+8CGKpHITEzNi4pKiomIjIhRiSYRIJGVZEV/A8ngChuEzDEPRDE3RFOWfoIgkCZIgyf6RZfv8WXS91LwnX3Un//NPi+XhOLeHc3Mep9vtcLvtLpfV6TDb7UarVWcxazo6GvW6Wo2murnJS3hHZmX/uWjIlNJyuViM4xMAAJBKIey4PJ6DTY3VzU3H2trUBr3GZNJ3dppsVrPdbnM6/bOPOt1uTD160SiS5PuSvZDHF/H5EpaNEIoUEkmMTKaSR6XHxOQmqHITVTyaRq0AAACpFOBXeL1eN8d5OI7zejkv528S9BLe00vD+8V2urHW335MkgRFUhRJ0hTFnPw/ro4AAACkUgAAAACAPoVR9AEAAAAAqRQAAAAAAKkUAAAAAJBKAQAAAACQSgEAAAAAqRQAAAAAAKkUAAAAAJBKAQAAAACQSgEAAACg//h/AQAA//9R3yvtmAJmtAAAAABJRU5ErkJggg==)"
      ]
    },
    {
      "cell_type": "markdown",
      "metadata": {
        "id": "RaD5nA_jPV3H"
      },
      "source": [
        "# Imports"
      ]
    },
    {
      "cell_type": "code",
      "execution_count": 3,
      "metadata": {
        "id": "F8oFlfw3RXXx"
      },
      "outputs": [],
      "source": [
        "import sys\n",
        "sys.path.append('/content/Person-Re-Id-Dataset')"
      ]
    },
    {
      "cell_type": "code",
      "execution_count": 1,
      "metadata": {
        "id": "uJRSaF-H4tGs"
      },
      "outputs": [],
      "source": [
        "import pandas as pd\n",
        "import numpy as np\n",
        "import matplotlib.pyplot as plt\n",
        "import torch\n",
        "import timm\n",
        "\n",
        "import torch.nn.functional as F\n",
        "from torch import nn\n",
        "from torch.utils.data import Dataset, DataLoader\n",
        "\n",
        "from skimage import io\n",
        "from sklearn.model_selection import train_test_split\n",
        "\n",
        "from tqdm import tqdm"
      ]
    },
    {
      "cell_type": "markdown",
      "metadata": {
        "id": "umP_9Iz5PZNk"
      },
      "source": [
        "# Configurations"
      ]
    },
    {
      "cell_type": "code",
      "execution_count": 2,
      "metadata": {
        "id": "lerJzl1GPb6X"
      },
      "outputs": [],
      "source": [
        "DATA_DIR = \"/home/akansh_26/Hackathons/VisionX-AI/Person-Re-Id-Dataset/train\"\n",
        "CSV_FILE = \"/home/akansh_26/Hackathons/VisionX-AI/Person-Re-Id-Dataset/train.csv\"\n",
        "\n",
        "BATCH_SIZE = 32\n",
        "LR = 0.001\n",
        "EPOCHS = 15\n",
        "\n",
        "DEVICE = \"cuda\""
      ]
    },
    {
      "cell_type": "code",
      "execution_count": 8,
      "metadata": {
        "colab": {
          "base_uri": "https://localhost:8080/",
          "height": 444
        },
        "id": "8OpRLhSEPfyK",
        "outputId": "e6f77b96-13e2-41c5-e1ad-986ed8b9faaf"
      },
      "outputs": [
        {
          "data": {
            "text/html": [
              "<div>\n",
              "<style scoped>\n",
              "    .dataframe tbody tr th:only-of-type {\n",
              "        vertical-align: middle;\n",
              "    }\n",
              "\n",
              "    .dataframe tbody tr th {\n",
              "        vertical-align: top;\n",
              "    }\n",
              "\n",
              "    .dataframe thead th {\n",
              "        text-align: right;\n",
              "    }\n",
              "</style>\n",
              "<table border=\"1\" class=\"dataframe\">\n",
              "  <thead>\n",
              "    <tr style=\"text-align: right;\">\n",
              "      <th></th>\n",
              "      <th>Anchor</th>\n",
              "      <th>Negative</th>\n",
              "      <th>Positive</th>\n",
              "    </tr>\n",
              "  </thead>\n",
              "  <tbody>\n",
              "    <tr>\n",
              "      <th>0</th>\n",
              "      <td>1420_c5s3_052165_01.jpg</td>\n",
              "      <td>1334_c6s3_061492_05.jpg</td>\n",
              "      <td>1420_c3s3_051678_01.jpg</td>\n",
              "    </tr>\n",
              "    <tr>\n",
              "      <th>1</th>\n",
              "      <td>1420_c3s3_061978_03.jpg</td>\n",
              "      <td>0234_c3s3_079494_02.jpg</td>\n",
              "      <td>1420_c6s3_085567_02.jpg</td>\n",
              "    </tr>\n",
              "    <tr>\n",
              "      <th>2</th>\n",
              "      <td>1420_c5s3_062565_05.jpg</td>\n",
              "      <td>0475_c2s1_122816_08.jpg</td>\n",
              "      <td>1420_c3s3_051653_01.jpg</td>\n",
              "    </tr>\n",
              "    <tr>\n",
              "      <th>3</th>\n",
              "      <td>1420_c6s3_085592_04.jpg</td>\n",
              "      <td>0662_c2s2_036662_05.jpg</td>\n",
              "      <td>1420_c1s6_013446_04.jpg</td>\n",
              "    </tr>\n",
              "    <tr>\n",
              "      <th>4</th>\n",
              "      <td>0663_c5s3_085987_03.jpg</td>\n",
              "      <td>1463_c2s3_098102_02.jpg</td>\n",
              "      <td>0663_c3s3_085544_06.jpg</td>\n",
              "    </tr>\n",
              "    <tr>\n",
              "      <th>...</th>\n",
              "      <td>...</td>\n",
              "      <td>...</td>\n",
              "      <td>...</td>\n",
              "    </tr>\n",
              "    <tr>\n",
              "      <th>3995</th>\n",
              "      <td>0326_c2s3_074602_01.jpg</td>\n",
              "      <td>1336_c6s3_070592_01.jpg</td>\n",
              "      <td>0326_c6s4_007552_02.jpg</td>\n",
              "    </tr>\n",
              "    <tr>\n",
              "      <th>3996</th>\n",
              "      <td>0566_c3s2_004562_03.jpg</td>\n",
              "      <td>0952_c5s2_120574_02.jpg</td>\n",
              "      <td>0566_c3s2_004637_02.jpg</td>\n",
              "    </tr>\n",
              "    <tr>\n",
              "      <th>3997</th>\n",
              "      <td>0566_c3s2_013637_01.jpg</td>\n",
              "      <td>0197_c3s1_044551_02.jpg</td>\n",
              "      <td>0566_c3s2_004637_02.jpg</td>\n",
              "    </tr>\n",
              "    <tr>\n",
              "      <th>3998</th>\n",
              "      <td>0566_c6s2_007768_03.jpg</td>\n",
              "      <td>0674_c3s2_044987_01.jpg</td>\n",
              "      <td>0566_c3s2_004637_02.jpg</td>\n",
              "    </tr>\n",
              "    <tr>\n",
              "      <th>3999</th>\n",
              "      <td>0566_c6s2_007718_02.jpg</td>\n",
              "      <td>0605_c5s2_057930_04.jpg</td>\n",
              "      <td>0566_c6s2_007693_02.jpg</td>\n",
              "    </tr>\n",
              "  </tbody>\n",
              "</table>\n",
              "<p>4000 rows × 3 columns</p>\n",
              "</div>"
            ],
            "text/plain": [
              "                       Anchor                 Negative  \\\n",
              "0     1420_c5s3_052165_01.jpg  1334_c6s3_061492_05.jpg   \n",
              "1     1420_c3s3_061978_03.jpg  0234_c3s3_079494_02.jpg   \n",
              "2     1420_c5s3_062565_05.jpg  0475_c2s1_122816_08.jpg   \n",
              "3     1420_c6s3_085592_04.jpg  0662_c2s2_036662_05.jpg   \n",
              "4     0663_c5s3_085987_03.jpg  1463_c2s3_098102_02.jpg   \n",
              "...                       ...                      ...   \n",
              "3995  0326_c2s3_074602_01.jpg  1336_c6s3_070592_01.jpg   \n",
              "3996  0566_c3s2_004562_03.jpg  0952_c5s2_120574_02.jpg   \n",
              "3997  0566_c3s2_013637_01.jpg  0197_c3s1_044551_02.jpg   \n",
              "3998  0566_c6s2_007768_03.jpg  0674_c3s2_044987_01.jpg   \n",
              "3999  0566_c6s2_007718_02.jpg  0605_c5s2_057930_04.jpg   \n",
              "\n",
              "                     Positive  \n",
              "0     1420_c3s3_051678_01.jpg  \n",
              "1     1420_c6s3_085567_02.jpg  \n",
              "2     1420_c3s3_051653_01.jpg  \n",
              "3     1420_c1s6_013446_04.jpg  \n",
              "4     0663_c3s3_085544_06.jpg  \n",
              "...                       ...  \n",
              "3995  0326_c6s4_007552_02.jpg  \n",
              "3996  0566_c3s2_004637_02.jpg  \n",
              "3997  0566_c3s2_004637_02.jpg  \n",
              "3998  0566_c3s2_004637_02.jpg  \n",
              "3999  0566_c6s2_007693_02.jpg  \n",
              "\n",
              "[4000 rows x 3 columns]"
            ]
          },
          "execution_count": 8,
          "metadata": {},
          "output_type": "execute_result"
        }
      ],
      "source": [
        "df = pd.read_csv(CSV_FILE)\n",
        "df"
      ]
    },
    {
      "cell_type": "code",
      "execution_count": 9,
      "metadata": {
        "id": "nlVfbL1fPkvr"
      },
      "outputs": [],
      "source": [
        "row = df.iloc[14]\n",
        "\n",
        "A_img = io.imread(DATA_DIR + \"/\" + row[\"Anchor\"])\n",
        "P_img = io.imread(DATA_DIR + \"/\" + row[\"Positive\"])\n",
        "N_img = io.imread(DATA_DIR + \"/\" + row[\"Negative\"])"
      ]
    },
    {
      "cell_type": "code",
      "execution_count": 10,
      "metadata": {
        "colab": {
          "base_uri": "https://localhost:8080/",
          "height": 391
        },
        "id": "pLA2K22SPmsP",
        "outputId": "77080bc8-362f-4423-d95c-7e36b49a87a7"
      },
      "outputs": [
        {
          "data": {
            "text/plain": [
              "<matplotlib.image.AxesImage at 0x720e3668e420>"
            ]
          },
          "execution_count": 10,
          "metadata": {},
          "output_type": "execute_result"
        },
        {
          "data": {
            "image/png": "[encoded data removed]",
            "text/plain": [
              "<Figure size 1000x500 with 3 Axes>"
            ]
          },
          "metadata": {},
          "output_type": "display_data"
        }
      ],
      "source": [
        "f, (ax1, ax2, ax3) = plt.subplots(1,3, figsize=(10,5))\n",
        "\n",
        "ax1.set_title('Anchor')\n",
        "ax1.imshow(A_img)\n",
        "\n",
        "ax2.set_title('Positive')\n",
        "ax2.imshow(P_img)\n",
        "\n",
        "ax3.set_title('Negative')\n",
        "ax3.imshow(N_img)"
      ]
    },
    {
      "cell_type": "code",
      "execution_count": 11,
      "metadata": {
        "id": "pECVllpcPpud"
      },
      "outputs": [],
      "source": [
        "train_df, valid_df = train_test_split(df, test_size=0.2, random_state=42)"
      ]
    },
    {
      "cell_type": "markdown",
      "metadata": {
        "id": "B-WfDCYmPsTt"
      },
      "source": [
        "# Create APN Dataset"
      ]
    },
    {
      "cell_type": "code",
      "execution_count": 12,
      "metadata": {
        "id": "RcDARDmTPt88"
      },
      "outputs": [],
      "source": [
        "class APN_Dataset(Dataset):\n",
        "\n",
        "  def __init__(self, df):\n",
        "    self.df = df\n",
        "\n",
        "  def __len__(self):\n",
        "    return len(self.df)\n",
        "\n",
        "  def __getitem__(self, idx):\n",
        "    row = self.df.iloc[idx]\n",
        "\n",
        "    A_img = io.imread(DATA_DIR + \"/\" + row[\"Anchor\"])\n",
        "    P_img = io.imread(DATA_DIR + \"/\" + row[\"Positive\"])\n",
        "    N_img = io.imread(DATA_DIR + \"/\" + row[\"Negative\"])\n",
        "\n",
        "    A_img = torch.from_numpy(A_img).permute(2,0,1) / 255.0\n",
        "    P_img = torch.from_numpy(P_img).permute(2,0,1) / 255.0\n",
        "    N_img = torch.from_numpy(N_img).permute(2,0,1) / 255.0\n",
        "\n",
        "    return A_img, P_img, N_img"
      ]
    },
    {
      "cell_type": "code",
      "execution_count": 13,
      "metadata": {
        "colab": {
          "base_uri": "https://localhost:8080/"
        },
        "id": "X-P7MZ0sPwnH",
        "outputId": "b1f0ae35-04c9-4a7e-db65-c514971d1d74"
      },
      "outputs": [
        {
          "name": "stdout",
          "output_type": "stream",
          "text": [
            "Size of trainset: 3200\n",
            "Size of validset: 800\n"
          ]
        }
      ],
      "source": [
        "trainset = APN_Dataset(train_df)\n",
        "validset = APN_Dataset(valid_df)\n",
        "\n",
        "print(f\"Size of trainset: {len(trainset)}\")\n",
        "print(f\"Size of validset: {len(validset)}\")"
      ]
    },
    {
      "cell_type": "code",
      "execution_count": 14,
      "metadata": {
        "colab": {
          "base_uri": "https://localhost:8080/",
          "height": 391
        },
        "id": "xeK5gZRqPxK7",
        "outputId": "b34afa00-e056-4d8e-b949-2b98fce0ea6b"
      },
      "outputs": [
        {
          "data": {
            "text/plain": [
              "<matplotlib.image.AxesImage at 0x720e366675f0>"
            ]
          },
          "execution_count": 14,
          "metadata": {},
          "output_type": "execute_result"
        },
        {
          "data": {
            "image/png": "[encoded data removed]",
            "text/plain": [
              "<Figure size 1000x500 with 3 Axes>"
            ]
          },
          "metadata": {},
          "output_type": "display_data"
        }
      ],
      "source": [
        "idx = 40\n",
        "A,P,N = trainset[idx]\n",
        "\n",
        "f, (ax1, ax2, ax3) = plt.subplots(1,3,figsize= (10,5))\n",
        "\n",
        "ax1.set_title('Anchor')\n",
        "ax1.imshow(A.numpy().transpose((1,2,0)), cmap = 'gray')\n",
        "\n",
        "ax2.set_title('Positive')\n",
        "ax2.imshow(P.numpy().transpose((1,2,0)), cmap = 'gray')\n",
        "\n",
        "ax3.set_title('Negative')\n",
        "ax3.imshow(N.numpy().transpose((1,2,0)), cmap = 'gray')"
      ]
    },
    {
      "cell_type": "markdown",
      "metadata": {
        "id": "_d1EgftpP5UX"
      },
      "source": [
        "# Load Dataset into Batches"
      ]
    },
    {
      "cell_type": "code",
      "execution_count": 15,
      "metadata": {
        "id": "__Zd1aTQPz0L"
      },
      "outputs": [],
      "source": [
        "trainloader = DataLoader(trainset, batch_size=BATCH_SIZE, shuffle=True)\n",
        "validloader = DataLoader(validset, batch_size=BATCH_SIZE)"
      ]
    },
    {
      "cell_type": "code",
      "execution_count": 16,
      "metadata": {
        "colab": {
          "base_uri": "https://localhost:8080/"
        },
        "id": "af2_B27tP9l0",
        "outputId": "6ff7dffa-b0e1-4d3b-835b-bb55356e51b7"
      },
      "outputs": [
        {
          "name": "stdout",
          "output_type": "stream",
          "text": [
            "No. of batches in trainloader : 100\n",
            "No. of batches in validloader : 25\n"
          ]
        }
      ],
      "source": [
        "print(f\"No. of batches in trainloader : {len(trainloader)}\")\n",
        "print(f\"No. of batches in validloader : {len(validloader)}\")"
      ]
    },
    {
      "cell_type": "code",
      "execution_count": 17,
      "metadata": {
        "colab": {
          "base_uri": "https://localhost:8080/"
        },
        "id": "u70vR5jfP_l4",
        "outputId": "aa5e30bf-d7d4-4a44-9476-4e0c128835a0"
      },
      "outputs": [
        {
          "name": "stdout",
          "output_type": "stream",
          "text": [
            "One image batch shape : torch.Size([32, 3, 128, 64])\n"
          ]
        }
      ],
      "source": [
        "for A, P, N in trainloader:\n",
        "  break\n",
        "\n",
        "print(f\"One image batch shape : {A.shape}\")"
      ]
    },
    {
      "cell_type": "markdown",
      "metadata": {
        "id": "-NTnh5yiQBlB"
      },
      "source": [
        "# Create Model"
      ]
    },
    {
      "cell_type": "code",
      "execution_count": 3,
      "metadata": {
        "id": "H3Mah9XBQEnF"
      },
      "outputs": [],
      "source": [
        "class APN_Model(nn.Module):\n",
        "\n",
        "  def __init__(self, emb_size=512):\n",
        "    super(APN_Model, self).__init__()\n",
        "\n",
        "    self.efficientnet = timm.create_model('efficientnet_b0', pretrained=True)\n",
        "    self.efficientnet.classifier = nn.Linear(in_features=self.efficientnet.classifier.in_features, out_features=emb_size)\n",
        "\n",
        "  def forward(self, images):\n",
        "\n",
        "    embeddings = self.efficientnet(images)\n",
        "    return embeddings"
      ]
    },
    {
      "cell_type": "code",
      "execution_count": 4,
      "metadata": {
        "colab": {
          "base_uri": "https://localhost:8080/"
        },
        "id": "ePjHBQuPQFjZ",
        "outputId": "929e7ecc-3184-43ae-b0ab-8695a057b6bb"
      },
      "outputs": [
        {
          "data": {
            "text/plain": [
              "APN_Model(\n",
              "  (efficientnet): EfficientNet(\n",
              "    (conv_stem): Conv2d(3, 32, kernel_size=(3, 3), stride=(2, 2), padding=(1, 1), bias=False)\n",
              "    (bn1): BatchNormAct2d(\n",
              "      32, eps=1e-05, momentum=0.1, affine=True, track_running_stats=True\n",
              "      (drop): Identity()\n",
              "      (act): SiLU(inplace=True)\n",
              "    )\n",
              "    (blocks): Sequential(\n",
              "      (0): Sequential(\n",
              "        (0): DepthwiseSeparableConv(\n",
              "          (conv_dw): Conv2d(32, 32, kernel_size=(3, 3), stride=(1, 1), padding=(1, 1), groups=32, bias=False)\n",
              "          (bn1): BatchNormAct2d(\n",
              "            32, eps=1e-05, momentum=0.1, affine=True, track_running_stats=True\n",
              "            (drop): Identity()\n",
              "            (act): SiLU(inplace=True)\n",
              "          )\n",
              "          (aa): Identity()\n",
              "          (se): SqueezeExcite(\n",
              "            (conv_reduce): Conv2d(32, 8, kernel_size=(1, 1), stride=(1, 1))\n",
              "            (act1): SiLU(inplace=True)\n",
              "            (conv_expand): Conv2d(8, 32, kernel_size=(1, 1), stride=(1, 1))\n",
              "            (gate): Sigmoid()\n",
              "          )\n",
              "          (conv_pw): Conv2d(32, 16, kernel_size=(1, 1), stride=(1, 1), bias=False)\n",
              "          (bn2): BatchNormAct2d(\n",
              "            16, eps=1e-05, momentum=0.1, affine=True, track_running_stats=True\n",
              "            (drop): Identity()\n",
              "            (act): Identity()\n",
              "          )\n",
              "          (drop_path): Identity()\n",
              "        )\n",
              "      )\n",
              "      (1): Sequential(\n",
              "        (0): InvertedResidual(\n",
              "          (conv_pw): Conv2d(16, 96, kernel_size=(1, 1), stride=(1, 1), bias=False)\n",
              "          (bn1): BatchNormAct2d(\n",
              "            96, eps=1e-05, momentum=0.1, affine=True, track_running_stats=True\n",
              "            (drop): Identity()\n",
              "            (act): SiLU(inplace=True)\n",
              "          )\n",
              "          (conv_dw): Conv2d(96, 96, kernel_size=(3, 3), stride=(2, 2), padding=(1, 1), groups=96, bias=False)\n",
              "          (bn2): BatchNormAct2d(\n",
              "            96, eps=1e-05, momentum=0.1, affine=True, track_running_stats=True\n",
              "            (drop): Identity()\n",
              "            (act): SiLU(inplace=True)\n",
              "          )\n",
              "          (aa): Identity()\n",
              "          (se): SqueezeExcite(\n",
              "            (conv_reduce): Conv2d(96, 4, kernel_size=(1, 1), stride=(1, 1))\n",
              "            (act1): SiLU(inplace=True)\n",
              "            (conv_expand): Conv2d(4, 96, kernel_size=(1, 1), stride=(1, 1))\n",
              "            (gate): Sigmoid()\n",
              "          )\n",
              "          (conv_pwl): Conv2d(96, 24, kernel_size=(1, 1), stride=(1, 1), bias=False)\n",
              "          (bn3): BatchNormAct2d(\n",
              "            24, eps=1e-05, momentum=0.1, affine=True, track_running_stats=True\n",
              "            (drop): Identity()\n",
              "            (act): Identity()\n",
              "          )\n",
              "          (drop_path): Identity()\n",
              "        )\n",
              "        (1): InvertedResidual(\n",
              "          (conv_pw): Conv2d(24, 144, kernel_size=(1, 1), stride=(1, 1), bias=False)\n",
              "          (bn1): BatchNormAct2d(\n",
              "            144, eps=1e-05, momentum=0.1, affine=True, track_running_stats=True\n",
              "            (drop): Identity()\n",
              "            (act): SiLU(inplace=True)\n",
              "          )\n",
              "          (conv_dw): Conv2d(144, 144, kernel_size=(3, 3), stride=(1, 1), padding=(1, 1), groups=144, bias=False)\n",
              "          (bn2): BatchNormAct2d(\n",
              "            144, eps=1e-05, momentum=0.1, affine=True, track_running_stats=True\n",
              "            (drop): Identity()\n",
              "            (act): SiLU(inplace=True)\n",
              "          )\n",
              "          (aa): Identity()\n",
              "          (se): SqueezeExcite(\n",
              "            (conv_reduce): Conv2d(144, 6, kernel_size=(1, 1), stride=(1, 1))\n",
              "            (act1): SiLU(inplace=True)\n",
              "            (conv_expand): Conv2d(6, 144, kernel_size=(1, 1), stride=(1, 1))\n",
              "            (gate): Sigmoid()\n",
              "          )\n",
              "          (conv_pwl): Conv2d(144, 24, kernel_size=(1, 1), stride=(1, 1), bias=False)\n",
              "          (bn3): BatchNormAct2d(\n",
              "            24, eps=1e-05, momentum=0.1, affine=True, track_running_stats=True\n",
              "            (drop): Identity()\n",
              "            (act): Identity()\n",
              "          )\n",
              "          (drop_path): Identity()\n",
              "        )\n",
              "      )\n",
              "      (2): Sequential(\n",
              "        (0): InvertedResidual(\n",
              "          (conv_pw): Conv2d(24, 144, kernel_size=(1, 1), stride=(1, 1), bias=False)\n",
              "          (bn1): BatchNormAct2d(\n",
              "            144, eps=1e-05, momentum=0.1, affine=True, track_running_stats=True\n",
              "            (drop): Identity()\n",
              "            (act): SiLU(inplace=True)\n",
              "          )\n",
              "          (conv_dw): Conv2d(144, 144, kernel_size=(5, 5), stride=(2, 2), padding=(2, 2), groups=144, bias=False)\n",
              "          (bn2): BatchNormAct2d(\n",
              "            144, eps=1e-05, momentum=0.1, affine=True, track_running_stats=True\n",
              "            (drop): Identity()\n",
              "            (act): SiLU(inplace=True)\n",
              "          )\n",
              "          (aa): Identity()\n",
              "          (se): SqueezeExcite(\n",
              "            (conv_reduce): Conv2d(144, 6, kernel_size=(1, 1), stride=(1, 1))\n",
              "            (act1): SiLU(inplace=True)\n",
              "            (conv_expand): Conv2d(6, 144, kernel_size=(1, 1), stride=(1, 1))\n",
              "            (gate): Sigmoid()\n",
              "          )\n",
              "          (conv_pwl): Conv2d(144, 40, kernel_size=(1, 1), stride=(1, 1), bias=False)\n",
              "          (bn3): BatchNormAct2d(\n",
              "            40, eps=1e-05, momentum=0.1, affine=True, track_running_stats=True\n",
              "            (drop): Identity()\n",
              "            (act): Identity()\n",
              "          )\n",
              "          (drop_path): Identity()\n",
              "        )\n",
              "        (1): InvertedResidual(\n",
              "          (conv_pw): Conv2d(40, 240, kernel_size=(1, 1), stride=(1, 1), bias=False)\n",
              "          (bn1): BatchNormAct2d(\n",
              "            240, eps=1e-05, momentum=0.1, affine=True, track_running_stats=True\n",
              "            (drop): Identity()\n",
              "            (act): SiLU(inplace=True)\n",
              "          )\n",
              "          (conv_dw): Conv2d(240, 240, kernel_size=(5, 5), stride=(1, 1), padding=(2, 2), groups=240, bias=False)\n",
              "          (bn2): BatchNormAct2d(\n",
              "            240, eps=1e-05, momentum=0.1, affine=True, track_running_stats=True\n",
              "            (drop): Identity()\n",
              "            (act): SiLU(inplace=True)\n",
              "          )\n",
              "          (aa): Identity()\n",
              "          (se): SqueezeExcite(\n",
              "            (conv_reduce): Conv2d(240, 10, kernel_size=(1, 1), stride=(1, 1))\n",
              "            (act1): SiLU(inplace=True)\n",
              "            (conv_expand): Conv2d(10, 240, kernel_size=(1, 1), stride=(1, 1))\n",
              "            (gate): Sigmoid()\n",
              "          )\n",
              "          (conv_pwl): Conv2d(240, 40, kernel_size=(1, 1), stride=(1, 1), bias=False)\n",
              "          (bn3): BatchNormAct2d(\n",
              "            40, eps=1e-05, momentum=0.1, affine=True, track_running_stats=True\n",
              "            (drop): Identity()\n",
              "            (act): Identity()\n",
              "          )\n",
              "          (drop_path): Identity()\n",
              "        )\n",
              "      )\n",
              "      (3): Sequential(\n",
              "        (0): InvertedResidual(\n",
              "          (conv_pw): Conv2d(40, 240, kernel_size=(1, 1), stride=(1, 1), bias=False)\n",
              "          (bn1): BatchNormAct2d(\n",
              "            240, eps=1e-05, momentum=0.1, affine=True, track_running_stats=True\n",
              "            (drop): Identity()\n",
              "            (act): SiLU(inplace=True)\n",
              "          )\n",
              "          (conv_dw): Conv2d(240, 240, kernel_size=(3, 3), stride=(2, 2), padding=(1, 1), groups=240, bias=False)\n",
              "          (bn2): BatchNormAct2d(\n",
              "            240, eps=1e-05, momentum=0.1, affine=True, track_running_stats=True\n",
              "            (drop): Identity()\n",
              "            (act): SiLU(inplace=True)\n",
              "          )\n",
              "          (aa): Identity()\n",
              "          (se): SqueezeExcite(\n",
              "            (conv_reduce): Conv2d(240, 10, kernel_size=(1, 1), stride=(1, 1))\n",
              "            (act1): SiLU(inplace=True)\n",
              "            (conv_expand): Conv2d(10, 240, kernel_size=(1, 1), stride=(1, 1))\n",
              "            (gate): Sigmoid()\n",
              "          )\n",
              "          (conv_pwl): Conv2d(240, 80, kernel_size=(1, 1), stride=(1, 1), bias=False)\n",
              "          (bn3): BatchNormAct2d(\n",
              "            80, eps=1e-05, momentum=0.1, affine=True, track_running_stats=True\n",
              "            (drop): Identity()\n",
              "            (act): Identity()\n",
              "          )\n",
              "          (drop_path): Identity()\n",
              "        )\n",
              "        (1): InvertedResidual(\n",
              "          (conv_pw): Conv2d(80, 480, kernel_size=(1, 1), stride=(1, 1), bias=False)\n",
              "          (bn1): BatchNormAct2d(\n",
              "            480, eps=1e-05, momentum=0.1, affine=True, track_running_stats=True\n",
              "            (drop): Identity()\n",
              "            (act): SiLU(inplace=True)\n",
              "          )\n",
              "          (conv_dw): Conv2d(480, 480, kernel_size=(3, 3), stride=(1, 1), padding=(1, 1), groups=480, bias=False)\n",
              "          (bn2): BatchNormAct2d(\n",
              "            480, eps=1e-05, momentum=0.1, affine=True, track_running_stats=True\n",
              "            (drop): Identity()\n",
              "            (act): SiLU(inplace=True)\n",
              "          )\n",
              "          (aa): Identity()\n",
              "          (se): SqueezeExcite(\n",
              "            (conv_reduce): Conv2d(480, 20, kernel_size=(1, 1), stride=(1, 1))\n",
              "            (act1): SiLU(inplace=True)\n",
              "            (conv_expand): Conv2d(20, 480, kernel_size=(1, 1), stride=(1, 1))\n",
              "            (gate): Sigmoid()\n",
              "          )\n",
              "          (conv_pwl): Conv2d(480, 80, kernel_size=(1, 1), stride=(1, 1), bias=False)\n",
              "          (bn3): BatchNormAct2d(\n",
              "            80, eps=1e-05, momentum=0.1, affine=True, track_running_stats=True\n",
              "            (drop): Identity()\n",
              "            (act): Identity()\n",
              "          )\n",
              "          (drop_path): Identity()\n",
              "        )\n",
              "        (2): InvertedResidual(\n",
              "          (conv_pw): Conv2d(80, 480, kernel_size=(1, 1), stride=(1, 1), bias=False)\n",
              "          (bn1): BatchNormAct2d(\n",
              "            480, eps=1e-05, momentum=0.1, affine=True, track_running_stats=True\n",
              "            (drop): Identity()\n",
              "            (act): SiLU(inplace=True)\n",
              "          )\n",
              "          (conv_dw): Conv2d(480, 480, kernel_size=(3, 3), stride=(1, 1), padding=(1, 1), groups=480, bias=False)\n",
              "          (bn2): BatchNormAct2d(\n",
              "            480, eps=1e-05, momentum=0.1, affine=True, track_running_stats=True\n",
              "            (drop): Identity()\n",
              "            (act): SiLU(inplace=True)\n",
              "          )\n",
              "          (aa): Identity()\n",
              "          (se): SqueezeExcite(\n",
              "            (conv_reduce): Conv2d(480, 20, kernel_size=(1, 1), stride=(1, 1))\n",
              "            (act1): SiLU(inplace=True)\n",
              "            (conv_expand): Conv2d(20, 480, kernel_size=(1, 1), stride=(1, 1))\n",
              "            (gate): Sigmoid()\n",
              "          )\n",
              "          (conv_pwl): Conv2d(480, 80, kernel_size=(1, 1), stride=(1, 1), bias=False)\n",
              "          (bn3): BatchNormAct2d(\n",
              "            80, eps=1e-05, momentum=0.1, affine=True, track_running_stats=True\n",
              "            (drop): Identity()\n",
              "            (act): Identity()\n",
              "          )\n",
              "          (drop_path): Identity()\n",
              "        )\n",
              "      )\n",
              "      (4): Sequential(\n",
              "        (0): InvertedResidual(\n",
              "          (conv_pw): Conv2d(80, 480, kernel_size=(1, 1), stride=(1, 1), bias=False)\n",
              "          (bn1): BatchNormAct2d(\n",
              "            480, eps=1e-05, momentum=0.1, affine=True, track_running_stats=True\n",
              "            (drop): Identity()\n",
              "            (act): SiLU(inplace=True)\n",
              "          )\n",
              "          (conv_dw): Conv2d(480, 480, kernel_size=(5, 5), stride=(1, 1), padding=(2, 2), groups=480, bias=False)\n",
              "          (bn2): BatchNormAct2d(\n",
              "            480, eps=1e-05, momentum=0.1, affine=True, track_running_stats=True\n",
              "            (drop): Identity()\n",
              "            (act): SiLU(inplace=True)\n",
              "          )\n",
              "          (aa): Identity()\n",
              "          (se): SqueezeExcite(\n",
              "            (conv_reduce): Conv2d(480, 20, kernel_size=(1, 1), stride=(1, 1))\n",
              "            (act1): SiLU(inplace=True)\n",
              "            (conv_expand): Conv2d(20, 480, kernel_size=(1, 1), stride=(1, 1))\n",
              "            (gate): Sigmoid()\n",
              "          )\n",
              "          (conv_pwl): Conv2d(480, 112, kernel_size=(1, 1), stride=(1, 1), bias=False)\n",
              "          (bn3): BatchNormAct2d(\n",
              "            112, eps=1e-05, momentum=0.1, affine=True, track_running_stats=True\n",
              "            (drop): Identity()\n",
              "            (act): Identity()\n",
              "          )\n",
              "          (drop_path): Identity()\n",
              "        )\n",
              "        (1): InvertedResidual(\n",
              "          (conv_pw): Conv2d(112, 672, kernel_size=(1, 1), stride=(1, 1), bias=False)\n",
              "          (bn1): BatchNormAct2d(\n",
              "            672, eps=1e-05, momentum=0.1, affine=True, track_running_stats=True\n",
              "            (drop): Identity()\n",
              "            (act): SiLU(inplace=True)\n",
              "          )\n",
              "          (conv_dw): Conv2d(672, 672, kernel_size=(5, 5), stride=(1, 1), padding=(2, 2), groups=672, bias=False)\n",
              "          (bn2): BatchNormAct2d(\n",
              "            672, eps=1e-05, momentum=0.1, affine=True, track_running_stats=True\n",
              "            (drop): Identity()\n",
              "            (act): SiLU(inplace=True)\n",
              "          )\n",
              "          (aa): Identity()\n",
              "          (se): SqueezeExcite(\n",
              "            (conv_reduce): Conv2d(672, 28, kernel_size=(1, 1), stride=(1, 1))\n",
              "            (act1): SiLU(inplace=True)\n",
              "            (conv_expand): Conv2d(28, 672, kernel_size=(1, 1), stride=(1, 1))\n",
              "            (gate): Sigmoid()\n",
              "          )\n",
              "          (conv_pwl): Conv2d(672, 112, kernel_size=(1, 1), stride=(1, 1), bias=False)\n",
              "          (bn3): BatchNormAct2d(\n",
              "            112, eps=1e-05, momentum=0.1, affine=True, track_running_stats=True\n",
              "            (drop): Identity()\n",
              "            (act): Identity()\n",
              "          )\n",
              "          (drop_path): Identity()\n",
              "        )\n",
              "        (2): InvertedResidual(\n",
              "          (conv_pw): Conv2d(112, 672, kernel_size=(1, 1), stride=(1, 1), bias=False)\n",
              "          (bn1): BatchNormAct2d(\n",
              "            672, eps=1e-05, momentum=0.1, affine=True, track_running_stats=True\n",
              "            (drop): Identity()\n",
              "            (act): SiLU(inplace=True)\n",
              "          )\n",
              "          (conv_dw): Conv2d(672, 672, kernel_size=(5, 5), stride=(1, 1), padding=(2, 2), groups=672, bias=False)\n",
              "          (bn2): BatchNormAct2d(\n",
              "            672, eps=1e-05, momentum=0.1, affine=True, track_running_stats=True\n",
              "            (drop): Identity()\n",
              "            (act): SiLU(inplace=True)\n",
              "          )\n",
              "          (aa): Identity()\n",
              "          (se): SqueezeExcite(\n",
              "            (conv_reduce): Conv2d(672, 28, kernel_size=(1, 1), stride=(1, 1))\n",
              "            (act1): SiLU(inplace=True)\n",
              "            (conv_expand): Conv2d(28, 672, kernel_size=(1, 1), stride=(1, 1))\n",
              "            (gate): Sigmoid()\n",
              "          )\n",
              "          (conv_pwl): Conv2d(672, 112, kernel_size=(1, 1), stride=(1, 1), bias=False)\n",
              "          (bn3): BatchNormAct2d(\n",
              "            112, eps=1e-05, momentum=0.1, affine=True, track_running_stats=True\n",
              "            (drop): Identity()\n",
              "            (act): Identity()\n",
              "          )\n",
              "          (drop_path): Identity()\n",
              "        )\n",
              "      )\n",
              "      (5): Sequential(\n",
              "        (0): InvertedResidual(\n",
              "          (conv_pw): Conv2d(112, 672, kernel_size=(1, 1), stride=(1, 1), bias=False)\n",
              "          (bn1): BatchNormAct2d(\n",
              "            672, eps=1e-05, momentum=0.1, affine=True, track_running_stats=True\n",
              "            (drop): Identity()\n",
              "            (act): SiLU(inplace=True)\n",
              "          )\n",
              "          (conv_dw): Conv2d(672, 672, kernel_size=(5, 5), stride=(2, 2), padding=(2, 2), groups=672, bias=False)\n",
              "          (bn2): BatchNormAct2d(\n",
              "            672, eps=1e-05, momentum=0.1, affine=True, track_running_stats=True\n",
              "            (drop): Identity()\n",
              "            (act): SiLU(inplace=True)\n",
              "          )\n",
              "          (aa): Identity()\n",
              "          (se): SqueezeExcite(\n",
              "            (conv_reduce): Conv2d(672, 28, kernel_size=(1, 1), stride=(1, 1))\n",
              "            (act1): SiLU(inplace=True)\n",
              "            (conv_expand): Conv2d(28, 672, kernel_size=(1, 1), stride=(1, 1))\n",
              "            (gate): Sigmoid()\n",
              "          )\n",
              "          (conv_pwl): Conv2d(672, 192, kernel_size=(1, 1), stride=(1, 1), bias=False)\n",
              "          (bn3): BatchNormAct2d(\n",
              "            192, eps=1e-05, momentum=0.1, affine=True, track_running_stats=True\n",
              "            (drop): Identity()\n",
              "            (act): Identity()\n",
              "          )\n",
              "          (drop_path): Identity()\n",
              "        )\n",
              "        (1): InvertedResidual(\n",
              "          (conv_pw): Conv2d(192, 1152, kernel_size=(1, 1), stride=(1, 1), bias=False)\n",
              "          (bn1): BatchNormAct2d(\n",
              "            1152, eps=1e-05, momentum=0.1, affine=True, track_running_stats=True\n",
              "            (drop): Identity()\n",
              "            (act): SiLU(inplace=True)\n",
              "          )\n",
              "          (conv_dw): Conv2d(1152, 1152, kernel_size=(5, 5), stride=(1, 1), padding=(2, 2), groups=1152, bias=False)\n",
              "          (bn2): BatchNormAct2d(\n",
              "            1152, eps=1e-05, momentum=0.1, affine=True, track_running_stats=True\n",
              "            (drop): Identity()\n",
              "            (act): SiLU(inplace=True)\n",
              "          )\n",
              "          (aa): Identity()\n",
              "          (se): SqueezeExcite(\n",
              "            (conv_reduce): Conv2d(1152, 48, kernel_size=(1, 1), stride=(1, 1))\n",
              "            (act1): SiLU(inplace=True)\n",
              "            (conv_expand): Conv2d(48, 1152, kernel_size=(1, 1), stride=(1, 1))\n",
              "            (gate): Sigmoid()\n",
              "          )\n",
              "          (conv_pwl): Conv2d(1152, 192, kernel_size=(1, 1), stride=(1, 1), bias=False)\n",
              "          (bn3): BatchNormAct2d(\n",
              "            192, eps=1e-05, momentum=0.1, affine=True, track_running_stats=True\n",
              "            (drop): Identity()\n",
              "            (act): Identity()\n",
              "          )\n",
              "          (drop_path): Identity()\n",
              "        )\n",
              "        (2): InvertedResidual(\n",
              "          (conv_pw): Conv2d(192, 1152, kernel_size=(1, 1), stride=(1, 1), bias=False)\n",
              "          (bn1): BatchNormAct2d(\n",
              "            1152, eps=1e-05, momentum=0.1, affine=True, track_running_stats=True\n",
              "            (drop): Identity()\n",
              "            (act): SiLU(inplace=True)\n",
              "          )\n",
              "          (conv_dw): Conv2d(1152, 1152, kernel_size=(5, 5), stride=(1, 1), padding=(2, 2), groups=1152, bias=False)\n",
              "          (bn2): BatchNormAct2d(\n",
              "            1152, eps=1e-05, momentum=0.1, affine=True, track_running_stats=True\n",
              "            (drop): Identity()\n",
              "            (act): SiLU(inplace=True)\n",
              "          )\n",
              "          (aa): Identity()\n",
              "          (se): SqueezeExcite(\n",
              "            (conv_reduce): Conv2d(1152, 48, kernel_size=(1, 1), stride=(1, 1))\n",
              "            (act1): SiLU(inplace=True)\n",
              "            (conv_expand): Conv2d(48, 1152, kernel_size=(1, 1), stride=(1, 1))\n",
              "            (gate): Sigmoid()\n",
              "          )\n",
              "          (conv_pwl): Conv2d(1152, 192, kernel_size=(1, 1), stride=(1, 1), bias=False)\n",
              "          (bn3): BatchNormAct2d(\n",
              "            192, eps=1e-05, momentum=0.1, affine=True, track_running_stats=True\n",
              "            (drop): Identity()\n",
              "            (act): Identity()\n",
              "          )\n",
              "          (drop_path): Identity()\n",
              "        )\n",
              "        (3): InvertedResidual(\n",
              "          (conv_pw): Conv2d(192, 1152, kernel_size=(1, 1), stride=(1, 1), bias=False)\n",
              "          (bn1): BatchNormAct2d(\n",
              "            1152, eps=1e-05, momentum=0.1, affine=True, track_running_stats=True\n",
              "            (drop): Identity()\n",
              "            (act): SiLU(inplace=True)\n",
              "          )\n",
              "          (conv_dw): Conv2d(1152, 1152, kernel_size=(5, 5), stride=(1, 1), padding=(2, 2), groups=1152, bias=False)\n",
              "          (bn2): BatchNormAct2d(\n",
              "            1152, eps=1e-05, momentum=0.1, affine=True, track_running_stats=True\n",
              "            (drop): Identity()\n",
              "            (act): SiLU(inplace=True)\n",
              "          )\n",
              "          (aa): Identity()\n",
              "          (se): SqueezeExcite(\n",
              "            (conv_reduce): Conv2d(1152, 48, kernel_size=(1, 1), stride=(1, 1))\n",
              "            (act1): SiLU(inplace=True)\n",
              "            (conv_expand): Conv2d(48, 1152, kernel_size=(1, 1), stride=(1, 1))\n",
              "            (gate): Sigmoid()\n",
              "          )\n",
              "          (conv_pwl): Conv2d(1152, 192, kernel_size=(1, 1), stride=(1, 1), bias=False)\n",
              "          (bn3): BatchNormAct2d(\n",
              "            192, eps=1e-05, momentum=0.1, affine=True, track_running_stats=True\n",
              "            (drop): Identity()\n",
              "            (act): Identity()\n",
              "          )\n",
              "          (drop_path): Identity()\n",
              "        )\n",
              "      )\n",
              "      (6): Sequential(\n",
              "        (0): InvertedResidual(\n",
              "          (conv_pw): Conv2d(192, 1152, kernel_size=(1, 1), stride=(1, 1), bias=False)\n",
              "          (bn1): BatchNormAct2d(\n",
              "            1152, eps=1e-05, momentum=0.1, affine=True, track_running_stats=True\n",
              "            (drop): Identity()\n",
              "            (act): SiLU(inplace=True)\n",
              "          )\n",
              "          (conv_dw): Conv2d(1152, 1152, kernel_size=(3, 3), stride=(1, 1), padding=(1, 1), groups=1152, bias=False)\n",
              "          (bn2): BatchNormAct2d(\n",
              "            1152, eps=1e-05, momentum=0.1, affine=True, track_running_stats=True\n",
              "            (drop): Identity()\n",
              "            (act): SiLU(inplace=True)\n",
              "          )\n",
              "          (aa): Identity()\n",
              "          (se): SqueezeExcite(\n",
              "            (conv_reduce): Conv2d(1152, 48, kernel_size=(1, 1), stride=(1, 1))\n",
              "            (act1): SiLU(inplace=True)\n",
              "            (conv_expand): Conv2d(48, 1152, kernel_size=(1, 1), stride=(1, 1))\n",
              "            (gate): Sigmoid()\n",
              "          )\n",
              "          (conv_pwl): Conv2d(1152, 320, kernel_size=(1, 1), stride=(1, 1), bias=False)\n",
              "          (bn3): BatchNormAct2d(\n",
              "            320, eps=1e-05, momentum=0.1, affine=True, track_running_stats=True\n",
              "            (drop): Identity()\n",
              "            (act): Identity()\n",
              "          )\n",
              "          (drop_path): Identity()\n",
              "        )\n",
              "      )\n",
              "    )\n",
              "    (conv_head): Conv2d(320, 1280, kernel_size=(1, 1), stride=(1, 1), bias=False)\n",
              "    (bn2): BatchNormAct2d(\n",
              "      1280, eps=1e-05, momentum=0.1, affine=True, track_running_stats=True\n",
              "      (drop): Identity()\n",
              "      (act): SiLU(inplace=True)\n",
              "    )\n",
              "    (global_pool): SelectAdaptivePool2d(pool_type=avg, flatten=Flatten(start_dim=1, end_dim=-1))\n",
              "    (classifier): Linear(in_features=1280, out_features=512, bias=True)\n",
              "  )\n",
              ")"
            ]
          },
          "execution_count": 4,
          "metadata": {},
          "output_type": "execute_result"
        }
      ],
      "source": [
        "model = APN_Model()\n",
        "model.to(DEVICE)"
      ]
    },
    {
      "cell_type": "markdown",
      "metadata": {
        "id": "qCTbN0YqQIaQ"
      },
      "source": [
        "# Create Train and Eval function"
      ]
    },
    {
      "cell_type": "code",
      "execution_count": 19,
      "metadata": {
        "id": "95a5CYcYQH46"
      },
      "outputs": [],
      "source": [
        "def train_fn(model, dataloader, optimizer, criterion):\n",
        "\n",
        "  model.train() # ON Dropout\n",
        "  total_loss = 0.0\n",
        "\n",
        "  for A, P, N in tqdm(dataloader):\n",
        "    A, P, N = A.to(DEVICE), P.to(DEVICE), N.to(DEVICE)\n",
        "\n",
        "    optimizer.zero_grad()\n",
        "\n",
        "    A_embs = model(A)\n",
        "    P_embs = model(P)\n",
        "    N_embs = model(N)\n",
        "\n",
        "    loss = criterion(A_embs, P_embs, N_embs)\n",
        "\n",
        "    optimizer.zero_grad()\n",
        "    loss.backward()\n",
        "    optimizer.step()\n",
        "\n",
        "    total_loss += loss.item()\n",
        "\n",
        "  return total_loss / len(dataloader)"
      ]
    },
    {
      "cell_type": "code",
      "execution_count": 20,
      "metadata": {
        "id": "GhG1oK9qQOdf"
      },
      "outputs": [],
      "source": [
        "def eval_fn(model, dataloader, criterion):\n",
        "\n",
        "  model.eval() # ON Dropout\n",
        "  total_loss = 0.0\n",
        "\n",
        "  with torch.no_grad():\n",
        "    for A, P, N in tqdm(dataloader):\n",
        "\n",
        "      A, P, N = A.to(DEVICE), P.to(DEVICE), N.to(DEVICE)\n",
        "\n",
        "      A_embs = model(A)\n",
        "      P_embs = model(P)\n",
        "      N_embs = model(N)\n",
        "\n",
        "      loss = criterion(A_embs, P_embs, N_embs)\n",
        "\n",
        "      total_loss += loss.item()\n",
        "\n",
        "    return total_loss / len(dataloader)"
      ]
    },
    {
      "cell_type": "code",
      "execution_count": 34,
      "metadata": {
        "id": "zdIUtk3dQReV"
      },
      "outputs": [],
      "source": [
        "criterion = nn.TripletMarginLoss()\n",
        "optimizer = torch.optim.Adam(model.parameters(), lr=LR)"
      ]
    },
    {
      "cell_type": "markdown",
      "metadata": {
        "id": "FkjfpViLQTv9"
      },
      "source": [
        "# Create Training Loop"
      ]
    },
    {
      "cell_type": "code",
      "execution_count": 35,
      "metadata": {
        "colab": {
          "base_uri": "https://localhost:8080/"
        },
        "id": "vJZuSPCQQWAt",
        "outputId": "3b6471a0-b03a-44d6-c837-fb245ffccd1c"
      },
      "outputs": [
        {
          "name": "stderr",
          "output_type": "stream",
          "text": [
            "100%|██████████| 100/100 [00:25<00:00,  3.99it/s]\n",
            "100%|██████████| 25/25 [00:03<00:00,  7.19it/s]\n"
          ]
        },
        {
          "name": "stdout",
          "output_type": "stream",
          "text": [
            "SAVED_WEIGHTS_SUCESS\n",
            "EPOCHS : 1 train_loss : 0.7103079876303673 valid_loss : 0.4894201159477234\n"
          ]
        },
        {
          "name": "stderr",
          "output_type": "stream",
          "text": [
            "100%|██████████| 100/100 [00:22<00:00,  4.39it/s]\n",
            "100%|██████████| 25/25 [00:03<00:00,  7.30it/s]\n"
          ]
        },
        {
          "name": "stdout",
          "output_type": "stream",
          "text": [
            "SAVED_WEIGHTS_SUCESS\n",
            "EPOCHS : 2 train_loss : 0.277322041541338 valid_loss : 0.41059257864952087\n"
          ]
        },
        {
          "name": "stderr",
          "output_type": "stream",
          "text": [
            "100%|██████████| 100/100 [00:23<00:00,  4.17it/s]\n",
            "100%|██████████| 25/25 [00:03<00:00,  7.28it/s]\n"
          ]
        },
        {
          "name": "stdout",
          "output_type": "stream",
          "text": [
            "SAVED_WEIGHTS_SUCESS\n",
            "EPOCHS : 3 train_loss : 0.19389709770679475 valid_loss : 0.2762397676706314\n"
          ]
        },
        {
          "name": "stderr",
          "output_type": "stream",
          "text": [
            "100%|██████████| 100/100 [00:22<00:00,  4.36it/s]\n",
            "100%|██████████| 25/25 [00:03<00:00,  6.66it/s]\n"
          ]
        },
        {
          "name": "stdout",
          "output_type": "stream",
          "text": [
            "SAVED_WEIGHTS_SUCESS\n",
            "EPOCHS : 4 train_loss : 0.10952992759644985 valid_loss : 0.23498551785945893\n"
          ]
        },
        {
          "name": "stderr",
          "output_type": "stream",
          "text": [
            "100%|██████████| 100/100 [00:22<00:00,  4.45it/s]\n",
            "100%|██████████| 25/25 [00:04<00:00,  5.71it/s]\n"
          ]
        },
        {
          "name": "stdout",
          "output_type": "stream",
          "text": [
            "SAVED_WEIGHTS_SUCESS\n",
            "EPOCHS : 5 train_loss : 0.08699732005596161 valid_loss : 0.1960863411426544\n"
          ]
        },
        {
          "name": "stderr",
          "output_type": "stream",
          "text": [
            "100%|██████████| 100/100 [00:28<00:00,  3.49it/s]\n",
            "100%|██████████| 25/25 [00:03<00:00,  6.70it/s]\n"
          ]
        },
        {
          "name": "stdout",
          "output_type": "stream",
          "text": [
            "SAVED_WEIGHTS_SUCESS\n",
            "EPOCHS : 6 train_loss : 0.07380022034049034 valid_loss : 0.15385114401578903\n"
          ]
        },
        {
          "name": "stderr",
          "output_type": "stream",
          "text": [
            "100%|██████████| 100/100 [00:29<00:00,  3.39it/s]\n",
            "100%|██████████| 25/25 [00:04<00:00,  5.12it/s]\n"
          ]
        },
        {
          "name": "stdout",
          "output_type": "stream",
          "text": [
            "EPOCHS : 7 train_loss : 0.05773247867822647 valid_loss : 0.1808303999900818\n"
          ]
        },
        {
          "name": "stderr",
          "output_type": "stream",
          "text": [
            "100%|██████████| 100/100 [00:26<00:00,  3.84it/s]\n",
            "100%|██████████| 25/25 [00:04<00:00,  5.10it/s]\n"
          ]
        },
        {
          "name": "stdout",
          "output_type": "stream",
          "text": [
            "EPOCHS : 8 train_loss : 0.05076680660247803 valid_loss : 0.1613008451461792\n"
          ]
        },
        {
          "name": "stderr",
          "output_type": "stream",
          "text": [
            "100%|██████████| 100/100 [00:24<00:00,  4.09it/s]\n",
            "100%|██████████| 25/25 [00:04<00:00,  5.77it/s]\n"
          ]
        },
        {
          "name": "stdout",
          "output_type": "stream",
          "text": [
            "EPOCHS : 9 train_loss : 0.0548810338973999 valid_loss : 0.21612045109272005\n"
          ]
        },
        {
          "name": "stderr",
          "output_type": "stream",
          "text": [
            "100%|██████████| 100/100 [00:28<00:00,  3.45it/s]\n",
            "100%|██████████| 25/25 [00:05<00:00,  4.58it/s]\n"
          ]
        },
        {
          "name": "stdout",
          "output_type": "stream",
          "text": [
            "EPOCHS : 10 train_loss : 0.09386755496263505 valid_loss : 0.2012229108810425\n"
          ]
        },
        {
          "name": "stderr",
          "output_type": "stream",
          "text": [
            "100%|██████████| 100/100 [00:30<00:00,  3.32it/s]\n",
            "100%|██████████| 25/25 [00:05<00:00,  4.19it/s]\n"
          ]
        },
        {
          "name": "stdout",
          "output_type": "stream",
          "text": [
            "EPOCHS : 11 train_loss : 0.09163206100463867 valid_loss : 0.28815176963806155\n"
          ]
        },
        {
          "name": "stderr",
          "output_type": "stream",
          "text": [
            "100%|██████████| 100/100 [00:31<00:00,  3.21it/s]\n",
            "100%|██████████| 25/25 [00:04<00:00,  5.02it/s]\n"
          ]
        },
        {
          "name": "stdout",
          "output_type": "stream",
          "text": [
            "EPOCHS : 12 train_loss : 0.10711282633244991 valid_loss : 0.21611273407936096\n"
          ]
        },
        {
          "name": "stderr",
          "output_type": "stream",
          "text": [
            "100%|██████████| 100/100 [00:26<00:00,  3.76it/s]\n",
            "100%|██████████| 25/25 [00:04<00:00,  5.88it/s]\n"
          ]
        },
        {
          "name": "stdout",
          "output_type": "stream",
          "text": [
            "SAVED_WEIGHTS_SUCESS\n",
            "EPOCHS : 13 train_loss : 0.03392982304096222 valid_loss : 0.1111748218536377\n"
          ]
        },
        {
          "name": "stderr",
          "output_type": "stream",
          "text": [
            "100%|██████████| 100/100 [00:27<00:00,  3.62it/s]\n",
            "100%|██████████| 25/25 [00:06<00:00,  4.12it/s]\n"
          ]
        },
        {
          "name": "stdout",
          "output_type": "stream",
          "text": [
            "EPOCHS : 14 train_loss : 0.019957569390535355 valid_loss : 0.1509270763397217\n"
          ]
        },
        {
          "name": "stderr",
          "output_type": "stream",
          "text": [
            "100%|██████████| 100/100 [00:29<00:00,  3.44it/s]\n",
            "100%|██████████| 25/25 [00:03<00:00,  6.87it/s]"
          ]
        },
        {
          "name": "stdout",
          "output_type": "stream",
          "text": [
            "EPOCHS : 15 train_loss : 0.021939456313848495 valid_loss : 0.1320684003829956\n"
          ]
        },
        {
          "name": "stderr",
          "output_type": "stream",
          "text": [
            "\n"
          ]
        }
      ],
      "source": [
        "best_valid_loss = np.inf\n",
        "\n",
        "for i in range(EPOCHS):\n",
        "\n",
        "  train_loss = train_fn(model, trainloader, optimizer, criterion)\n",
        "  valid_loss = eval_fn(model, validloader, criterion)\n",
        "\n",
        "  if valid_loss < best_valid_loss:\n",
        "    torch.save(model.state_dict(), \"best_model.pt\")\n",
        "    best_valid_loss = valid_loss\n",
        "    print(\"SAVED_WEIGHTS_SUCESS\")\n",
        "\n",
        "  print(f\"EPOCHS : {i+1} train_loss : {train_loss} valid_loss : {valid_loss}\")"
      ]
    },
    {
      "cell_type": "markdown",
      "metadata": {
        "id": "VQQbKYPRQbUG"
      },
      "source": [
        "# Get Anchor Embeddings"
      ]
    },
    {
      "cell_type": "code",
      "execution_count": 21,
      "metadata": {
        "id": "1OSKUvliQY9K"
      },
      "outputs": [],
      "source": [
        "def get_encoding_csv(model, anc_img_names):\n",
        "  anc_img_names_arr = np.array(anc_img_names)\n",
        "  encodings = []\n",
        "\n",
        "  model.eval()\n",
        "  with torch.no_grad():\n",
        "    for i in tqdm(anc_img_names_arr):\n",
        "      A = io.imread(DATA_DIR + \"/\" + i)\n",
        "      A = torch.from_numpy(A).permute(2, 0, 1) / 255.0\n",
        "      A = A.to(DEVICE)\n",
        "      A_enc = model(A.unsqueeze(0))\n",
        "      encodings.append(A_enc.squeeze().cpu().detach().numpy())\n",
        "\n",
        "    encodings = np.array(encodings)\n",
        "    encodings = pd.DataFrame(encodings)\n",
        "    df_enc = pd.concat([anc_img_names, encodings], axis=1)\n",
        "\n",
        "  return df_enc"
      ]
    },
    {
      "cell_type": "code",
      "execution_count": null,
      "metadata": {
        "colab": {
          "base_uri": "https://localhost:8080/"
        },
        "id": "rwwaSrVsQel0",
        "outputId": "15374024-f04f-4582-c8fd-3fe1d9d89665"
      },
      "outputs": [
        {
          "data": {
            "text/plain": [
              "<All keys matched successfully>"
            ]
          },
          "execution_count": 5,
          "metadata": {},
          "output_type": "execute_result"
        }
      ],
      "source": [
        "model.load_state_dict(torch.load(\"best_model.pt\"))\n",
        "df_enc = get_encoding_csv(model, df[\"Anchor\"])"
      ]
    },
    {
      "cell_type": "code",
      "execution_count": 25,
      "metadata": {
        "colab": {
          "base_uri": "https://localhost:8080/",
          "height": 256
        },
        "id": "jx8g5BuqQg_2",
        "outputId": "6e6a3f14-c5b2-429f-941e-eedee82f9be7"
      },
      "outputs": [
        {
          "data": {
            "text/html": [
              "<div>\n",
              "<style scoped>\n",
              "    .dataframe tbody tr th:only-of-type {\n",
              "        vertical-align: middle;\n",
              "    }\n",
              "\n",
              "    .dataframe tbody tr th {\n",
              "        vertical-align: top;\n",
              "    }\n",
              "\n",
              "    .dataframe thead th {\n",
              "        text-align: right;\n",
              "    }\n",
              "</style>\n",
              "<table border=\"1\" class=\"dataframe\">\n",
              "  <thead>\n",
              "    <tr style=\"text-align: right;\">\n",
              "      <th></th>\n",
              "      <th>Anchor</th>\n",
              "      <th>0</th>\n",
              "      <th>1</th>\n",
              "      <th>2</th>\n",
              "      <th>3</th>\n",
              "      <th>4</th>\n",
              "      <th>5</th>\n",
              "      <th>6</th>\n",
              "      <th>7</th>\n",
              "      <th>8</th>\n",
              "      <th>...</th>\n",
              "      <th>502</th>\n",
              "      <th>503</th>\n",
              "      <th>504</th>\n",
              "      <th>505</th>\n",
              "      <th>506</th>\n",
              "      <th>507</th>\n",
              "      <th>508</th>\n",
              "      <th>509</th>\n",
              "      <th>510</th>\n",
              "      <th>511</th>\n",
              "    </tr>\n",
              "  </thead>\n",
              "  <tbody>\n",
              "    <tr>\n",
              "      <th>0</th>\n",
              "      <td>1420_c5s3_052165_01.jpg</td>\n",
              "      <td>-0.030583</td>\n",
              "      <td>0.145966</td>\n",
              "      <td>0.378101</td>\n",
              "      <td>0.209250</td>\n",
              "      <td>-0.083715</td>\n",
              "      <td>-0.404291</td>\n",
              "      <td>0.036114</td>\n",
              "      <td>0.312116</td>\n",
              "      <td>-0.486999</td>\n",
              "      <td>...</td>\n",
              "      <td>0.614557</td>\n",
              "      <td>-0.080048</td>\n",
              "      <td>0.065632</td>\n",
              "      <td>0.535377</td>\n",
              "      <td>0.277494</td>\n",
              "      <td>0.590656</td>\n",
              "      <td>1.093547</td>\n",
              "      <td>0.588941</td>\n",
              "      <td>0.294551</td>\n",
              "      <td>-0.198625</td>\n",
              "    </tr>\n",
              "    <tr>\n",
              "      <th>1</th>\n",
              "      <td>1420_c3s3_061978_03.jpg</td>\n",
              "      <td>0.028648</td>\n",
              "      <td>0.085002</td>\n",
              "      <td>0.351765</td>\n",
              "      <td>0.211520</td>\n",
              "      <td>-0.140734</td>\n",
              "      <td>-0.645334</td>\n",
              "      <td>-0.043826</td>\n",
              "      <td>0.423686</td>\n",
              "      <td>-0.360870</td>\n",
              "      <td>...</td>\n",
              "      <td>0.412704</td>\n",
              "      <td>-0.206530</td>\n",
              "      <td>-0.009991</td>\n",
              "      <td>0.472302</td>\n",
              "      <td>0.346313</td>\n",
              "      <td>0.714154</td>\n",
              "      <td>1.182768</td>\n",
              "      <td>0.536564</td>\n",
              "      <td>0.211620</td>\n",
              "      <td>-0.162530</td>\n",
              "    </tr>\n",
              "    <tr>\n",
              "      <th>2</th>\n",
              "      <td>1420_c5s3_062565_05.jpg</td>\n",
              "      <td>0.060686</td>\n",
              "      <td>0.173928</td>\n",
              "      <td>0.315575</td>\n",
              "      <td>0.282380</td>\n",
              "      <td>-0.234788</td>\n",
              "      <td>-0.493188</td>\n",
              "      <td>-0.028236</td>\n",
              "      <td>0.379379</td>\n",
              "      <td>-0.630115</td>\n",
              "      <td>...</td>\n",
              "      <td>0.542017</td>\n",
              "      <td>-0.143773</td>\n",
              "      <td>-0.043910</td>\n",
              "      <td>0.493465</td>\n",
              "      <td>0.305910</td>\n",
              "      <td>0.615410</td>\n",
              "      <td>1.009384</td>\n",
              "      <td>0.555966</td>\n",
              "      <td>0.358632</td>\n",
              "      <td>-0.090887</td>\n",
              "    </tr>\n",
              "    <tr>\n",
              "      <th>3</th>\n",
              "      <td>1420_c6s3_085592_04.jpg</td>\n",
              "      <td>0.059594</td>\n",
              "      <td>0.178813</td>\n",
              "      <td>0.238690</td>\n",
              "      <td>0.270734</td>\n",
              "      <td>-0.107232</td>\n",
              "      <td>-0.388043</td>\n",
              "      <td>0.000575</td>\n",
              "      <td>0.465159</td>\n",
              "      <td>-0.539500</td>\n",
              "      <td>...</td>\n",
              "      <td>0.672439</td>\n",
              "      <td>0.030112</td>\n",
              "      <td>0.197906</td>\n",
              "      <td>0.619514</td>\n",
              "      <td>0.327309</td>\n",
              "      <td>0.250467</td>\n",
              "      <td>1.142647</td>\n",
              "      <td>0.624401</td>\n",
              "      <td>0.408454</td>\n",
              "      <td>-0.132191</td>\n",
              "    </tr>\n",
              "    <tr>\n",
              "      <th>4</th>\n",
              "      <td>0663_c5s3_085987_03.jpg</td>\n",
              "      <td>-0.060899</td>\n",
              "      <td>-0.481691</td>\n",
              "      <td>-0.535586</td>\n",
              "      <td>-0.362486</td>\n",
              "      <td>1.014107</td>\n",
              "      <td>-0.197700</td>\n",
              "      <td>0.188881</td>\n",
              "      <td>0.219662</td>\n",
              "      <td>0.733661</td>\n",
              "      <td>...</td>\n",
              "      <td>-0.587786</td>\n",
              "      <td>-0.141974</td>\n",
              "      <td>0.049215</td>\n",
              "      <td>0.117420</td>\n",
              "      <td>-0.372479</td>\n",
              "      <td>0.038281</td>\n",
              "      <td>-0.624101</td>\n",
              "      <td>-0.179498</td>\n",
              "      <td>-0.200224</td>\n",
              "      <td>-0.142891</td>\n",
              "    </tr>\n",
              "  </tbody>\n",
              "</table>\n",
              "<p>5 rows × 513 columns</p>\n",
              "</div>"
            ],
            "text/plain": [
              "                    Anchor         0         1         2         3         4  \\\n",
              "0  1420_c5s3_052165_01.jpg -0.030583  0.145966  0.378101  0.209250 -0.083715   \n",
              "1  1420_c3s3_061978_03.jpg  0.028648  0.085002  0.351765  0.211520 -0.140734   \n",
              "2  1420_c5s3_062565_05.jpg  0.060686  0.173928  0.315575  0.282380 -0.234788   \n",
              "3  1420_c6s3_085592_04.jpg  0.059594  0.178813  0.238690  0.270734 -0.107232   \n",
              "4  0663_c5s3_085987_03.jpg -0.060899 -0.481691 -0.535586 -0.362486  1.014107   \n",
              "\n",
              "          5         6         7         8  ...       502       503       504  \\\n",
              "0 -0.404291  0.036114  0.312116 -0.486999  ...  0.614557 -0.080048  0.065632   \n",
              "1 -0.645334 -0.043826  0.423686 -0.360870  ...  0.412704 -0.206530 -0.009991   \n",
              "2 -0.493188 -0.028236  0.379379 -0.630115  ...  0.542017 -0.143773 -0.043910   \n",
              "3 -0.388043  0.000575  0.465159 -0.539500  ...  0.672439  0.030112  0.197906   \n",
              "4 -0.197700  0.188881  0.219662  0.733661  ... -0.587786 -0.141974  0.049215   \n",
              "\n",
              "        505       506       507       508       509       510       511  \n",
              "0  0.535377  0.277494  0.590656  1.093547  0.588941  0.294551 -0.198625  \n",
              "1  0.472302  0.346313  0.714154  1.182768  0.536564  0.211620 -0.162530  \n",
              "2  0.493465  0.305910  0.615410  1.009384  0.555966  0.358632 -0.090887  \n",
              "3  0.619514  0.327309  0.250467  1.142647  0.624401  0.408454 -0.132191  \n",
              "4  0.117420 -0.372479  0.038281 -0.624101 -0.179498 -0.200224 -0.142891  \n",
              "\n",
              "[5 rows x 513 columns]"
            ]
          },
          "execution_count": 25,
          "metadata": {},
          "output_type": "execute_result"
        }
      ],
      "source": [
        "# df_enc.to_csv(\"database.csv\", index=False)\n",
        "df_enc.head()"
      ]
    },
    {
      "cell_type": "markdown",
      "metadata": {
        "id": "dVtNcaEkQjLN"
      },
      "source": [
        "# Inference"
      ]
    },
    {
      "cell_type": "code",
      "execution_count": 26,
      "metadata": {
        "id": "ElGXlwz5Qm-V"
      },
      "outputs": [],
      "source": [
        "def euclidean_dist(img_enc, anc_enc_arr):\n",
        "  dist = np.sqrt(np.dot(img_enc - anc_enc_arr, (img_enc - anc_enc_arr).T))\n",
        "  return dist"
      ]
    },
    {
      "cell_type": "code",
      "execution_count": 6,
      "metadata": {
        "id": "ByS2zP5gQsAm"
      },
      "outputs": [],
      "source": [
        "# idx = 0\n",
        "# img_name = df_enc[\"Anchor\"].iloc[idx]\n",
        "# img_path = DATA_DIR + \"/\" + img_name\n",
        "\n",
        "\n",
        "img_path = \"/home/akansh_26/Hackathons/VisionX-AI/Person-Re-Id-Dataset/train/0002_c1s1_000451_03.jpg\"\n",
        "img = io.imread(img_path)\n",
        "img = torch.from_numpy(img).permute(2, 0, 1) / 255.0\n",
        "\n",
        "model.eval()\n",
        "with torch.no_grad():\n",
        "  img = img.to(DEVICE)\n",
        "  img_enc = model(img.unsqueeze(0))\n",
        "  img_enc = img_enc.detach().cpu().numpy()"
      ]
    },
    {
      "cell_type": "code",
      "execution_count": 29,
      "metadata": {
        "id": "MJ3qM84GYCaN"
      },
      "outputs": [],
      "source": [
        "anc_enc_arr = df_enc.iloc[:, 1:].to_numpy()\n",
        "anc_img_names = df_enc[\"Anchor\"]"
      ]
    },
    {
      "cell_type": "code",
      "execution_count": 30,
      "metadata": {
        "id": "wF8PGtXzQvN7"
      },
      "outputs": [],
      "source": [
        "distance = []\n",
        "\n",
        "for i in range(anc_enc_arr.shape[0]):\n",
        "  dist = euclidean_dist(img_enc, anc_enc_arr[i: i+1, :])\n",
        "  distance = np.append(distance, dist)"
      ]
    },
    {
      "cell_type": "code",
      "execution_count": 31,
      "metadata": {
        "id": "R8aI0QAIQxu-"
      },
      "outputs": [],
      "source": [
        "closest_idx = np.argsort(distance)"
      ]
    },
    {
      "cell_type": "code",
      "execution_count": 27,
      "metadata": {
        "colab": {
          "base_uri": "https://localhost:8080/",
          "height": 460
        },
        "id": "UAy1dbmYQ2oQ",
        "outputId": "4d96f8db-e770-4397-8b9a-466299b17a54"
      },
      "outputs": [],
      "source": [
        "# from utils import plot_closest_imgs\n",
        "\n",
        "# plot_closest_imgs(anc_img_names, DATA_DIR, img, img_path, closest_idx, distance, no_of_closest = 5)"
      ]
    },
    {
      "cell_type": "code",
      "execution_count": 7,
      "metadata": {},
      "outputs": [
        {
          "data": {
            "text/plain": [
              "array([[-2.30104148e-01,  5.02276480e-01, -3.14050227e-01,\n",
              "         4.72110733e-02, -7.14849293e-01, -3.13992083e-01,\n",
              "         4.97849077e-01,  4.47970480e-01,  3.60686123e-01,\n",
              "        -2.96213895e-01,  1.88934758e-01,  6.27248362e-02,\n",
              "        -5.08665979e-01,  4.52592038e-02,  2.94613481e-01,\n",
              "        -1.75169930e-01, -5.15202358e-02, -1.61332101e-01,\n",
              "        -6.67865649e-02, -3.87494147e-01, -2.73111135e-01,\n",
              "        -3.54947478e-01,  4.03545201e-01,  3.99622858e-01,\n",
              "        -8.70272070e-02, -5.45647517e-02,  1.77833326e-02,\n",
              "         4.67772752e-01, -1.75091863e-01, -6.01303995e-01,\n",
              "         2.00474456e-01,  2.46197075e-01,  8.52659196e-02,\n",
              "        -2.60367662e-01, -5.21950461e-02, -9.18043494e-01,\n",
              "        -2.65422404e-01, -6.51405528e-02,  3.18120807e-01,\n",
              "        -2.71642338e-02, -6.19350433e-01, -6.18257105e-01,\n",
              "        -3.14830869e-01, -9.04950440e-01,  7.45026231e-01,\n",
              "         5.45590699e-01, -2.32499644e-01,  8.69788602e-02,\n",
              "        -1.53207645e-01, -6.47111684e-02,  7.76314199e-01,\n",
              "         7.20148534e-02, -2.04356790e-01,  1.20396829e+00,\n",
              "        -6.68873787e-02,  6.77177966e-01, -8.38907182e-01,\n",
              "        -9.16493163e-02, -2.39122167e-01,  4.15408581e-01,\n",
              "         2.12970316e-01, -3.97123158e-01,  3.08314055e-01,\n",
              "         4.90507811e-01, -9.93639454e-02, -6.13203228e-01,\n",
              "        -2.70316843e-02, -2.05486119e-01, -2.31823966e-01,\n",
              "         3.39655757e-01, -8.49664286e-02,  5.80807149e-01,\n",
              "         2.98611015e-01,  1.72534868e-01,  1.05720624e-01,\n",
              "         8.90894711e-01, -1.55891195e-01,  5.67491353e-01,\n",
              "        -4.37013060e-03, -3.76100540e-01, -1.27190506e+00,\n",
              "        -3.99502993e-01,  2.49676794e-01, -1.51879847e-01,\n",
              "        -9.89676118e-02,  1.12377353e-01,  3.00410628e-01,\n",
              "        -4.48229432e-01,  2.63062775e-01,  2.52779812e-01,\n",
              "         4.60251391e-01,  4.77120847e-01, -8.82651359e-02,\n",
              "        -6.60258412e-01,  2.30256826e-01, -5.65961123e-01,\n",
              "        -2.76665032e-01,  2.20598429e-01,  8.73322427e-01,\n",
              "        -2.69502103e-01, -1.67014729e-02, -5.37923276e-01,\n",
              "         7.12000430e-02, -2.12830842e-01, -1.75179839e-01,\n",
              "         4.30646718e-01, -6.20292544e-01,  4.25660372e-01,\n",
              "        -3.02164316e-01, -4.66046125e-01, -6.40073299e-01,\n",
              "         8.42134833e-01, -6.16259396e-01, -4.39557619e-02,\n",
              "         2.14182772e-02,  7.62804747e-01, -6.57815874e-01,\n",
              "         5.35298824e-01, -2.28446200e-01,  8.89247179e-01,\n",
              "         2.08372161e-01,  8.98031890e-02,  8.14213157e-01,\n",
              "         1.61834985e-01, -1.00793338e+00, -5.27230322e-01,\n",
              "         3.77259701e-01, -3.71615380e-01, -4.11567092e-01,\n",
              "         3.23797882e-01, -1.47616342e-01,  6.91876054e-01,\n",
              "         2.99042985e-02,  5.38498163e-01,  3.83753300e-01,\n",
              "        -4.82825816e-01, -2.76740044e-01, -7.60828793e-01,\n",
              "         3.46965455e-02, -4.50727969e-01, -7.25745499e-01,\n",
              "        -6.24848127e-01,  1.31414890e-01,  8.77054095e-01,\n",
              "         4.74767387e-01, -5.29023647e-01,  2.67689556e-01,\n",
              "        -1.84725538e-01, -1.14384115e-01,  4.49295700e-01,\n",
              "         1.02308445e-01, -3.76727909e-01, -1.77013516e-01,\n",
              "        -4.10374403e-01,  2.24470417e-03, -2.12071147e-02,\n",
              "        -7.93727264e-02,  9.54713464e-01, -3.99400473e-01,\n",
              "        -4.86088485e-01, -1.68037266e-01, -3.15726489e-01,\n",
              "         1.00966692e+00, -7.66717732e-01, -4.70199227e-01,\n",
              "        -3.81098330e-01, -3.01387291e-02,  3.74883682e-01,\n",
              "         3.88482034e-01, -8.42278004e-02, -3.04026723e-01,\n",
              "         2.25336179e-01,  1.76628992e-01,  1.26208916e-01,\n",
              "         3.20471555e-01, -2.52707619e-02,  1.02897525e-01,\n",
              "         6.89876854e-01,  5.85682273e-01,  3.42358887e-01,\n",
              "        -4.68972474e-01, -1.13642287e+00, -9.73021865e-01,\n",
              "        -4.06383649e-02,  1.71315834e-01,  7.00215176e-02,\n",
              "         2.48613171e-02,  2.81270921e-01,  1.94462508e-01,\n",
              "        -7.06054509e-01,  4.39743906e-01,  3.23894888e-01,\n",
              "         8.40260327e-01, -4.15009201e-01,  4.57204252e-01,\n",
              "         4.05679829e-02,  1.47148408e-02, -6.65284872e-01,\n",
              "         9.68092382e-01, -3.05530243e-02, -1.38195559e-01,\n",
              "        -1.83167696e-01, -4.13683414e-01, -3.14058483e-01,\n",
              "        -3.83212507e-01, -1.97861139e-02,  4.13910717e-01,\n",
              "         2.00887352e-01, -6.84518456e-01, -4.01031077e-02,\n",
              "        -6.24674380e-01,  5.37634492e-01,  2.64355868e-01,\n",
              "        -5.37447989e-01,  8.87356043e-01,  5.32762170e-01,\n",
              "         4.10692900e-01,  1.74355254e-01,  1.93425864e-01,\n",
              "         4.06335771e-01, -1.77258536e-01, -7.90537357e-01,\n",
              "         4.59573716e-01,  7.01801598e-01,  2.42853388e-01,\n",
              "         2.41705835e-01,  7.25230753e-01,  7.57220611e-02,\n",
              "         7.86796063e-02, -8.25683251e-02, -3.43988836e-01,\n",
              "        -7.87844181e-01, -1.28113702e-01, -3.21394354e-01,\n",
              "        -2.36751229e-01,  1.66330189e-01,  1.20515421e-01,\n",
              "         1.00643051e+00, -6.51012003e-01,  4.01020586e-01,\n",
              "         2.44651228e-01,  7.06034601e-02, -2.80105807e-02,\n",
              "         5.29142082e-01, -1.40243173e-01,  2.05229431e-01,\n",
              "         1.79126069e-01,  3.63982350e-01, -7.66181827e-01,\n",
              "        -5.42647481e-01,  1.42716840e-02, -1.65380776e-01,\n",
              "        -2.56342441e-01, -4.37253475e-01,  1.21176648e+00,\n",
              "         8.14863861e-01, -3.14115465e-01, -1.23578325e-01,\n",
              "        -3.23786259e-01, -3.12723845e-01, -2.91738778e-01,\n",
              "        -3.18672210e-01,  1.44920796e-01,  5.28146625e-01,\n",
              "        -1.26660228e-01,  9.68207598e-01,  6.20943308e-01,\n",
              "         6.14829026e-02,  6.15430593e-01,  1.45958555e+00,\n",
              "         1.83056265e-01, -6.01456404e-01,  7.11743310e-02,\n",
              "        -1.11203473e-02, -5.20192683e-01,  1.45162949e-02,\n",
              "        -1.93587124e-01,  1.24000952e-01, -7.57532120e-01,\n",
              "         4.59112108e-01, -1.84075069e+00, -4.48681712e-01,\n",
              "         1.83985941e-02,  2.87096351e-01,  4.54724073e-01,\n",
              "         5.65624058e-01,  3.08987468e-01, -4.55931604e-01,\n",
              "        -6.57822266e-02,  6.89374864e-01,  2.06597686e-01,\n",
              "        -3.05639088e-01, -1.27995491e-01,  1.28465578e-01,\n",
              "         4.21242386e-01, -1.71079040e-01,  3.15747738e-01,\n",
              "        -1.36600697e+00,  6.00823283e-01, -3.83611828e-01,\n",
              "        -1.62047073e-01,  2.63415396e-01,  1.09555578e+00,\n",
              "         7.25099325e-01, -1.07862301e-01,  5.70635498e-01,\n",
              "         1.26128519e+00,  1.44755647e-01, -6.87877119e-01,\n",
              "         4.29779857e-01,  3.47248644e-01, -4.78235602e-01,\n",
              "        -4.28562284e-01, -1.04157686e-01, -1.83178186e-01,\n",
              "         3.97584110e-01, -1.69954449e-01, -2.46470589e-02,\n",
              "        -6.96129143e-01,  1.78561732e-01,  3.77040446e-01,\n",
              "         3.06632668e-01,  6.05192006e-01, -6.10302426e-02,\n",
              "         7.29174376e-01, -1.21752512e+00, -9.42132294e-01,\n",
              "        -3.77708137e-01,  1.37991399e-01,  6.24255955e-01,\n",
              "         9.06357586e-01, -5.59960864e-03, -2.21041322e-01,\n",
              "        -4.95051742e-01,  3.09401333e-01,  1.04041839e+00,\n",
              "         6.99483633e-01, -6.27691984e-01, -4.77467418e-01,\n",
              "        -7.66261637e-01, -3.06605399e-01, -6.55863136e-02,\n",
              "        -1.13526404e-01,  5.33503532e-01, -6.12389743e-01,\n",
              "        -1.83992296e-01,  6.13595903e-01, -4.18022245e-01,\n",
              "        -1.27966955e-01, -2.69198954e-01, -9.39366221e-02,\n",
              "         1.67677850e-01,  2.66064703e-01,  4.21148568e-01,\n",
              "         1.34297028e-01,  3.03721368e-01,  2.35764861e-01,\n",
              "         3.56150806e-01,  5.28504431e-01,  5.72453141e-01,\n",
              "        -2.86401808e-01, -2.81937625e-02, -7.76083916e-02,\n",
              "        -1.39103234e-02, -6.94943190e-01,  4.16099191e-01,\n",
              "         1.48657411e-01,  7.84154117e-01,  4.14701194e-01,\n",
              "        -5.15507638e-01,  1.82848692e-01,  2.75322169e-01,\n",
              "        -2.53438860e-01, -1.61691662e-03,  4.58483040e-01,\n",
              "         2.36915350e-01, -8.98437023e-01, -2.86639482e-01,\n",
              "        -5.23960412e-01,  1.30600703e+00, -6.82834029e-01,\n",
              "        -2.93783337e-01, -4.23155427e-01, -5.68120301e-01,\n",
              "         1.82970256e-01,  3.62430453e-01, -4.17683661e-01,\n",
              "        -3.63364816e-01, -1.77518904e-01,  7.54391551e-01,\n",
              "        -5.14154613e-01,  5.19282877e-01, -4.26446557e-01,\n",
              "        -5.17610870e-02, -9.24526155e-01,  1.22827820e-01,\n",
              "        -1.22858249e-01, -6.83533192e-01, -5.09239435e-01,\n",
              "         8.40877771e-01,  6.24758542e-01, -3.25963557e-01,\n",
              "         1.66352224e-02, -2.97799945e-01, -3.97233039e-01,\n",
              "        -3.56772929e-01, -3.16016115e-02, -5.02578974e-01,\n",
              "         7.84212410e-01,  7.45281219e-01,  1.16986835e+00,\n",
              "         5.47445774e-01,  4.87980843e-01, -4.93860580e-02,\n",
              "         5.27958333e-01, -5.76808214e-01, -2.74464726e-01,\n",
              "         1.28154540e-02,  6.43022597e-01, -1.65858537e-01,\n",
              "         3.14121664e-01,  2.68064946e-01, -5.44254303e-01,\n",
              "         1.48013964e-01, -6.00522012e-02,  2.56970495e-01,\n",
              "        -1.16632678e-01, -3.74101639e-01,  1.18639760e-01,\n",
              "         8.78049508e-02,  4.06555474e-01,  3.66302729e-01,\n",
              "        -9.12128016e-02, -5.77110052e-02, -4.29942250e-01,\n",
              "        -4.16519761e-01, -1.70724601e-01,  8.18116888e-02,\n",
              "        -7.31941938e-01,  7.30021745e-02, -3.95482898e-01,\n",
              "        -1.33167803e-01,  7.02077866e-01, -3.99926990e-01,\n",
              "        -2.24728927e-01, -3.40703160e-01,  5.94969988e-01,\n",
              "        -2.64163464e-02,  5.67815863e-02, -3.78480218e-02,\n",
              "        -1.80235058e-01,  1.10105371e+00, -7.31039569e-02,\n",
              "         5.63896775e-01, -5.64471424e-01, -9.41010594e-01,\n",
              "        -2.06663504e-01,  1.55768648e-01,  2.88852274e-01,\n",
              "        -4.33004081e-01, -4.75268625e-02, -4.44926441e-01,\n",
              "        -9.49819386e-01,  5.07771075e-02,  1.21253967e-01,\n",
              "         1.20080754e-01,  6.30030513e-01,  1.28390864e-02,\n",
              "         1.08892012e+00,  2.63985604e-01, -2.45070130e-01,\n",
              "        -9.25811887e-01,  1.05779663e-01, -1.00998306e+00,\n",
              "        -4.98315156e-01, -5.91178358e-01, -1.39708564e-01,\n",
              "        -6.37948155e-01, -3.01816344e-01,  4.12319779e-01,\n",
              "        -4.16647494e-01,  2.50910461e-01, -4.35895354e-01,\n",
              "         1.61280662e-01,  1.86573774e-01, -6.82391942e-01,\n",
              "        -1.23135969e-01,  3.23595226e-01,  5.29355168e-01,\n",
              "        -1.84350107e-02, -3.74893397e-01,  1.45765007e-01,\n",
              "        -1.15521574e+00,  7.97958672e-01, -2.90241092e-01,\n",
              "        -2.07573697e-01, -3.39955017e-02,  5.79039574e-01,\n",
              "        -4.71845061e-01, -5.02918839e-01, -2.04170525e-01,\n",
              "         1.70679204e-03,  1.50999695e-01,  3.03257644e-01,\n",
              "         1.85970247e-01,  4.53519002e-02,  8.36656630e-01,\n",
              "        -9.15447474e-01,  7.55802572e-01,  7.45065331e-01,\n",
              "        -7.98076034e-01, -2.92199820e-01]], dtype=float32)"
            ]
          },
          "execution_count": 7,
          "metadata": {},
          "output_type": "execute_result"
        }
      ],
      "source": [
        "img_enc"
      ]
    },
    {
      "cell_type": "code",
      "execution_count": null,
      "metadata": {},
      "outputs": [],
      "source": []
    }
  ],
  "metadata": {
    "accelerator": "GPU",
    "colab": {
      "gpuType": "T4",
      "provenance": []
    },
    "kernelspec": {
      "display_name": "base",
      "language": "python",
      "name": "python3"
    },
    "language_info": {
      "codemirror_mode": {
        "name": "ipython",
        "version": 3
      },
      "file_extension": ".py",
      "mimetype": "text/x-python",
      "name": "python",
      "nbconvert_exporter": "python",
      "pygments_lexer": "ipython3",
      "version": "3.12.7"
    }
  },
  "nbformat": 4,
  "nbformat_minor": 0
}
